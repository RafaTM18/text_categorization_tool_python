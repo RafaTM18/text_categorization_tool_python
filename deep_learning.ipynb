{
 "metadata": {
  "language_info": {
   "codemirror_mode": {
    "name": "ipython",
    "version": 3
   },
   "file_extension": ".py",
   "mimetype": "text/x-python",
   "name": "python",
   "nbconvert_exporter": "python",
   "pygments_lexer": "ipython3",
   "version": "3.7.3-final"
  },
  "orig_nbformat": 2,
  "kernelspec": {
   "name": "python3",
   "display_name": "Python 3",
   "language": "python"
  }
 },
 "nbformat": 4,
 "nbformat_minor": 2,
 "cells": [
  {
   "source": [
    "# Importações"
   ],
   "cell_type": "markdown",
   "metadata": {}
  },
  {
   "cell_type": "code",
   "execution_count": 172,
   "metadata": {},
   "outputs": [],
   "source": [
    "import tensorflow as tf\n",
    "import pandas as pd\n",
    "import numpy as np\n",
    "from tensorflow.keras.preprocessing.text import Tokenizer\n",
    "from tensorflow.keras.preprocessing.sequence import pad_sequences\n",
    "from tensorflow.keras.layers import Dense, Input, GlobalMaxPooling1D, Conv1D, MaxPooling1D, Embedding, LSTM, Bidirectional, GRU, Bidirectional, Dropout\n",
    "from tensorflow.keras.models import Model \n",
    "from sklearn.metrics import roc_auc_score\n",
    "from sklearn.preprocessing import LabelEncoder\n",
    "from sklearn.model_selection import StratifiedKFold\n",
    "from sklearn.metrics import accuracy_score, f1_score, roc_auc_score\n",
    "import os\n",
    "\n",
    "from tensorflow.compat.v1 import ConfigProto\n",
    "from tensorflow.compat.v1 import InteractiveSession\n",
    "from tensorflow.compat.v1.keras.backend import set_session\n",
    "\n",
    "config = ConfigProto()\n",
    "config.gpu_options.allow_growth = True\n",
    "session = InteractiveSession(config=config)\n",
    "set_session(sess)\n",
    "\n",
    "np.seed = 42"
   ]
  },
  {
   "cell_type": "code",
   "execution_count": 2,
   "metadata": {},
   "outputs": [
    {
     "output_type": "stream",
     "name": "stdout",
     "text": [
      "Device mapping:\n/job:localhost/replica:0/task:0/device:XLA_CPU:0 -> device: XLA_CPU device\n/job:localhost/replica:0/task:0/device:GPU:0 -> device: 0, name: GeForce GTX 1050, pci bus id: 0000:01:00.0, compute capability: 6.1\n/job:localhost/replica:0/task:0/device:XLA_GPU:0 -> device: XLA_GPU device\n\n"
     ]
    }
   ],
   "source": [
    "#import tensorflow as tf\n",
    "#from tensorflow.compat.v1.keras.backend import set_session\n",
    "#config = tf.compat.v1.ConfigProto()\n",
    "#config.gpu_options.allow_growth = True  # dynamically grow the memory used on the GPU\n",
    "#config.log_device_placement = True  # to log device placement (on which device the operation ran)\n",
    "#sess = tf.compat.v1.Session(config=config)\n",
    "#set_session(sess)"
   ]
  },
  {
   "cell_type": "code",
   "execution_count": 3,
   "metadata": {},
   "outputs": [],
   "source": [
    "#os.environ['TF_FORCE_GPU_ALLOW_GROWTH'] = 'true'"
   ]
  },
  {
   "source": [
    "# Lendo a base de dados"
   ],
   "cell_type": "markdown",
   "metadata": {}
  },
  {
   "cell_type": "code",
   "execution_count": 55,
   "metadata": {},
   "outputs": [],
   "source": [
    "df = pd.read_csv('CSTR.csv')"
   ]
  },
  {
   "cell_type": "code",
   "execution_count": 56,
   "metadata": {},
   "outputs": [
    {
     "output_type": "execute_result",
     "data": {
      "text/plain": [
       "    file_name                                               text  \\\n",
       "0     126.txt  Rhetorical (Rhet) is a programming / knowledge...   \n",
       "1       5.txt  Reduction is the operation of transforming a p...   \n",
       "2      48.txt  For years, researchers have used knowledge-int...   \n",
       "3      81.txt  Proceedings of a workshop held in conjunction ...   \n",
       "4      25.txt  The Medication Advisor is the latest project o...   \n",
       "..        ...                                                ...   \n",
       "294    39.txt  Scoring protocols are a broad class of voting ...   \n",
       "295     5.txt  We study the behavior of Range Voting and Norm...   \n",
       "296    28.txt  Using entropy of traffic distributions has bee...   \n",
       "297    27.txt  We study the complexity of influencing electio...   \n",
       "298     4.txt  In 1992, Bartholdi, Tovey, and Trick  opened t...   \n",
       "\n",
       "                       class  \n",
       "0    ArtificiallIntelligence  \n",
       "1    ArtificiallIntelligence  \n",
       "2    ArtificiallIntelligence  \n",
       "3    ArtificiallIntelligence  \n",
       "4    ArtificiallIntelligence  \n",
       "..                       ...  \n",
       "294                   Theory  \n",
       "295                   Theory  \n",
       "296                   Theory  \n",
       "297                   Theory  \n",
       "298                   Theory  \n",
       "\n",
       "[299 rows x 3 columns]"
      ],
      "text/html": "<div>\n<style scoped>\n    .dataframe tbody tr th:only-of-type {\n        vertical-align: middle;\n    }\n\n    .dataframe tbody tr th {\n        vertical-align: top;\n    }\n\n    .dataframe thead th {\n        text-align: right;\n    }\n</style>\n<table border=\"1\" class=\"dataframe\">\n  <thead>\n    <tr style=\"text-align: right;\">\n      <th></th>\n      <th>file_name</th>\n      <th>text</th>\n      <th>class</th>\n    </tr>\n  </thead>\n  <tbody>\n    <tr>\n      <th>0</th>\n      <td>126.txt</td>\n      <td>Rhetorical (Rhet) is a programming / knowledge...</td>\n      <td>ArtificiallIntelligence</td>\n    </tr>\n    <tr>\n      <th>1</th>\n      <td>5.txt</td>\n      <td>Reduction is the operation of transforming a p...</td>\n      <td>ArtificiallIntelligence</td>\n    </tr>\n    <tr>\n      <th>2</th>\n      <td>48.txt</td>\n      <td>For years, researchers have used knowledge-int...</td>\n      <td>ArtificiallIntelligence</td>\n    </tr>\n    <tr>\n      <th>3</th>\n      <td>81.txt</td>\n      <td>Proceedings of a workshop held in conjunction ...</td>\n      <td>ArtificiallIntelligence</td>\n    </tr>\n    <tr>\n      <th>4</th>\n      <td>25.txt</td>\n      <td>The Medication Advisor is the latest project o...</td>\n      <td>ArtificiallIntelligence</td>\n    </tr>\n    <tr>\n      <th>...</th>\n      <td>...</td>\n      <td>...</td>\n      <td>...</td>\n    </tr>\n    <tr>\n      <th>294</th>\n      <td>39.txt</td>\n      <td>Scoring protocols are a broad class of voting ...</td>\n      <td>Theory</td>\n    </tr>\n    <tr>\n      <th>295</th>\n      <td>5.txt</td>\n      <td>We study the behavior of Range Voting and Norm...</td>\n      <td>Theory</td>\n    </tr>\n    <tr>\n      <th>296</th>\n      <td>28.txt</td>\n      <td>Using entropy of traffic distributions has bee...</td>\n      <td>Theory</td>\n    </tr>\n    <tr>\n      <th>297</th>\n      <td>27.txt</td>\n      <td>We study the complexity of influencing electio...</td>\n      <td>Theory</td>\n    </tr>\n    <tr>\n      <th>298</th>\n      <td>4.txt</td>\n      <td>In 1992, Bartholdi, Tovey, and Trick  opened t...</td>\n      <td>Theory</td>\n    </tr>\n  </tbody>\n</table>\n<p>299 rows × 3 columns</p>\n</div>"
     },
     "metadata": {},
     "execution_count": 56
    }
   ],
   "source": [
    "df"
   ]
  },
  {
   "cell_type": "code",
   "execution_count": 57,
   "metadata": {},
   "outputs": [
    {
     "output_type": "execute_result",
     "data": {
      "text/plain": [
       "(299, 3)"
      ]
     },
     "metadata": {},
     "execution_count": 57
    }
   ],
   "source": [
    "df.shape"
   ]
  },
  {
   "cell_type": "code",
   "execution_count": 58,
   "metadata": {},
   "outputs": [],
   "source": [
    "texts = df['text']\n",
    "classes = df['class']\n",
    "possible_labels = classes.unique()"
   ]
  },
  {
   "cell_type": "code",
   "execution_count": 59,
   "metadata": {},
   "outputs": [
    {
     "output_type": "execute_result",
     "data": {
      "text/plain": [
       "array(['ArtificiallIntelligence', 'Robotics', 'Systems', 'Theory'],\n",
       "      dtype=object)"
      ]
     },
     "metadata": {},
     "execution_count": 59
    }
   ],
   "source": [
    "possible_labels"
   ]
  },
  {
   "cell_type": "code",
   "execution_count": 60,
   "metadata": {},
   "outputs": [
    {
     "output_type": "execute_result",
     "data": {
      "text/plain": [
       "LabelEncoder()"
      ]
     },
     "metadata": {},
     "execution_count": 60
    }
   ],
   "source": [
    "encoder = LabelEncoder()\n",
    "encoder.fit(classes)"
   ]
  },
  {
   "cell_type": "code",
   "execution_count": 61,
   "metadata": {},
   "outputs": [],
   "source": [
    "y = encoder.transform(classes)"
   ]
  },
  {
   "source": [
    "# Definições"
   ],
   "cell_type": "markdown",
   "metadata": {}
  },
  {
   "cell_type": "code",
   "execution_count": 189,
   "metadata": {},
   "outputs": [],
   "source": [
    "MAX_SEQUENCE_LENGHT = 500\n",
    "MAX_VOCAB_SIZE = 20000\n",
    "EMBEDDING_DIM = 100\n",
    "BATCH_SIZE = 10\n",
    "EPOCHS = 100"
   ]
  },
  {
   "source": [
    "# Pré-processando os textos"
   ],
   "cell_type": "markdown",
   "metadata": {}
  },
  {
   "source": [
    "## Tokenização"
   ],
   "cell_type": "markdown",
   "metadata": {}
  },
  {
   "cell_type": "code",
   "execution_count": 63,
   "metadata": {},
   "outputs": [],
   "source": [
    "tokenizer = Tokenizer(num_words=MAX_VOCAB_SIZE)\n",
    "tokenizer.fit_on_texts(texts)\n",
    "sequences = tokenizer.texts_to_sequences(texts)"
   ]
  },
  {
   "cell_type": "code",
   "execution_count": 64,
   "metadata": {},
   "outputs": [
    {
     "output_type": "execute_result",
     "data": {
      "text/plain": [
       "299"
      ]
     },
     "metadata": {},
     "execution_count": 64
    }
   ],
   "source": [
    "len(sequences)"
   ]
  },
  {
   "cell_type": "code",
   "execution_count": 65,
   "metadata": {},
   "outputs": [],
   "source": [
    "num_words = min(MAX_VOCAB_SIZE, len(tokenizer.word_index)+1)"
   ]
  },
  {
   "source": [
    "## Paddando (completando com 0 as posições faltantes para que todas as sequências tenham o mesmo tamanho)"
   ],
   "cell_type": "markdown",
   "metadata": {}
  },
  {
   "cell_type": "code",
   "execution_count": 66,
   "metadata": {},
   "outputs": [],
   "source": [
    "X = pad_sequences(sequences,maxlen=MAX_SEQUENCE_LENGHT)"
   ]
  },
  {
   "cell_type": "code",
   "execution_count": 67,
   "metadata": {},
   "outputs": [
    {
     "output_type": "execute_result",
     "data": {
      "text/plain": [
       "(299, 500)"
      ]
     },
     "metadata": {},
     "execution_count": 67
    }
   ],
   "source": [
    "X.shape"
   ]
  },
  {
   "source": [
    "# Separando o conjunto de treino e teste"
   ],
   "cell_type": "markdown",
   "metadata": {}
  },
  {
   "cell_type": "code",
   "execution_count": 125,
   "metadata": {},
   "outputs": [],
   "source": [
    "X_train, X_test, y_train, y_test = train_test_split(X, y, test_size=0.1)"
   ]
  },
  {
   "cell_type": "code",
   "execution_count": 184,
   "metadata": {},
   "outputs": [],
   "source": [
    "kf = StratifiedKFold(n_splits=10, shuffle=True, random_state=None)\n",
    "num_classes = len(possible_labels)"
   ]
  },
  {
   "cell_type": "code",
   "execution_count": 193,
   "metadata": {
    "tags": [
     "outputPrepend"
    ]
   },
   "outputs": [
    {
     "output_type": "stream",
     "name": "stdout",
     "text": [
      " 2s 6ms/sample - loss: 0.1494 - accuracy: 0.9554\n",
      "Epoch 10/100\n",
      "269/269 [==============================] - 2s 6ms/sample - loss: 0.1003 - accuracy: 0.9851\n",
      "Epoch 11/100\n",
      "269/269 [==============================] - 2s 6ms/sample - loss: 0.0913 - accuracy: 0.9703\n",
      "Epoch 12/100\n",
      "269/269 [==============================] - 2s 6ms/sample - loss: 0.0791 - accuracy: 0.9851\n",
      "Epoch 13/100\n",
      "269/269 [==============================] - 2s 6ms/sample - loss: 0.0630 - accuracy: 0.9777\n",
      "Epoch 14/100\n",
      "269/269 [==============================] - 2s 6ms/sample - loss: 0.0472 - accuracy: 0.9888\n",
      "Epoch 15/100\n",
      "269/269 [==============================] - 2s 6ms/sample - loss: 0.0613 - accuracy: 0.9777\n",
      "Epoch 16/100\n",
      "269/269 [==============================] - 2s 6ms/sample - loss: 0.0316 - accuracy: 0.9926\n",
      "Epoch 17/100\n",
      "269/269 [==============================] - 2s 6ms/sample - loss: 0.0491 - accuracy: 0.9777\n",
      "Epoch 18/100\n",
      "269/269 [==============================] - 2s 6ms/sample - loss: 0.0435 - accuracy: 0.9814\n",
      "Epoch 19/100\n",
      "269/269 [==============================] - 2s 6ms/sample - loss: 0.0486 - accuracy: 0.9814\n",
      "Epoch 20/100\n",
      "269/269 [==============================] - 2s 6ms/sample - loss: 0.0553 - accuracy: 0.9777\n",
      "Epoch 21/100\n",
      "269/269 [==============================] - 2s 6ms/sample - loss: 0.0426 - accuracy: 0.9814\n",
      "Epoch 22/100\n",
      "269/269 [==============================] - 2s 6ms/sample - loss: 0.0402 - accuracy: 0.9777\n",
      "Epoch 23/100\n",
      "269/269 [==============================] - 2s 6ms/sample - loss: 0.0331 - accuracy: 0.9926\n",
      "Epoch 24/100\n",
      "269/269 [==============================] - 2s 6ms/sample - loss: 0.0425 - accuracy: 0.9814\n",
      "Epoch 25/100\n",
      "269/269 [==============================] - 2s 6ms/sample - loss: 0.0504 - accuracy: 0.9777\n",
      "Epoch 26/100\n",
      "269/269 [==============================] - 2s 6ms/sample - loss: 0.0363 - accuracy: 0.9740\n",
      "Epoch 27/100\n",
      "269/269 [==============================] - 2s 6ms/sample - loss: 0.0449 - accuracy: 0.9740\n",
      "Epoch 28/100\n",
      "269/269 [==============================] - 2s 6ms/sample - loss: 0.0721 - accuracy: 0.9665\n",
      "Epoch 29/100\n",
      "269/269 [==============================] - 2s 6ms/sample - loss: 0.0544 - accuracy: 0.9777\n",
      "Epoch 30/100\n",
      "269/269 [==============================] - 2s 6ms/sample - loss: 0.1215 - accuracy: 0.9703\n",
      "Epoch 31/100\n",
      "269/269 [==============================] - 2s 6ms/sample - loss: 0.1121 - accuracy: 0.9405\n",
      "Epoch 32/100\n",
      "269/269 [==============================] - 2s 6ms/sample - loss: 0.1290 - accuracy: 0.9628\n",
      "Epoch 33/100\n",
      "269/269 [==============================] - 2s 6ms/sample - loss: 0.0607 - accuracy: 0.9703\n",
      "Epoch 34/100\n",
      "269/269 [==============================] - 2s 6ms/sample - loss: 0.0424 - accuracy: 0.9814\n",
      "Epoch 35/100\n",
      "269/269 [==============================] - 2s 6ms/sample - loss: 0.0368 - accuracy: 0.9888\n",
      "Epoch 36/100\n",
      "269/269 [==============================] - 2s 6ms/sample - loss: 0.0358 - accuracy: 0.9814\n",
      "Epoch 37/100\n",
      "269/269 [==============================] - 2s 6ms/sample - loss: 0.0270 - accuracy: 0.9814\n",
      "Epoch 38/100\n",
      "269/269 [==============================] - 2s 6ms/sample - loss: 0.0356 - accuracy: 0.9777\n",
      "Epoch 39/100\n",
      "269/269 [==============================] - 2s 6ms/sample - loss: 0.0431 - accuracy: 0.9740\n",
      "Epoch 40/100\n",
      "269/269 [==============================] - 2s 6ms/sample - loss: 0.0419 - accuracy: 0.9740\n",
      "Epoch 41/100\n",
      "269/269 [==============================] - 2s 6ms/sample - loss: 0.0368 - accuracy: 0.9740\n",
      "Epoch 42/100\n",
      "269/269 [==============================] - 2s 6ms/sample - loss: 0.0475 - accuracy: 0.9740\n",
      "Epoch 43/100\n",
      "269/269 [==============================] - 2s 6ms/sample - loss: 0.0415 - accuracy: 0.9814\n",
      "Epoch 44/100\n",
      "269/269 [==============================] - 2s 6ms/sample - loss: 0.0403 - accuracy: 0.9814\n",
      "Epoch 45/100\n",
      "269/269 [==============================] - 2s 6ms/sample - loss: 0.0276 - accuracy: 0.9814\n",
      "Epoch 46/100\n",
      "269/269 [==============================] - 2s 6ms/sample - loss: 0.0323 - accuracy: 0.9814\n",
      "Epoch 47/100\n",
      "269/269 [==============================] - 2s 6ms/sample - loss: 0.0294 - accuracy: 0.9851\n",
      "Epoch 48/100\n",
      "269/269 [==============================] - 2s 6ms/sample - loss: 0.0272 - accuracy: 0.9851\n",
      "Epoch 49/100\n",
      "269/269 [==============================] - 2s 6ms/sample - loss: 0.0271 - accuracy: 0.9851\n",
      "Epoch 50/100\n",
      "269/269 [==============================] - 2s 6ms/sample - loss: 0.0358 - accuracy: 0.9740\n",
      "Epoch 51/100\n",
      "269/269 [==============================] - 2s 6ms/sample - loss: 0.0258 - accuracy: 0.9888\n",
      "Epoch 52/100\n",
      "269/269 [==============================] - 2s 6ms/sample - loss: 0.0361 - accuracy: 0.9777\n",
      "Epoch 53/100\n",
      "269/269 [==============================] - 2s 6ms/sample - loss: 0.0377 - accuracy: 0.9740\n",
      "Epoch 54/100\n",
      "269/269 [==============================] - 2s 6ms/sample - loss: 0.0328 - accuracy: 0.9777\n",
      "Epoch 55/100\n",
      "269/269 [==============================] - 2s 6ms/sample - loss: 0.0374 - accuracy: 0.9851\n",
      "Epoch 56/100\n",
      "269/269 [==============================] - 2s 6ms/sample - loss: 0.0316 - accuracy: 0.9814\n",
      "Epoch 57/100\n",
      "269/269 [==============================] - 2s 6ms/sample - loss: 0.0252 - accuracy: 0.9888\n",
      "Epoch 58/100\n",
      "269/269 [==============================] - 2s 6ms/sample - loss: 0.0274 - accuracy: 0.9851\n",
      "Epoch 59/100\n",
      "269/269 [==============================] - 2s 6ms/sample - loss: 0.0401 - accuracy: 0.9777\n",
      "Epoch 60/100\n",
      "269/269 [==============================] - 2s 6ms/sample - loss: 0.0290 - accuracy: 0.9814\n",
      "Epoch 61/100\n",
      "269/269 [==============================] - 2s 6ms/sample - loss: 0.0260 - accuracy: 0.9814\n",
      "Epoch 62/100\n",
      "269/269 [==============================] - 2s 6ms/sample - loss: 0.0283 - accuracy: 0.9814\n",
      "Epoch 63/100\n",
      "269/269 [==============================] - 2s 6ms/sample - loss: 0.0296 - accuracy: 0.9814\n",
      "Epoch 64/100\n",
      "269/269 [==============================] - 2s 6ms/sample - loss: 0.0278 - accuracy: 0.9851\n",
      "Epoch 65/100\n",
      "269/269 [==============================] - 2s 6ms/sample - loss: 0.0292 - accuracy: 0.9851\n",
      "Epoch 66/100\n",
      "269/269 [==============================] - 2s 6ms/sample - loss: 0.0315 - accuracy: 0.9777\n",
      "Epoch 67/100\n",
      "269/269 [==============================] - 2s 6ms/sample - loss: 0.0275 - accuracy: 0.9777\n",
      "Epoch 68/100\n",
      "269/269 [==============================] - 2s 6ms/sample - loss: 0.0312 - accuracy: 0.9814\n",
      "Epoch 69/100\n",
      "269/269 [==============================] - 2s 6ms/sample - loss: 0.0283 - accuracy: 0.9814\n",
      "Epoch 70/100\n",
      "269/269 [==============================] - 2s 6ms/sample - loss: 0.0368 - accuracy: 0.9703\n",
      "Epoch 71/100\n",
      "269/269 [==============================] - 2s 6ms/sample - loss: 0.0250 - accuracy: 0.9851\n",
      "Epoch 72/100\n",
      "269/269 [==============================] - 2s 6ms/sample - loss: 0.0286 - accuracy: 0.9814\n",
      "Epoch 73/100\n",
      "269/269 [==============================] - 2s 6ms/sample - loss: 0.0239 - accuracy: 0.9926\n",
      "Epoch 74/100\n",
      "269/269 [==============================] - 2s 6ms/sample - loss: 0.0269 - accuracy: 0.9888\n",
      "Epoch 75/100\n",
      "269/269 [==============================] - 2s 6ms/sample - loss: 0.0332 - accuracy: 0.9740\n",
      "Epoch 76/100\n",
      "269/269 [==============================] - 2s 6ms/sample - loss: 0.0262 - accuracy: 0.9777\n",
      "Epoch 77/100\n",
      "269/269 [==============================] - 2s 6ms/sample - loss: 0.0249 - accuracy: 0.9888\n",
      "Epoch 78/100\n",
      "269/269 [==============================] - 2s 6ms/sample - loss: 0.0270 - accuracy: 0.9814\n",
      "Epoch 79/100\n",
      "269/269 [==============================] - 2s 6ms/sample - loss: 0.0310 - accuracy: 0.9777\n",
      "Epoch 80/100\n",
      "269/269 [==============================] - 2s 6ms/sample - loss: 0.0319 - accuracy: 0.9703\n",
      "Epoch 81/100\n",
      "269/269 [==============================] - 2s 6ms/sample - loss: 0.0290 - accuracy: 0.9740\n",
      "Epoch 82/100\n",
      "269/269 [==============================] - 2s 6ms/sample - loss: 0.0358 - accuracy: 0.9665\n",
      "Epoch 83/100\n",
      "269/269 [==============================] - 2s 6ms/sample - loss: 0.0321 - accuracy: 0.9665\n",
      "Epoch 84/100\n",
      "269/269 [==============================] - 2s 6ms/sample - loss: 0.0289 - accuracy: 0.9740\n",
      "Epoch 85/100\n",
      "269/269 [==============================] - 2s 6ms/sample - loss: 0.0269 - accuracy: 0.9851\n",
      "Epoch 86/100\n",
      "269/269 [==============================] - 2s 6ms/sample - loss: 0.0314 - accuracy: 0.9740\n",
      "Epoch 87/100\n",
      "269/269 [==============================] - 2s 6ms/sample - loss: 0.0255 - accuracy: 0.9814\n",
      "Epoch 88/100\n",
      "269/269 [==============================] - 2s 6ms/sample - loss: 0.0256 - accuracy: 0.9777\n",
      "Epoch 89/100\n",
      "269/269 [==============================] - 2s 6ms/sample - loss: 0.0238 - accuracy: 0.9888\n",
      "Epoch 90/100\n",
      "269/269 [==============================] - 2s 6ms/sample - loss: 0.0284 - accuracy: 0.9740\n",
      "Epoch 91/100\n",
      "269/269 [==============================] - 2s 6ms/sample - loss: 0.0289 - accuracy: 0.9777\n",
      "Epoch 92/100\n",
      "269/269 [==============================] - 2s 6ms/sample - loss: 0.0309 - accuracy: 0.9703\n",
      "Epoch 93/100\n",
      "269/269 [==============================] - 2s 6ms/sample - loss: 0.0305 - accuracy: 0.9777\n",
      "Epoch 94/100\n",
      "269/269 [==============================] - 2s 6ms/sample - loss: 0.0290 - accuracy: 0.9777\n",
      "Epoch 95/100\n",
      "269/269 [==============================] - 2s 6ms/sample - loss: 0.0268 - accuracy: 0.9814\n",
      "Epoch 96/100\n",
      "269/269 [==============================] - 2s 6ms/sample - loss: 0.9916 - accuracy: 0.6059\n",
      "Epoch 97/100\n",
      "269/269 [==============================] - 2s 6ms/sample - loss: 1.2286 - accuracy: 0.4647\n",
      "Epoch 98/100\n",
      "269/269 [==============================] - 2s 6ms/sample - loss: 1.2421 - accuracy: 0.4052\n",
      "Epoch 99/100\n",
      "269/269 [==============================] - 2s 6ms/sample - loss: 1.1787 - accuracy: 0.4833\n",
      "Epoch 100/100\n",
      "269/269 [==============================] - 2s 6ms/sample - loss: 0.7861 - accuracy: 0.7026\n",
      "=================================================================\n",
      "Train on 270 samples\n",
      "Epoch 1/100\n",
      "270/270 [==============================] - 5s 17ms/sample - loss: 1.2850 - accuracy: 0.4333\n",
      "Epoch 2/100\n",
      "270/270 [==============================] - 2s 7ms/sample - loss: 1.1628 - accuracy: 0.3852\n",
      "Epoch 3/100\n",
      "270/270 [==============================] - 2s 7ms/sample - loss: 0.7130 - accuracy: 0.6630\n",
      "Epoch 4/100\n",
      "270/270 [==============================] - 2s 7ms/sample - loss: 0.6754 - accuracy: 0.7185\n",
      "Epoch 5/100\n",
      "270/270 [==============================] - 2s 7ms/sample - loss: 0.3641 - accuracy: 0.8926\n",
      "Epoch 6/100\n",
      "270/270 [==============================] - 2s 7ms/sample - loss: 0.1403 - accuracy: 0.9704\n",
      "Epoch 7/100\n",
      "270/270 [==============================] - 2s 7ms/sample - loss: 0.0782 - accuracy: 0.9741\n",
      "Epoch 8/100\n",
      "270/270 [==============================] - 2s 7ms/sample - loss: 0.0938 - accuracy: 0.9741\n",
      "Epoch 9/100\n",
      "270/270 [==============================] - 2s 7ms/sample - loss: 0.0719 - accuracy: 0.9778\n",
      "Epoch 10/100\n",
      "270/270 [==============================] - 2s 7ms/sample - loss: 0.0653 - accuracy: 0.9741\n",
      "Epoch 11/100\n",
      "270/270 [==============================] - 2s 7ms/sample - loss: 0.0557 - accuracy: 0.9852\n",
      "Epoch 12/100\n",
      "270/270 [==============================] - 2s 7ms/sample - loss: 0.0788 - accuracy: 0.9704\n",
      "Epoch 13/100\n",
      "270/270 [==============================] - 2s 7ms/sample - loss: 0.0390 - accuracy: 0.9852\n",
      "Epoch 14/100\n",
      "270/270 [==============================] - 2s 7ms/sample - loss: 0.0503 - accuracy: 0.9778\n",
      "Epoch 15/100\n",
      "270/270 [==============================] - 2s 7ms/sample - loss: 0.0440 - accuracy: 0.9704\n",
      "Epoch 16/100\n",
      "270/270 [==============================] - 2s 7ms/sample - loss: 0.0429 - accuracy: 0.9741\n",
      "Epoch 17/100\n",
      "270/270 [==============================] - 2s 7ms/sample - loss: 0.0463 - accuracy: 0.9741\n",
      "Epoch 18/100\n",
      "270/270 [==============================] - 2s 7ms/sample - loss: 0.0725 - accuracy: 0.9704\n",
      "Epoch 19/100\n",
      "270/270 [==============================] - 2s 7ms/sample - loss: 0.0523 - accuracy: 0.9704\n",
      "Epoch 20/100\n",
      "270/270 [==============================] - 2s 7ms/sample - loss: 0.0604 - accuracy: 0.9704\n",
      "Epoch 21/100\n",
      "270/270 [==============================] - 2s 7ms/sample - loss: 0.0536 - accuracy: 0.9741\n",
      "Epoch 22/100\n",
      "270/270 [==============================] - 2s 7ms/sample - loss: 0.0399 - accuracy: 0.9852\n",
      "Epoch 23/100\n",
      "270/270 [==============================] - 2s 7ms/sample - loss: 0.0420 - accuracy: 0.9815\n",
      "Epoch 24/100\n",
      "270/270 [==============================] - 2s 7ms/sample - loss: 0.0373 - accuracy: 0.9741\n",
      "Epoch 25/100\n",
      "270/270 [==============================] - 2s 7ms/sample - loss: 0.0376 - accuracy: 0.9704\n",
      "Epoch 26/100\n",
      "270/270 [==============================] - 2s 7ms/sample - loss: 0.0395 - accuracy: 0.9815\n",
      "Epoch 27/100\n",
      "270/270 [==============================] - 2s 7ms/sample - loss: 0.0302 - accuracy: 0.9926\n",
      "Epoch 28/100\n",
      "270/270 [==============================] - 2s 7ms/sample - loss: 0.0454 - accuracy: 0.9667\n",
      "Epoch 29/100\n",
      "270/270 [==============================] - 2s 7ms/sample - loss: 0.0356 - accuracy: 0.9778\n",
      "Epoch 30/100\n",
      "270/270 [==============================] - 2s 7ms/sample - loss: 0.0306 - accuracy: 0.9815\n",
      "Epoch 31/100\n",
      "270/270 [==============================] - 2s 7ms/sample - loss: 0.0281 - accuracy: 0.9815\n",
      "Epoch 32/100\n",
      "270/270 [==============================] - 2s 7ms/sample - loss: 0.0299 - accuracy: 0.9852\n",
      "Epoch 33/100\n",
      "270/270 [==============================] - 2s 7ms/sample - loss: 0.0352 - accuracy: 0.9778\n",
      "Epoch 34/100\n",
      "270/270 [==============================] - 2s 7ms/sample - loss: 0.0321 - accuracy: 0.9815\n",
      "Epoch 35/100\n",
      "270/270 [==============================] - 2s 7ms/sample - loss: 0.0368 - accuracy: 0.9815\n",
      "Epoch 36/100\n",
      "270/270 [==============================] - 2s 7ms/sample - loss: 0.0313 - accuracy: 0.9778\n",
      "Epoch 37/100\n",
      "270/270 [==============================] - 2s 7ms/sample - loss: 0.0287 - accuracy: 0.9778\n",
      "Epoch 38/100\n",
      "270/270 [==============================] - 2s 7ms/sample - loss: 0.0336 - accuracy: 0.9778\n",
      "Epoch 39/100\n",
      "270/270 [==============================] - 2s 7ms/sample - loss: 0.0282 - accuracy: 0.9741\n",
      "Epoch 40/100\n",
      "270/270 [==============================] - 2s 7ms/sample - loss: 0.0238 - accuracy: 0.9852\n",
      "Epoch 41/100\n",
      "270/270 [==============================] - 2s 7ms/sample - loss: 0.0285 - accuracy: 0.9815\n",
      "Epoch 42/100\n",
      "270/270 [==============================] - 2s 7ms/sample - loss: 0.0328 - accuracy: 0.9815\n",
      "Epoch 43/100\n",
      "270/270 [==============================] - 2s 7ms/sample - loss: 0.0294 - accuracy: 0.9852\n",
      "Epoch 44/100\n",
      "270/270 [==============================] - 2s 7ms/sample - loss: 0.0307 - accuracy: 0.9704\n",
      "Epoch 45/100\n",
      "270/270 [==============================] - 2s 7ms/sample - loss: 0.0313 - accuracy: 0.9815\n",
      "Epoch 46/100\n",
      "270/270 [==============================] - 2s 7ms/sample - loss: 0.0265 - accuracy: 0.9815\n",
      "Epoch 47/100\n",
      "270/270 [==============================] - 2s 7ms/sample - loss: 0.0310 - accuracy: 0.9778\n",
      "Epoch 48/100\n",
      "270/270 [==============================] - 2s 7ms/sample - loss: 0.0313 - accuracy: 0.9778\n",
      "Epoch 49/100\n",
      "270/270 [==============================] - 2s 7ms/sample - loss: 0.0467 - accuracy: 0.9630\n",
      "Epoch 50/100\n",
      "270/270 [==============================] - 2s 7ms/sample - loss: 0.0439 - accuracy: 0.9852\n",
      "Epoch 51/100\n",
      "270/270 [==============================] - 2s 7ms/sample - loss: 0.0372 - accuracy: 0.9778\n",
      "Epoch 52/100\n",
      "270/270 [==============================] - 2s 7ms/sample - loss: 0.2899 - accuracy: 0.9407\n",
      "Epoch 53/100\n",
      "270/270 [==============================] - 2s 7ms/sample - loss: 0.0979 - accuracy: 0.9704\n",
      "Epoch 54/100\n",
      "270/270 [==============================] - 2s 7ms/sample - loss: 0.1109 - accuracy: 0.9667\n",
      "Epoch 55/100\n",
      "270/270 [==============================] - 2s 7ms/sample - loss: 0.0524 - accuracy: 0.9815\n",
      "Epoch 56/100\n",
      "270/270 [==============================] - 2s 7ms/sample - loss: 0.0520 - accuracy: 0.9704\n",
      "Epoch 57/100\n",
      "270/270 [==============================] - 2s 7ms/sample - loss: 0.0357 - accuracy: 0.9778\n",
      "Epoch 58/100\n",
      "270/270 [==============================] - 2s 7ms/sample - loss: 0.0415 - accuracy: 0.9741\n",
      "Epoch 59/100\n",
      "270/270 [==============================] - 2s 7ms/sample - loss: 0.0441 - accuracy: 0.9741\n",
      "Epoch 60/100\n",
      "270/270 [==============================] - 2s 7ms/sample - loss: 0.0318 - accuracy: 0.9815\n",
      "Epoch 61/100\n",
      "270/270 [==============================] - 2s 7ms/sample - loss: 0.0358 - accuracy: 0.9889\n",
      "Epoch 62/100\n",
      "270/270 [==============================] - 2s 7ms/sample - loss: 0.0396 - accuracy: 0.9778\n",
      "Epoch 63/100\n",
      "270/270 [==============================] - 2s 7ms/sample - loss: 0.0343 - accuracy: 0.9741\n",
      "Epoch 64/100\n",
      "270/270 [==============================] - 2s 7ms/sample - loss: 0.0297 - accuracy: 0.9778\n",
      "Epoch 65/100\n",
      "270/270 [==============================] - 2s 7ms/sample - loss: 0.0376 - accuracy: 0.9778\n",
      "Epoch 66/100\n",
      "270/270 [==============================] - 2s 7ms/sample - loss: 0.0267 - accuracy: 0.9815\n",
      "Epoch 67/100\n",
      "270/270 [==============================] - 2s 7ms/sample - loss: 0.0296 - accuracy: 0.9778\n",
      "Epoch 68/100\n",
      "270/270 [==============================] - 2s 7ms/sample - loss: 0.0280 - accuracy: 0.9852\n",
      "Epoch 69/100\n",
      "270/270 [==============================] - 2s 7ms/sample - loss: 0.0300 - accuracy: 0.9778\n",
      "Epoch 70/100\n",
      "270/270 [==============================] - 2s 7ms/sample - loss: 0.0312 - accuracy: 0.9741\n",
      "Epoch 71/100\n",
      "270/270 [==============================] - 2s 7ms/sample - loss: 0.0270 - accuracy: 0.9852\n",
      "Epoch 72/100\n",
      "270/270 [==============================] - 2s 7ms/sample - loss: 0.0289 - accuracy: 0.9852\n",
      "Epoch 73/100\n",
      "270/270 [==============================] - 2s 7ms/sample - loss: 0.0326 - accuracy: 0.9778\n",
      "Epoch 74/100\n",
      "270/270 [==============================] - 2s 7ms/sample - loss: 0.0345 - accuracy: 0.9704\n",
      "Epoch 75/100\n",
      "270/270 [==============================] - 2s 7ms/sample - loss: 0.0262 - accuracy: 0.9852\n",
      "Epoch 76/100\n",
      "270/270 [==============================] - 2s 7ms/sample - loss: 0.0342 - accuracy: 0.9741\n",
      "Epoch 77/100\n",
      "270/270 [==============================] - 2s 7ms/sample - loss: 0.0319 - accuracy: 0.9815\n",
      "Epoch 78/100\n",
      "270/270 [==============================] - 2s 7ms/sample - loss: 0.0289 - accuracy: 0.9778\n",
      "Epoch 79/100\n",
      "270/270 [==============================] - 2s 7ms/sample - loss: 0.0375 - accuracy: 0.9704\n",
      "Epoch 80/100\n",
      "270/270 [==============================] - 2s 7ms/sample - loss: 0.0277 - accuracy: 0.9741\n",
      "Epoch 81/100\n",
      "270/270 [==============================] - 2s 7ms/sample - loss: 0.0276 - accuracy: 0.9778\n",
      "Epoch 82/100\n",
      "270/270 [==============================] - 2s 7ms/sample - loss: 0.0333 - accuracy: 0.9741\n",
      "Epoch 83/100\n",
      "270/270 [==============================] - 2s 7ms/sample - loss: 0.0276 - accuracy: 0.9778\n",
      "Epoch 84/100\n",
      "270/270 [==============================] - 2s 7ms/sample - loss: 0.0334 - accuracy: 0.9630\n",
      "Epoch 85/100\n",
      "270/270 [==============================] - 2s 7ms/sample - loss: 0.0292 - accuracy: 0.9815\n",
      "Epoch 86/100\n",
      "270/270 [==============================] - 2s 7ms/sample - loss: 0.0295 - accuracy: 0.9815\n",
      "Epoch 87/100\n",
      "270/270 [==============================] - 2s 7ms/sample - loss: 0.0274 - accuracy: 0.9926\n",
      "Epoch 88/100\n",
      "270/270 [==============================] - 2s 7ms/sample - loss: 0.0287 - accuracy: 0.9778\n",
      "Epoch 89/100\n",
      "270/270 [==============================] - 2s 7ms/sample - loss: 0.0285 - accuracy: 0.9852\n",
      "Epoch 90/100\n",
      "270/270 [==============================] - 2s 7ms/sample - loss: 0.0275 - accuracy: 0.9815\n",
      "Epoch 91/100\n",
      "270/270 [==============================] - 2s 7ms/sample - loss: 0.0300 - accuracy: 0.9704\n",
      "Epoch 92/100\n",
      "270/270 [==============================] - 2s 7ms/sample - loss: 0.0337 - accuracy: 0.9741\n",
      "Epoch 93/100\n",
      "270/270 [==============================] - 2s 7ms/sample - loss: 0.0267 - accuracy: 0.9852\n",
      "Epoch 94/100\n",
      "270/270 [==============================] - 2s 7ms/sample - loss: 0.0290 - accuracy: 0.9852\n",
      "Epoch 95/100\n",
      "270/270 [==============================] - 2s 7ms/sample - loss: 0.0268 - accuracy: 0.9852\n",
      "Epoch 96/100\n",
      "270/270 [==============================] - 2s 7ms/sample - loss: 0.0272 - accuracy: 0.9778\n",
      "Epoch 97/100\n",
      "270/270 [==============================] - 2s 7ms/sample - loss: 0.0268 - accuracy: 0.9852\n",
      "Epoch 98/100\n",
      "270/270 [==============================] - 2s 7ms/sample - loss: 0.0280 - accuracy: 0.9778\n",
      "Epoch 99/100\n",
      "270/270 [==============================] - 2s 7ms/sample - loss: 0.0287 - accuracy: 0.9741\n",
      "Epoch 100/100\n",
      "270/270 [==============================] - 2s 7ms/sample - loss: 0.0291 - accuracy: 0.9852\n",
      "Done!\n"
     ]
    }
   ],
   "source": [
    "accuracies = []\n",
    "for train_index, test_index in kf.split(X, y):\n",
    "    print(f'=================================================================')\n",
    "    X_train, X_test = X[train_index], X[test_index]\n",
    "    y_train, y_test = y[train_index], y[test_index]\n",
    "    model = lstm2(num_classes)\n",
    "    model.fit(X_train, y_train, epochs=EPOCHS, batch_size=BATCH_SIZE)\n",
    "    confidences = model.predict(X_test)\n",
    "    predictions = np.zeros(len(confidences), dtype='int')\n",
    "    for i, class_confidences in enumerate(confidences): \n",
    "        predictions[i] = np.argmax(class_confidences)\n",
    "    accuracies.append(accuracy_score(y_test, predictions))\n",
    "print('Done!')"
   ]
  },
  {
   "cell_type": "code",
   "execution_count": 194,
   "metadata": {},
   "outputs": [],
   "source": [
    "accuracies = np.array(accuracies)"
   ]
  },
  {
   "cell_type": "code",
   "execution_count": 195,
   "metadata": {},
   "outputs": [
    {
     "output_type": "execute_result",
     "data": {
      "text/plain": [
       "array([0.73333333, 0.66666667, 0.6       , 0.73333333, 0.53333333,\n",
       "       0.7       , 0.63333333, 0.53333333, 0.33333333, 0.5862069 ])"
      ]
     },
     "metadata": {},
     "execution_count": 195
    }
   ],
   "source": [
    "accuracies"
   ]
  },
  {
   "cell_type": "code",
   "execution_count": 196,
   "metadata": {},
   "outputs": [
    {
     "output_type": "execute_result",
     "data": {
      "text/plain": [
       "0.605287356321839"
      ]
     },
     "metadata": {},
     "execution_count": 196
    }
   ],
   "source": [
    "accuracies.mean()"
   ]
  },
  {
   "source": [
    "# Funções para definir os modelos"
   ],
   "cell_type": "markdown",
   "metadata": {}
  },
  {
   "cell_type": "code",
   "execution_count": 181,
   "metadata": {},
   "outputs": [],
   "source": [
    "def cnn1(num_classes): \n",
    "    embedding_layer = Embedding(num_words,EMBEDDING_DIM, input_length=MAX_SEQUENCE_LENGHT, trainable=True)\n",
    "    input_ = Input(shape=(MAX_SEQUENCE_LENGHT,))\n",
    "    x = embedding_layer(input_)\n",
    "    x = Conv1D(128,3, activation='relu')(x)\n",
    "    x = MaxPooling1D(3)(x)\n",
    "    x = Conv1D(128,3, activation='relu')(x)\n",
    "    x = MaxPooling1D(3)(x)\n",
    "    x = Conv1D(128,3, activation='relu')(x)\n",
    "    x = MaxPooling1D(3)(x)\n",
    "    x = GlobalMaxPooling1D()(x)\n",
    "    x = Dense(128, activation='relu')(x)\n",
    "    output = Dense(num_classes, activation='softmax')(x)\n",
    "    model = Model(input_, output)\n",
    "    model.compile(loss='sparse_categorical_crossentropy', optimizer='adam', metrics=['accuracy'])\n",
    "\n",
    "    return model"
   ]
  },
  {
   "cell_type": "code",
   "execution_count": 182,
   "metadata": {},
   "outputs": [],
   "source": [
    "def lstm1(num_classes):\n",
    "    embedding_layer = Embedding(num_words,EMBEDDING_DIM, input_length=MAX_SEQUENCE_LENGHT, trainable=True)\n",
    "    input_ = Input(shape=(MAX_SEQUENCE_LENGHT,))\n",
    "    x = embedding_layer(input_)\n",
    "    x = LSTM(15, return_sequences=True)(x)\n",
    "    x = GlobalMaxPooling1D()(x)\n",
    "    output = Dense(num_classes, activation='sigmoid')(x)\n",
    "    model = Model(input_, output)\n",
    "    model.compile(loss='sparse_categorical_crossentropy', optimizer='adam', metrics=['accuracy'])\n",
    "    return model"
   ]
  },
  {
   "cell_type": "code",
   "execution_count": 192,
   "metadata": {},
   "outputs": [],
   "source": [
    "def lstm2(num_classes): \n",
    "    model = tf.keras.Sequential()\n",
    "    model.add(tf.keras.layers.Embedding(input_dim=num_words, \n",
    "                            output_dim=EMBEDDING_DIM, \n",
    "                            input_length=MAX_SEQUENCE_LENGHT, trainable=True))\n",
    "\n",
    "    model.add(tf.keras.layers.LSTM(units=128, return_sequences=True))\n",
    "    model.add(tf.keras.layers.LSTM(units=64))\n",
    "    model.add(tf.keras.layers.Dropout(0.5))\n",
    "    model.add(tf.keras.layers.Dense(32))\n",
    "    model.add(tf.keras.layers.Dense(num_classes, activation='softmax'))\n",
    "    model.compile(optimizer='adam',\n",
    "                loss='sparse_categorical_crossentropy',\n",
    "                metrics=['accuracy'])\n",
    "    return model"
   ]
  },
  {
   "cell_type": "code",
   "execution_count": 139,
   "metadata": {},
   "outputs": [],
   "source": [
    "model = cnn1(len(possible_labels))"
   ]
  },
  {
   "cell_type": "code",
   "execution_count": 140,
   "metadata": {},
   "outputs": [
    {
     "output_type": "stream",
     "name": "stdout",
     "text": [
      "Train on 269 samples\n",
      "Epoch 1/50\n",
      "269/269 [==============================] - 1s 3ms/sample - loss: 1.2852 - accuracy: 0.4089\n",
      "Epoch 2/50\n",
      "269/269 [==============================] - 0s 1ms/sample - loss: 1.2231 - accuracy: 0.3755\n",
      "Epoch 3/50\n",
      "269/269 [==============================] - 0s 1ms/sample - loss: 1.1552 - accuracy: 0.4201\n",
      "Epoch 4/50\n",
      "269/269 [==============================] - 0s 1ms/sample - loss: 0.9946 - accuracy: 0.4387\n",
      "Epoch 5/50\n",
      "269/269 [==============================] - 0s 1ms/sample - loss: 0.7162 - accuracy: 0.6840\n",
      "Epoch 6/50\n",
      "269/269 [==============================] - 0s 1ms/sample - loss: 0.4072 - accuracy: 0.8216\n",
      "Epoch 7/50\n",
      "269/269 [==============================] - 0s 1ms/sample - loss: 0.3108 - accuracy: 0.8773\n",
      "Epoch 8/50\n",
      "269/269 [==============================] - 0s 1ms/sample - loss: 0.2772 - accuracy: 0.8885\n",
      "Epoch 9/50\n",
      "269/269 [==============================] - 0s 1ms/sample - loss: 0.2148 - accuracy: 0.9257\n",
      "Epoch 10/50\n",
      "269/269 [==============================] - 0s 1ms/sample - loss: 0.1562 - accuracy: 0.9368\n",
      "Epoch 11/50\n",
      "269/269 [==============================] - 0s 1ms/sample - loss: 0.0921 - accuracy: 0.9740\n",
      "Epoch 12/50\n",
      "269/269 [==============================] - 0s 1ms/sample - loss: 0.0991 - accuracy: 0.9740\n",
      "Epoch 13/50\n",
      "269/269 [==============================] - 0s 1ms/sample - loss: 0.1228 - accuracy: 0.9665\n",
      "Epoch 14/50\n",
      "269/269 [==============================] - 0s 1ms/sample - loss: 0.0683 - accuracy: 0.9777\n",
      "Epoch 15/50\n",
      "269/269 [==============================] - 0s 1ms/sample - loss: 0.0479 - accuracy: 0.9740\n",
      "Epoch 16/50\n",
      "269/269 [==============================] - 0s 1ms/sample - loss: 0.0547 - accuracy: 0.9703\n",
      "Epoch 17/50\n",
      "269/269 [==============================] - 0s 1ms/sample - loss: 0.1136 - accuracy: 0.9554\n",
      "Epoch 18/50\n",
      "269/269 [==============================] - 0s 1ms/sample - loss: 0.0944 - accuracy: 0.9628\n",
      "Epoch 19/50\n",
      "269/269 [==============================] - 0s 1ms/sample - loss: 0.0501 - accuracy: 0.9740\n",
      "Epoch 20/50\n",
      "269/269 [==============================] - 0s 1ms/sample - loss: 0.0607 - accuracy: 0.9740\n",
      "Epoch 21/50\n",
      "269/269 [==============================] - 0s 1ms/sample - loss: 0.0492 - accuracy: 0.9740\n",
      "Epoch 22/50\n",
      "269/269 [==============================] - 0s 1ms/sample - loss: 0.0447 - accuracy: 0.9665\n",
      "Epoch 23/50\n",
      "269/269 [==============================] - 0s 1ms/sample - loss: 0.0592 - accuracy: 0.9665\n",
      "Epoch 24/50\n",
      "269/269 [==============================] - 0s 1ms/sample - loss: 0.0419 - accuracy: 0.9740\n",
      "Epoch 25/50\n",
      "269/269 [==============================] - 0s 1ms/sample - loss: 0.0397 - accuracy: 0.9740\n",
      "Epoch 26/50\n",
      "269/269 [==============================] - 0s 1ms/sample - loss: 0.0480 - accuracy: 0.9628\n",
      "Epoch 27/50\n",
      "269/269 [==============================] - 0s 1ms/sample - loss: 0.0409 - accuracy: 0.9703\n",
      "Epoch 28/50\n",
      "269/269 [==============================] - 0s 1ms/sample - loss: 0.0425 - accuracy: 0.9665\n",
      "Epoch 29/50\n",
      "269/269 [==============================] - 0s 1ms/sample - loss: 0.0435 - accuracy: 0.9740\n",
      "Epoch 30/50\n",
      "269/269 [==============================] - 0s 1ms/sample - loss: 0.0416 - accuracy: 0.9814\n",
      "Epoch 31/50\n",
      "269/269 [==============================] - 0s 1ms/sample - loss: 0.0432 - accuracy: 0.9665\n",
      "Epoch 32/50\n",
      "269/269 [==============================] - 0s 1ms/sample - loss: 0.0545 - accuracy: 0.9628\n",
      "Epoch 33/50\n",
      "269/269 [==============================] - 0s 1ms/sample - loss: 0.0440 - accuracy: 0.9777\n",
      "Epoch 34/50\n",
      "269/269 [==============================] - 0s 1ms/sample - loss: 0.0376 - accuracy: 0.9703\n",
      "Epoch 35/50\n",
      "269/269 [==============================] - 0s 1ms/sample - loss: 0.0389 - accuracy: 0.9665\n",
      "Epoch 36/50\n",
      "269/269 [==============================] - 0s 1ms/sample - loss: 0.0454 - accuracy: 0.9628\n",
      "Epoch 37/50\n",
      "269/269 [==============================] - 0s 1ms/sample - loss: 0.0385 - accuracy: 0.9665\n",
      "Epoch 38/50\n",
      "269/269 [==============================] - 0s 1ms/sample - loss: 0.0355 - accuracy: 0.9665\n",
      "Epoch 39/50\n",
      "269/269 [==============================] - 0s 1ms/sample - loss: 0.0398 - accuracy: 0.9703\n",
      "Epoch 40/50\n",
      "269/269 [==============================] - 0s 1ms/sample - loss: 0.0402 - accuracy: 0.9665\n",
      "Epoch 41/50\n",
      "269/269 [==============================] - 0s 1ms/sample - loss: 0.0439 - accuracy: 0.9703\n",
      "Epoch 42/50\n",
      "269/269 [==============================] - 0s 1ms/sample - loss: 0.0386 - accuracy: 0.9665\n",
      "Epoch 43/50\n",
      "269/269 [==============================] - 0s 1ms/sample - loss: 0.0390 - accuracy: 0.9665\n",
      "Epoch 44/50\n",
      "269/269 [==============================] - 0s 1ms/sample - loss: 0.0369 - accuracy: 0.9703\n",
      "Epoch 45/50\n",
      "269/269 [==============================] - 0s 1ms/sample - loss: 0.0366 - accuracy: 0.9740\n",
      "Epoch 46/50\n",
      "269/269 [==============================] - 0s 1ms/sample - loss: 0.0370 - accuracy: 0.9740\n",
      "Epoch 47/50\n",
      "269/269 [==============================] - 0s 1ms/sample - loss: 0.0398 - accuracy: 0.9591\n",
      "Epoch 48/50\n",
      "269/269 [==============================] - 0s 1ms/sample - loss: 0.0363 - accuracy: 0.9703\n",
      "Epoch 49/50\n",
      "269/269 [==============================] - 0s 1ms/sample - loss: 0.0369 - accuracy: 0.9777\n",
      "Epoch 50/50\n",
      "269/269 [==============================] - 0s 1ms/sample - loss: 0.0403 - accuracy: 0.9703\n"
     ]
    }
   ],
   "source": [
    "r = model.fit(X_train, y_train, epochs=EPOCHS, batch_size=BATCH_SIZE)"
   ]
  },
  {
   "cell_type": "code",
   "execution_count": 141,
   "metadata": {},
   "outputs": [],
   "source": [
    "predictions = model.predict(X_test)"
   ]
  },
  {
   "cell_type": "code",
   "execution_count": 142,
   "metadata": {},
   "outputs": [
    {
     "output_type": "execute_result",
     "data": {
      "text/plain": [
       "array([[7.52629220e-01, 2.44613588e-01, 2.48592021e-03, 2.71279365e-04],\n",
       "       [4.57323942e-04, 9.99310017e-01, 2.32611230e-04, 4.81157914e-09],\n",
       "       [5.94759174e-02, 9.37754750e-01, 2.76541081e-03, 3.97840267e-06],\n",
       "       [2.22915322e-01, 7.76472032e-01, 6.09904935e-04, 2.70933401e-06],\n",
       "       [1.33837992e-03, 2.76053138e-02, 9.68958259e-01, 2.09794356e-03],\n",
       "       [9.70944017e-03, 9.90289211e-01, 1.43069917e-06, 2.60647320e-11],\n",
       "       [7.03034997e-01, 2.96957016e-01, 7.94072639e-06, 3.62830086e-08],\n",
       "       [3.36785585e-01, 6.63205981e-01, 8.46043167e-06, 1.14716983e-08],\n",
       "       [4.22340751e-01, 5.77509701e-01, 1.48930820e-04, 6.01220393e-07],\n",
       "       [5.50240744e-03, 3.73522758e-01, 6.20758057e-01, 2.16815897e-04],\n",
       "       [9.93622005e-01, 6.37802947e-03, 5.85898707e-09, 2.28186831e-10],\n",
       "       [6.84814714e-03, 9.93002594e-01, 1.49204716e-04, 1.80610371e-08],\n",
       "       [2.44801015e-07, 9.86663599e-06, 9.97363985e-01, 2.62591406e-03],\n",
       "       [9.11002755e-01, 8.89971927e-02, 1.09882265e-07, 1.99542757e-10],\n",
       "       [7.59626329e-02, 9.23999786e-01, 3.75169147e-05, 3.30935457e-08],\n",
       "       [9.57455099e-01, 4.25446704e-02, 2.63858141e-07, 1.97889749e-09],\n",
       "       [1.17298841e-01, 1.15010664e-01, 3.20404112e-01, 4.47286427e-01],\n",
       "       [8.62192380e-08, 2.82193980e-07, 1.31323531e-01, 8.68676007e-01],\n",
       "       [8.29272122e-17, 2.20218590e-17, 1.15105140e-05, 9.99988437e-01],\n",
       "       [9.98916268e-01, 1.08379265e-03, 9.46458467e-09, 3.26191363e-09],\n",
       "       [2.37075798e-02, 9.68266726e-01, 8.00494384e-03, 2.07127796e-05],\n",
       "       [3.33540559e-01, 6.66438878e-01, 2.05259494e-05, 1.35743354e-08],\n",
       "       [1.07199252e-02, 9.87980902e-01, 1.29890477e-03, 2.54350056e-07],\n",
       "       [9.96087193e-01, 3.91282933e-03, 8.64840699e-10, 1.16566175e-11],\n",
       "       [9.92426395e-01, 7.57367071e-03, 1.81595211e-10, 4.56122336e-13],\n",
       "       [1.77936070e-02, 9.82196331e-01, 1.01232881e-05, 6.53735677e-10],\n",
       "       [3.33089489e-09, 9.58246726e-09, 2.31089428e-01, 7.68910527e-01],\n",
       "       [1.59788966e-01, 8.39911222e-01, 2.98750267e-04, 1.09369159e-06],\n",
       "       [2.95009231e-03, 9.96689439e-01, 3.60474514e-04, 2.60813646e-08],\n",
       "       [2.73838222e-01, 7.26158142e-01, 3.59472051e-06, 8.83453477e-10]],\n",
       "      dtype=float32)"
      ]
     },
     "metadata": {},
     "execution_count": 142
    }
   ],
   "source": [
    "predictions"
   ]
  },
  {
   "cell_type": "code",
   "execution_count": 143,
   "metadata": {},
   "outputs": [],
   "source": [
    "predictions_final = np.zeros(len(predictions), dtype='int')"
   ]
  },
  {
   "cell_type": "code",
   "execution_count": 144,
   "metadata": {},
   "outputs": [],
   "source": [
    "for i, confidences in enumerate(predictions): \n",
    "    predictions_final[i] = np.argmax(confidences)"
   ]
  },
  {
   "cell_type": "code",
   "execution_count": 145,
   "metadata": {},
   "outputs": [
    {
     "output_type": "execute_result",
     "data": {
      "text/plain": [
       "array([0, 1, 1, 1, 2, 1, 0, 1, 1, 2, 0, 1, 2, 0, 1, 0, 3, 3, 3, 0, 1, 1,\n",
       "       1, 0, 0, 1, 3, 1, 1, 1])"
      ]
     },
     "metadata": {},
     "execution_count": 145
    }
   ],
   "source": [
    "predictions_final"
   ]
  },
  {
   "cell_type": "code",
   "execution_count": 146,
   "metadata": {},
   "outputs": [
    {
     "output_type": "execute_result",
     "data": {
      "text/plain": [
       "array([0, 0, 0, 1, 2, 1, 1, 0, 0, 2, 0, 0, 3, 0, 1, 0, 3, 3, 3, 0, 1, 0,\n",
       "       1, 0, 0, 1, 3, 1, 0, 0])"
      ]
     },
     "metadata": {},
     "execution_count": 146
    }
   ],
   "source": [
    "y_test"
   ]
  },
  {
   "cell_type": "code",
   "execution_count": 147,
   "metadata": {},
   "outputs": [
    {
     "output_type": "execute_result",
     "data": {
      "text/plain": [
       "0.6666666666666666"
      ]
     },
     "metadata": {},
     "execution_count": 147
    }
   ],
   "source": [
    "accuracy_score(y_test, predictions_final)"
   ]
  },
  {
   "cell_type": "code",
   "execution_count": 148,
   "metadata": {},
   "outputs": [
    {
     "output_type": "execute_result",
     "data": {
      "text/plain": [
       "0"
      ]
     },
     "metadata": {},
     "execution_count": 148
    }
   ],
   "source": [
    "y_test[0]"
   ]
  },
  {
   "cell_type": "code",
   "execution_count": 88,
   "metadata": {},
   "outputs": [
    {
     "output_type": "execute_result",
     "data": {
      "text/plain": [
       "3"
      ]
     },
     "metadata": {},
     "execution_count": 88
    }
   ],
   "source": [
    "predictions_final[0]"
   ]
  },
  {
   "cell_type": "code",
   "execution_count": null,
   "metadata": {},
   "outputs": [],
   "source": []
  }
 ]
}