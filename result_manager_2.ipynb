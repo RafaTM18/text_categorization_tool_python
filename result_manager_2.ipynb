{
 "metadata": {
  "language_info": {
   "codemirror_mode": {
    "name": "ipython",
    "version": 3
   },
   "file_extension": ".py",
   "mimetype": "text/x-python",
   "name": "python",
   "nbconvert_exporter": "python",
   "pygments_lexer": "ipython3",
   "version": "3.7.3-final"
  },
  "orig_nbformat": 2,
  "kernelspec": {
   "name": "python3",
   "display_name": "Python 3",
   "language": "python"
  }
 },
 "nbformat": 4,
 "nbformat_minor": 2,
 "cells": [
  {
   "source": [
    "# Imports"
   ],
   "cell_type": "markdown",
   "metadata": {}
  },
  {
   "cell_type": "code",
   "execution_count": 1,
   "metadata": {},
   "outputs": [],
   "source": [
    "import sys\n",
    "import time\n",
    "import time\n",
    "import pandas as pd\n",
    "import numpy as np\n",
    "import json\n",
    "from os import path\n",
    "\n",
    "from sklearn.metrics import accuracy_score\n",
    "from sklearn.metrics import f1_score\n",
    "from sklearn.metrics import roc_auc_score\n",
    "from sklearn.metrics import confusion_matrix\n",
    "from sklearn.model_selection import StratifiedKFold\n",
    "from sklearn.externals import joblib"
   ]
  },
  {
   "source": [
    "# Functions"
   ],
   "cell_type": "markdown",
   "metadata": {}
  },
  {
   "cell_type": "code",
   "execution_count": 2,
   "metadata": {},
   "outputs": [],
   "source": [
    "def supervised_learning_and_evaluation(model=None, model_name='', parameters={}, X=None, y=None, num_folds=3, path_results='', path_dir_model='', serialize_model=False): \n",
    "  #Splitting data\n",
    "  kf = StratifiedKFold(n_splits=num_folds, shuffle=True, random_state = 0)\n",
    "  count_fold = 1\n",
    "\n",
    "  #Verifying and creating a dir in case serialize_model = True\n",
    "  if serialize_model == True: \n",
    "    if not (os.path.exists(path_dir_model)):\n",
    "      os.mkdir(path_dir_model)\n",
    "    if not (os.path.isdir(path_dir_model)) and (len(path_dir_model) > 0):\n",
    "      raise Exception('Invalid directory to save the classification model')\n",
    "      \n",
    "\n",
    "  #DataFrame to store de results\n",
    "  results = get_dataframe(path_results)\n",
    "\n",
    "  #Performing k-Fold Cross-Validation\n",
    "  for train_index, test_index in kf.split(X,y):\n",
    "    #Train test spliting \n",
    "    X_train, X_test = X[train_index], X[test_index]\n",
    "    y_train, y_test = y[train_index], y[test_index]\n",
    "  \n",
    "    #Model training\n",
    "    start_time_model_building = time.time()\n",
    "    model.fit(X_train,y_train)\n",
    "    elapsed_time_model_building = (time.time() - start_time_model_building) / 1000\n",
    "\n",
    "    #Model Evaluation\n",
    "    evaluation = supervised_evaluation(model, model_name, parameters, count_fold, X_test, y_test, elapsed_time_model_building)\n",
    "\n",
    "    #Adding the evaluation result into a result file\n",
    "    results = results.append(evaluation, ignore_index=True)\n",
    "    \n",
    "\n",
    "    #Saving the classification model\n",
    "    if serialize_model == True: \n",
    "      path_model = os.path.join(path_dir_model, f'{model_name}_{count_fold}.mdl')\n",
    "      with open(path_model, 'wb') as file_model:\n",
    "        joblib.dump(model, file_model)\n",
    "\n",
    "    count_fold += 1\n",
    "  \n",
    "  #saving DataFrame\n",
    "  results.to_csv(path_results, index=False)"
   ]
  },
  {
   "cell_type": "code",
   "execution_count": 3,
   "metadata": {},
   "outputs": [],
   "source": [
    "def supervised_evaluation(model, alg_name, parameters, fold_number, X_test, y_test, model_building_time): \n",
    "  \n",
    "  evaluation = {} \n",
    "  evaluation['Algorithm'] = alg_name\n",
    "  evaluation['Parameters'] = parameters\n",
    "  evaluation['Fold_Number'] = fold_number\n",
    "  evaluation['Accuracy'] = accuracy_score(y_test,model.predict(X_test))\n",
    "  evaluation['Macro_F1'] = f1_score(y_test,model.predict(X_test), average='macro')\n",
    "  evaluation['Micro_F1'] = f1_score(y_test,model.predict(X_test), average='micro')\n",
    "  evalutaion['Macro_ROC_AUC'] = roc_auc_score(y_test,model.predict(X_test), average='macro')\n",
    "  evalutaion['Micro_ROC_AUC'] = roc_auc_score(y_test,model.predict(X_test), average='micro')\n",
    "  evaluation['Building_Time'] = model_building_time\n",
    "  start_time_classification = time.time()\n",
    "  evaluation['Confusion_Matrix'] = confusion_matrix(y_test,model.predict(X_test)).tolist()\n",
    "  elapsed_time_classification = (time.time() - start_time_classification) / 1000\n",
    "  evaluation['Classification_Time'] = elapsed_time_classification\n",
    "  evaluation['Memory'] = sys.getsizeof(model) / 1024\n",
    "  \n",
    "  return evaluation "
   ]
  },
  {
   "cell_type": "code",
   "execution_count": 4,
   "metadata": {},
   "outputs": [],
   "source": [
    "def get_dataframe(path_results):\n",
    "  results = None \n",
    "  if (path.exists(path_results)):\n",
    "    results = pd.read_csv(path_results)\n",
    "  else: \n",
    "    results = pd.DataFrame(columns=['Algorithm','Parameters','Fold_Number','Accuracy','Macro_F1','Micro_F1','Macro_F1','Micro_F1','Confusion_Matrix','Memory','Building_Time','Classification_Time'])\n",
    "  \n",
    "  return results"
   ]
  },
  {
   "cell_type": "code",
   "execution_count": 5,
   "metadata": {},
   "outputs": [],
   "source": [
    "def get_dataframe_summary(path_results):\n",
    "  results = None \n",
    "  if (path.exists(path_results)):\n",
    "    results = pd.read_csv(path_results)\n",
    "  else: \n",
    "    results = pd.DataFrame(columns=['Algorithm','Parameters',\n",
    "                                    'Avg_Accuracy','Std_Accuracy',\n",
    "                                    'Avg_Macro_F1','Std_Macro_F1',\n",
    "                                    'Avg_Micro_F1','Std_Micro_F1',\n",
    "                                    'Confusion_Matrix',\n",
    "                                    'Avg_Memory','Std_Memory',\n",
    "                                    'Avg_Building_Time','Std_Building_Time',\n",
    "                                    'Avg_Classification_Time','Std_Classification_Time'])\n",
    "  \n",
    "  return results"
   ]
  },
  {
   "cell_type": "code",
   "execution_count": 6,
   "metadata": {},
   "outputs": [],
   "source": [
    "def result_summary(df_results, alg, param): \n",
    "\n",
    "  #Selecting the results\n",
    "  sel_params_alg = (df_results['Parameters'] == param) & (df_results['Algorithm'] == alg)\n",
    "  df_selection = df_results[sel_params_alg]\n",
    "\n",
    "  #Creating a dictionry with the results \n",
    "  result_summary = {}\n",
    "  result_summary['Algorithm'] = alg\n",
    "  result_summary['Parameters'] = param\n",
    "  \n",
    "  result_summary['Avg_Accuracy'] = df_selection['Accuracy'].mean()\n",
    "  result_summary['Std_Accuracy'] = df_selection['Accuracy'].std()\n",
    "\n",
    "  result_summary['Avg_Macro_F1'] = df_selection['Macro_F1'].mean()\n",
    "  result_summary['Std_Macro_F1'] = df_selection['Macro_F1'].std()\n",
    "\n",
    "  result_summary['Avg_Micro_F1'] = df_selection['Micro_F1'].mean()\n",
    "  result_summary['Std_Micro_F1'] = df_selection['Micro_F1'].std()\n",
    "\n",
    "  print('Alg', alg)\n",
    "  print('Param', param)\n",
    "  print('Shape df_results: ', df_results.shape)\n",
    "  print('Shape df_selection: ', df_selection.shape)\n",
    "\n",
    "  result_summary['Confusion_Matrix'] = summarize_confusion_matrices(df_selection)\n",
    "\n",
    "  result_summary['Avg_Memory'] = df_selection['Memory'].mean()\n",
    "  result_summary['Std_Memory'] = df_selection['Memory'].std()\n",
    "\n",
    "  result_summary['Avg_Building_Time'] = df_selection['Building_Time'].mean()\n",
    "  result_summary['Std_Building_Time'] = df_selection['Building_Time'].std()\n",
    "\n",
    "  result_summary['Avg_Classification_Time'] = df_selection['Classification_Time'].mean()\n",
    "  result_summary['Std_Classification_Time'] = df_selection['Classification_Time'].std()\n",
    "\n",
    "  return result_summary"
   ]
  },
  {
   "cell_type": "code",
   "execution_count": 7,
   "metadata": {},
   "outputs": [],
   "source": [
    "def summarize_confusion_matrices(df_results):\n",
    "  \n",
    "\n",
    "  #Conveting the confusion matrix represented by strings into arrays\n",
    "  matrices = list(df_results['Confusion_Matrix'])\n",
    "  conv_matrices = []\n",
    "  for matrix in matrices: \n",
    "    conv_matrices.append(json.loads(matrix))\n",
    "\n",
    "  #Getting the shape of a confusion matrix\n",
    "  shape = np.array(conv_matrices[0]).shape\n",
    "\n",
    "  total = np.zeros(shape, dtype=np.float16)\n",
    "  for matrix in matrices: \n",
    "    total += np.array(json.loads(matrix), dtype=np.float16)\n",
    "\n",
    "  return total.tolist()\n"
   ]
  },
  {
   "cell_type": "code",
   "execution_count": 8,
   "metadata": {},
   "outputs": [],
   "source": [
    "def summarize_all_resuls(path_from, path_to):\n",
    "  df_results = pd.read_csv(path_from)\n",
    "  df_summary = get_dataframe_summary(path_to)\n",
    "  #Getting the algorithms in the result file \n",
    "  alg_list  = df_results['Algorithm'].unique().tolist()\n",
    "  for alg in alg_list:\n",
    "    \n",
    "    #Selecting all the parameters of an algorithm \n",
    "    sel_results_alg = df_results['Algorithm'] == alg \n",
    "    df_params_alg = df_results[sel_results_alg]\n",
    "    parameters_list = df_params_alg['Parameters'].unique().tolist()\n",
    "\n",
    "    #sumarizing the results of each pararameter \n",
    "    for param in parameters_list: \n",
    "      result = result_summary(df_params_alg, alg, param)\n",
    "      df_summary = df_summary.append(result, ignore_index=True)\n",
    "\n",
    "  #saving DataFrame with the Ssmmarized results\n",
    "  df_summary.to_csv(path_to, index=False)"
   ]
  },
  {
   "source": [
    "# Test Area"
   ],
   "cell_type": "markdown",
   "metadata": {}
  },
  {
   "cell_type": "code",
   "execution_count": null,
   "metadata": {},
   "outputs": [],
   "source": []
  },
  {
   "cell_type": "code",
   "execution_count": null,
   "metadata": {},
   "outputs": [],
   "source": []
  }
 ]
}