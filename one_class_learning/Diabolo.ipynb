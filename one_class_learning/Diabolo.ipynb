{
 "metadata": {
  "language_info": {
   "codemirror_mode": {
    "name": "ipython",
    "version": 3
   },
   "file_extension": ".py",
   "mimetype": "text/x-python",
   "name": "python",
   "nbconvert_exporter": "python",
   "pygments_lexer": "ipython3",
   "version": "3.7.3-final"
  },
  "orig_nbformat": 2,
  "kernelspec": {
   "name": "python3",
   "display_name": "Python 3",
   "language": "python"
  }
 },
 "nbformat": 4,
 "nbformat_minor": 2,
 "cells": [
  {
   "source": [
    "# Imports"
   ],
   "cell_type": "markdown",
   "metadata": {}
  },
  {
   "cell_type": "code",
   "execution_count": 8,
   "metadata": {},
   "outputs": [],
   "source": [
    "import tensorflow as tf\n",
    "import numpy as np\n",
    "from tensorflow.keras.optimizers import Adam\n",
    "from scipy.spatial.distance import cosine"
   ]
  },
  {
   "source": [
    "# Functions"
   ],
   "cell_type": "markdown",
   "metadata": {}
  },
  {
   "cell_type": "code",
   "execution_count": 9,
   "metadata": {},
   "outputs": [],
   "source": [
    "def sim_cosine(vec1, vec2): \n",
    "  return 1 - cosine(vec1, vec2)"
   ]
  },
  {
   "cell_type": "code",
   "execution_count": 11,
   "metadata": {},
   "outputs": [],
   "source": [
    "def standardization(X):\n",
    "    for i in range(len(X)):\n",
    "        X[i] = X[i] / X[i].max()\n",
    "    return X"
   ]
  },
  {
   "source": [
    "# Diabolo Class"
   ],
   "cell_type": "markdown",
   "metadata": {}
  },
  {
   "cell_type": "code",
   "execution_count": 20,
   "metadata": {},
   "outputs": [],
   "source": [
    "class Diabolo(object):\n",
    "\n",
    "    def __init__(self, input_size, threshold): \n",
    "        self.input_size = input_size\n",
    "        self.threshold = threshold\n",
    "\n",
    "        input = tf.keras.Input(shape=(input_size,))\n",
    "        encoded = tf.keras.layers.Dense(encoding_dim, activation='relu')(input)\n",
    "        decoded = tf.keras.layers.Dense(input_size, activation='sigmoid')(encoded)\n",
    "        autoencoder = keras.Model(input, decoded) \n",
    "        autoencoder.compile(optimizer=Adam(learning_rate=0.01), loss='binary_crossentropy')\n",
    "\n",
    "        self.model = autoencoder\n",
    "    \n",
    "    def fit(self,X,y, epochs=500, shuffle=True, batch_size=1):\n",
    "        self.model.fit(X,X, epochs=epochs, shuffle=shuffle, batch_size=batch_size) \n",
    "\n",
    "    def decision_function(self,X): \n",
    "        scores = np.zeros(len(X), dtype=np.float32)\n",
    "        model_outputs = self.model.predict(X)\n",
    "        for i, output in enumerate(model_outputs): \n",
    "            scores[i] = sim_cosine(X[i], output)\n",
    "        return scores \n",
    "\n",
    "\n",
    "    def predict(self,X): \n",
    "        predictions = np.zeros(len(X))\n",
    "        scores = self.decision_function(X)\n",
    "        for i,score in enumerate(scores): \n",
    "            predictions[i] = 1 if score > self.threhsold else 0\n",
    "        return predictions\n"
   ]
  },
  {
   "cell_type": "code",
   "execution_count": null,
   "metadata": {},
   "outputs": [],
   "source": []
  },
  {
   "source": [
    "# Test area"
   ],
   "cell_type": "markdown",
   "metadata": {}
  },
  {
   "cell_type": "code",
   "execution_count": null,
   "metadata": {},
   "outputs": [],
   "source": []
  }
 ]
}