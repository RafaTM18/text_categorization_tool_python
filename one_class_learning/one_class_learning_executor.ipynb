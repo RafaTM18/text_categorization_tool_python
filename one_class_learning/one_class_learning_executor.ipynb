{
 "metadata": {
  "language_info": {
   "codemirror_mode": {
    "name": "ipython",
    "version": 3
   },
   "file_extension": ".py",
   "mimetype": "text/x-python",
   "name": "python",
   "nbconvert_exporter": "python",
   "pygments_lexer": "ipython3",
   "version": "3.7.3-final"
  },
  "orig_nbformat": 2,
  "kernelspec": {
   "name": "python3",
   "display_name": "Python 3",
   "language": "python"
  }
 },
 "nbformat": 4,
 "nbformat_minor": 2,
 "cells": [
  {
   "source": [
    "# Imports"
   ],
   "cell_type": "markdown",
   "metadata": {}
  },
  {
   "cell_type": "code",
   "execution_count": 6,
   "metadata": {},
   "outputs": [
    {
     "output_type": "error",
     "ename": "SyntaxError",
     "evalue": "invalid syntax (Diabolo.py, line 47)",
     "traceback": [
      "Traceback \u001b[0;36m(most recent call last)\u001b[0m:\n",
      "  File \u001b[1;32m\"/home/rafael/anaconda3/lib/python3.7/site-packages/IPython/core/interactiveshell.py\"\u001b[0m, line \u001b[1;32m3331\u001b[0m, in \u001b[1;35mrun_code\u001b[0m\n    exec(code_obj, self.user_global_ns, self.user_ns)\n",
      "\u001b[0;36m  File \u001b[0;32m\"<ipython-input-6-5e3fe38b4a9d>\"\u001b[0;36m, line \u001b[0;32m15\u001b[0;36m, in \u001b[0;35m<module>\u001b[0;36m\u001b[0m\n\u001b[0;31m    from Diabolo import Diabolo\u001b[0m\n",
      "\u001b[0;36m  File \u001b[0;32m\"/home/rafael/Área de Trabalho/Projetos/TextCategorizationToolPython/one_class_learning/Diabolo.py\"\u001b[0;36m, line \u001b[0;32m47\u001b[0m\n\u001b[0;31m    self dedision_function\u001b[0m\n\u001b[0m                         ^\u001b[0m\n\u001b[0;31mSyntaxError\u001b[0m\u001b[0;31m:\u001b[0m invalid syntax\n"
     ]
    }
   ],
   "source": [
    "import itertools\n",
    "from sklearn.neighbors import LocalOutlierFactor\n",
    "from sklearn.svm import OneClassSVM\n",
    "from sklearn.covariance import EllipticEnvelope\n",
    "from sklearn.ensemble import IsolationForest\n",
    "import one_class_learning as ocl\n",
    "import pandas as pd\n",
    "import numpy as np\n",
    "import sys\n",
    "import json\n",
    "import logging \n",
    "import time\n",
    "from datetime import datetime\n",
    "\n",
    "from Diabolo import Diabolo"
   ]
  },
  {
   "source": [
    "# Definitions"
   ],
   "cell_type": "markdown",
   "metadata": {}
  },
  {
   "cell_type": "code",
   "execution_count": 2,
   "metadata": {},
   "outputs": [],
   "source": [
    "dict_algorithms = {}\n",
    "dict_algorithms['LocalOutlierFactor'] = LocalOutlierFactor\n",
    "dict_algorithms['OneClassSVM'] = OneClassSVM\n",
    "dict_algorithms['EllipticEnvelope'] = EllipticEnvelope\n",
    "dict_algorithms['IsolationForest'] = IsolationForest\n"
   ]
  },
  {
   "source": [
    "# Functions"
   ],
   "cell_type": "markdown",
   "metadata": {}
  },
  {
   "cell_type": "code",
   "execution_count": 3,
   "metadata": {},
   "outputs": [],
   "source": [
    "def generate_parameters_list(parameters): \n",
    "    \n",
    "  all_parameters = []\n",
    "  for values in parameters.values(): \n",
    "    all_parameters.append(values)\n",
    "  all_permutations = []\n",
    "  for combination in itertools.product(*all_parameters):\n",
    "    all_permutations.append(combination)\n",
    "  parameters_list = []\n",
    "  for combination in all_permutations: \n",
    "    param = {}\n",
    "    for i, key in enumerate(parameters.keys()): \n",
    "      param[key] = combination[i]\n",
    "    parameters_list.append(param)\n",
    "  return parameters_list\n",
    "    "
   ]
  },
  {
   "cell_type": "code",
   "execution_count": 4,
   "metadata": {},
   "outputs": [],
   "source": [
    "def log(message): \n",
    "    now = datetime.now()\n",
    "    with open('error.log', 'a') as file:\n",
    "        file.write(now.strftime(\"%Y/%m/%d, %H:%M:%S\") + message + '\\n') \n"
   ]
  },
  {
   "cell_type": "code",
   "execution_count": 5,
   "metadata": {},
   "outputs": [],
   "source": [
    "def load_data(path): \n",
    "\n",
    "    df = pd.read_csv(path)\n",
    "    data = df.to_numpy()\n",
    "    X = data[:,:-1]\n",
    "    y = data[:,-1]\n",
    "\n",
    "    return X,y"
   ]
  },
  {
   "source": [
    "# Test Área"
   ],
   "cell_type": "markdown",
   "metadata": {}
  },
  {
   "cell_type": "code",
   "execution_count": 6,
   "metadata": {},
   "outputs": [],
   "source": [
    "config = {\n",
    "    'path_dataset': '/home/rafael/Downloads/iris.csv',\n",
    "    'path_results': '/home/rafael/Área de Trabalho/Projetos/TextCategorizationToolPython/saida/resultados_teste.csv',\n",
    "    'validation': {\n",
    "        'number_trials': 10,\n",
    "        'number_labeled_examples': [1, 5, 10, 20, 30],\n",
    "        'split_type': 'random',\n",
    "    },\n",
    "    'algorithms': [\n",
    "        {\n",
    "            'name': 'LocalOutlierFactor',\n",
    "            'parameters': {\n",
    "                'n_neighbors' : [1, 5, 9, 13, 17, 21],\n",
    "                'metric': ['cosine','euclidean'],\n",
    "                'novelty': [True],\n",
    "                'n_jobs': [4]\n",
    "            }\n",
    "        },\n",
    "        {\n",
    "            'name': 'OneClassSVM',\n",
    "            'parameters': {\n",
    "                'nu': [0.05, 0.1, 0.15, 0.2, 0.25, 0.3, 0.35, 0.4, 0.45, 0.5, 0.55, 0.6, 0.65, 0.7, 0.75, 0.8,  0.85, 0.9, 0.95],\n",
    "                'gamma': ['scale','auto'],\n",
    "                'kernel': ['linear', 'rbf'],\n",
    "                'max_iter': [100]\n",
    "            }\n",
    "        },\n",
    "        {\n",
    "            'name': 'EllipticEnvelope',\n",
    "            'parameters': {\n",
    "                'assume_centered': [True, False],\n",
    "                'contamination': [0.1, 0.2, 0.3, 0.4],\n",
    "                'random_state' : [42]\n",
    "            }\n",
    "        },\n",
    "        {\n",
    "            'name': 'IsolationForest',\n",
    "            'parameters': {\n",
    "                'n_estimators' : [10,30,50,70,90],\n",
    "                'n_jobs': [4],\n",
    "                'random_state' : [42]\n",
    "            }\n",
    "        },\n",
    "    ]\n",
    "}"
   ]
  },
  {
   "cell_type": "code",
   "execution_count": 7,
   "metadata": {},
   "outputs": [],
   "source": [
    "config = {\n",
    "    'path_dataset': '/home/rafael/Downloads/iris.csv',\n",
    "    'path_results': '/home/rafael/Área de Trabalho/Projetos/TextCategorizationToolPython/saida/resultados_teste.csv',\n",
    "    'validation': {\n",
    "        'number_trials': 10,\n",
    "        'number_labeled_examples': [1, 5, 10, 20, 30],\n",
    "        'split_type': 'random',\n",
    "    },\n",
    "    'algorithms': [\n",
    "        {\n",
    "            'name': 'LocalOutlierFactor',\n",
    "            'parameters': {\n",
    "                'n_neighbors' : [1, 5, 9, 13, 17, 21],\n",
    "                'metric': ['cosine','euclidean'],\n",
    "                'novelty': [True],\n",
    "                'n_jobs': [4]\n",
    "            }\n",
    "        },\n",
    "        \n",
    "    ]\n",
    "}"
   ]
  },
  {
   "cell_type": "code",
   "execution_count": 8,
   "metadata": {},
   "outputs": [
    {
     "output_type": "execute_result",
     "data": {
      "text/plain": [
       "{'path_dataset': '/home/rafael/Downloads/iris.csv',\n",
       " 'path_results': '/home/rafael/Área de Trabalho/Projetos/TextCategorizationToolPython/saida/resultados_teste.csv',\n",
       " 'validation': {'number_trials': 10,\n",
       "  'number_labeled_examples': [1, 5, 10, 20, 30],\n",
       "  'split_type': 'random'},\n",
       " 'algorithms': [{'name': 'LocalOutlierFactor',\n",
       "   'parameters': {'n_neighbors': [1, 5, 9, 13, 17, 21],\n",
       "    'metric': ['cosine', 'euclidean'],\n",
       "    'novelty': [True],\n",
       "    'n_jobs': [4]}}]}"
      ]
     },
     "metadata": {},
     "execution_count": 8
    }
   ],
   "source": [
    "config"
   ]
  },
  {
   "cell_type": "code",
   "execution_count": 9,
   "metadata": {},
   "outputs": [],
   "source": [
    "with open('config_example.json','w') as file:\n",
    "    json.dump(config, file, indent=3)"
   ]
  },
  {
   "cell_type": "code",
   "execution_count": 10,
   "metadata": {},
   "outputs": [],
   "source": [
    "path = '/home/rafael/Área de Trabalho/Projetos/TextCategorizationToolPython/one_class_learning/config_example.json'"
   ]
  },
  {
   "source": [
    "# Main"
   ],
   "cell_type": "markdown",
   "metadata": {}
  },
  {
   "cell_type": "code",
   "execution_count": 11,
   "metadata": {
    "tags": []
   },
   "outputs": [
    {
     "output_type": "stream",
     "name": "stdout",
     "text": [
      "{'n_neighbors': 1, 'metric': 'cosine', 'novelty': True, 'n_jobs': 4}\nAquiiiiiiiiiiiiiiiiii\nNumber labeled examples: [1, 5, 10, 20, 30]\n{'n_neighbors': 1, 'metric': 'euclidean', 'novelty': True, 'n_jobs': 4}\nAquiiiiiiiiiiiiiiiiii\nNumber labeled examples: [1, 5, 10, 20, 30]\n{'n_neighbors': 5, 'metric': 'cosine', 'novelty': True, 'n_jobs': 4}\nAquiiiiiiiiiiiiiiiiii\nNumber labeled examples: [1, 5, 10, 20, 30]\n{'n_neighbors': 5, 'metric': 'euclidean', 'novelty': True, 'n_jobs': 4}\nAquiiiiiiiiiiiiiiiiii\nNumber labeled examples: [1, 5, 10, 20, 30]\n{'n_neighbors': 9, 'metric': 'cosine', 'novelty': True, 'n_jobs': 4}\nAquiiiiiiiiiiiiiiiiii\nNumber labeled examples: [1, 5, 10, 20, 30]\n{'n_neighbors': 9, 'metric': 'euclidean', 'novelty': True, 'n_jobs': 4}\nAquiiiiiiiiiiiiiiiiii\nNumber labeled examples: [1, 5, 10, 20, 30]\n{'n_neighbors': 13, 'metric': 'cosine', 'novelty': True, 'n_jobs': 4}\nAquiiiiiiiiiiiiiiiiii\nNumber labeled examples: [1, 5, 10, 20, 30]\n{'n_neighbors': 13, 'metric': 'euclidean', 'novelty': True, 'n_jobs': 4}\nAquiiiiiiiiiiiiiiiiii\nNumber labeled examples: [1, 5, 10, 20, 30]\n{'n_neighbors': 17, 'metric': 'cosine', 'novelty': True, 'n_jobs': 4}\nAquiiiiiiiiiiiiiiiiii\nNumber labeled examples: [1, 5, 10, 20, 30]\n{'n_neighbors': 17, 'metric': 'euclidean', 'novelty': True, 'n_jobs': 4}\nAquiiiiiiiiiiiiiiiiii\nNumber labeled examples: [1, 5, 10, 20, 30]\n{'n_neighbors': 21, 'metric': 'cosine', 'novelty': True, 'n_jobs': 4}\nAquiiiiiiiiiiiiiiiiii\nNumber labeled examples: [1, 5, 10, 20, 30]\n{'n_neighbors': 21, 'metric': 'euclidean', 'novelty': True, 'n_jobs': 4}\nAquiiiiiiiiiiiiiiiiii\nNumber labeled examples: [1, 5, 10, 20, 30]\n"
     ]
    }
   ],
   "source": [
    "# Comment the first two lines in case of ruuning the notebook\n",
    "#if __name__ == '__main__': \n",
    "#    path_json = sys.argv[1]\n",
    "\n",
    "with open(path, 'r') as file: \n",
    "    config = json.load(file)\n",
    "\n",
    "X, y = load_data(config['path_dataset'])\n",
    "\n",
    "config_algorithms = config['algorithms']\n",
    "for algorithm in config_algorithms: \n",
    "    parameters = algorithm['parameters']\n",
    "    parameters_list = generate_parameters_list(parameters)\n",
    "    for parameters in parameters_list: \n",
    "        classifier = dict_algorithms[algorithm['name']](**parameters)\n",
    "        try: \n",
    "            ocl.execute_exp(X,y,classifier,config)\n",
    "        except Exception as Erro: \n",
    "            log(str(Erro))"
   ]
  },
  {
   "cell_type": "code",
   "execution_count": 28,
   "metadata": {},
   "outputs": [],
   "source": []
  },
  {
   "cell_type": "code",
   "execution_count": 31,
   "metadata": {},
   "outputs": [
    {
     "output_type": "execute_result",
     "data": {
      "text/plain": [
       "'2021/01/25, 18:36:45'"
      ]
     },
     "metadata": {},
     "execution_count": 31
    }
   ],
   "source": []
  },
  {
   "cell_type": "code",
   "execution_count": null,
   "metadata": {},
   "outputs": [],
   "source": []
  }
 ]
}