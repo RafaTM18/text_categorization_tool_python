{
 "metadata": {
  "language_info": {
   "codemirror_mode": {
    "name": "ipython",
    "version": 3
   },
   "file_extension": ".py",
   "mimetype": "text/x-python",
   "name": "python",
   "nbconvert_exporter": "python",
   "pygments_lexer": "ipython3",
   "version": "3.7.3-final"
  },
  "orig_nbformat": 2,
  "kernelspec": {
   "name": "python3",
   "display_name": "Python 3",
   "language": "python"
  }
 },
 "nbformat": 4,
 "nbformat_minor": 2,
 "cells": [
  {
   "source": [
    "# Libaries"
   ],
   "cell_type": "markdown",
   "metadata": {}
  },
  {
   "cell_type": "code",
   "execution_count": 1,
   "metadata": {},
   "outputs": [],
   "source": [
    "#Data Structures and Utilities\n",
    "import numpy as np\n",
    "import pandas as pd\n",
    "import time\n",
    "import os\n",
    "\n",
    "# Learning evaluation\n",
    "from  sklearn.model_selection import KFold\n",
    "from sklearn.metrics import f1_score\n",
    "from sklearn.metrics import accuracy_score\n",
    "from sklearn.metrics import precision_score\n",
    "from sklearn.metrics import recall_score\n",
    "\n",
    "from sklearn.metrics import roc_auc_score\n",
    "from sklearn.metrics import confusion_matrix\n",
    "\n",
    "#Algorithms\n",
    "from sklearn.neighbors import LocalOutlierFactor\n",
    "from sklearn.svm import OneClassSVM\n",
    "from sklearn.ensemble import IsolationForest\n",
    "from sklearn.covariance import EllipticEnvelope\n"
   ]
  },
  {
   "source": [
    "# Definitions"
   ],
   "cell_type": "markdown",
   "metadata": {}
  },
  {
   "cell_type": "code",
   "execution_count": 2,
   "metadata": {},
   "outputs": [],
   "source": [
    "SEED = 42\n",
    "np.random.seed(SEED) #seed for random selections\n",
    "\n",
    "#mapping for algorithm name and the class of the algorithm\n",
    "algorithms = {\n",
    "    'LocalOutlierFactor': LocalOutlierFactor, \n",
    "    'OneClassSVM': OneClassSVM, \n",
    "    'IsolationForest': IsolationForest,\n",
    "    'EllipticEnvelope': EllipticEnvelope\n",
    "}"
   ]
  },
  {
   "source": [
    "# Functions"
   ],
   "cell_type": "markdown",
   "metadata": {}
  },
  {
   "cell_type": "code",
   "execution_count": 3,
   "metadata": {},
   "outputs": [],
   "source": [
    "#Split the dataset into train and test data\n",
    "\n",
    "# split_type: type os splitting of the examples from the interest class: \"cross-validation\" or \"random\"\n",
    "# number: number of folds in case of type == \"cross-validation\", or number or examples in case of type == \"random\"\n",
    "def get_indexes(data, split_type, number_trials, number_examples): \n",
    "    indexes = []\n",
    "    if split_type == 'cross-validation': \n",
    "        kf = KFold(n_splits=number_trials, shuffle=True, random_state=SEED)\n",
    "        for ids_train, ids_test in kf.split(data):\n",
    "            indexes_train = data[ids_train]\n",
    "            indexes.append(indexes_train)\n",
    "    elif split_type == 'random':\n",
    "        for it in range(number_trials):\n",
    "            indexes.append(np.random.choice(data, size=number_examples, replace=False))\n",
    "    else:\n",
    "        raise ValueError('Unsuported split type. Please, use split_type = {\"cross-validation\",\"random\"}.')\n",
    "    return indexes"
   ]
  },
  {
   "cell_type": "code",
   "execution_count": 4,
   "metadata": {},
   "outputs": [],
   "source": [
    "def get_train_test_data(X, all_indexes, indexes_train):\n",
    "    indexes_test = list(set(all_indexes) - set(indexes_train))\n",
    "    return X[indexes_train], X[indexes_test]"
   ]
  },
  {
   "cell_type": "code",
   "execution_count": 5,
   "metadata": {},
   "outputs": [],
   "source": [
    "def get_classes_test(y, classe, all_indexes, indexes_train): \n",
    "    indexes_test = list(set(all_indexes) - set(indexes_train))\n",
    "    y_test = np.ones(len(indexes_test), dtype=np.int)\n",
    "    for i, element in enumerate(y[indexes_test]): \n",
    "        if element != classe: \n",
    "            y_test[i] = -1\n",
    "    return y_test"
   ]
  },
  {
   "cell_type": "code",
   "execution_count": 6,
   "metadata": {},
   "outputs": [],
   "source": [
    "def get_evaluation_metrics(classifier, X_test, y_test, classe, num_labeled_exs, it_number, model_building_time=0): \n",
    "  \n",
    "  evaluation = {} \n",
    "  start_time_classification = time.time()\n",
    "  predictions = classifier.predict(X_test)\n",
    "  elapsed_time_classification = (time.time() - start_time_classification) / 1000\n",
    "  evaluation['Algorithm'] = classifier.__class__.__name__\n",
    "  evaluation['Parameters'] = str(classifier.get_params())\n",
    "  evaluation['Class'] = classe\n",
    "  evaluation['Number_Labeled_Examples'] = num_labeled_exs\n",
    "  evaluation['Iteration'] = it_number\n",
    "  evaluation['Accuracy'] = accuracy_score(y_test,predictions)\n",
    "  evaluation['Precision'] = precision_score(y_test,predictions)\n",
    "  evaluation['Recall'] = recall_score(y_test,predictions)\n",
    "  evaluation['F1'] = f1_score(y_test,predictions)\n",
    "  evaluation['ROC_AUC'] = roc_auc_score(y_test,predictions,average=None)\n",
    "  evaluation['Building_Time'] = model_building_time\n",
    "  evaluation['Confusion_Matrix'] = confusion_matrix(y_test,predictions).tolist()\n",
    "  evaluation['Classification_Time'] = elapsed_time_classification\n",
    "  evaluation['Memory'] = sys.getsizeof(classifier) / 1024\n",
    "  \n",
    "  return evaluation "
   ]
  },
  {
   "cell_type": "code",
   "execution_count": 7,
   "metadata": {},
   "outputs": [],
   "source": [
    "def get_data_frame(path_results): \n",
    "    results = None \n",
    "    if (os.path.exists(path_results)):\n",
    "        results = pd.read_csv(path_results)\n",
    "    else: \n",
    "        results = pd.DataFrame(columns=['Algorithm',\n",
    "            'Parameters',\n",
    "            'Class',\n",
    "            'Number_Labeled_Examples',\n",
    "            'Iteration',\n",
    "            'Accuracy',\n",
    "            'Precision',\n",
    "            'Recall',\n",
    "            'F1',\n",
    "            'ROC_AUC',  \n",
    "            'Building_Time',\n",
    "            'Confusion_Matrix',\n",
    "            'Classification_Time',\n",
    "            'Memory'\n",
    "        ])\n",
    "    return results"
   ]
  },
  {
   "cell_type": "code",
   "execution_count": 8,
   "metadata": {},
   "outputs": [],
   "source": [
    "def check_exp(results, classifier, classe, iteration, num_labeled_exes): \n",
    "    if len(results[(results['Algorithm'] == classifier.__class__.__name__) &  (results['Parameters'] == str(classifier.get_params())) & (results['Class'] == classe) & (results['Number_Labeled_Examples'] == num_labeled_exes) & (results['Iteration'] == iteration)]) > 0: \n",
    "        return False\n",
    "    else: \n",
    "        return True\n",
    "    "
   ]
  },
  {
   "cell_type": "code",
   "execution_count": 9,
   "metadata": {},
   "outputs": [],
   "source": [
    "#X: dada\n",
    "#y: classes\n",
    "# split_type: type os splitting of the examples from the interest class: \"cross-validation\" or \"random\"\n",
    "#classifier: OCL algorithm\n",
    "# number_trials: number of folds in case of split_type == \"cross-validation\", or number or repetitions in case of split_type == \"random\"\n",
    "# number_examples: number of labeled_examples if split_type == \"random\"\n",
    "def one_class_learning(X, y, classifier, path_results, split_type='cross-validation', number_trials=10, number_examples=10): \n",
    "    current_results = get_data_frame(path_results)\n",
    "    all_indexes = set(range(len(X)))\n",
    "    classes = np.unique(y)\n",
    "    for classe in classes: \n",
    "        classe_indexes = np.argwhere(y == classe).reshape(-1)\n",
    "        for it, indexes_train in enumerate(get_indexes(classe_indexes, split_type, number_trials, number_examples)):\n",
    "            X_train, X_test = get_train_test_data(X, all_indexes, indexes_train)\n",
    "            y_test = get_classes_test(y, classe, all_indexes, indexes_train)\n",
    "            num_labeled_exes = len(X_train)\n",
    "            if check_exp(current_results, classifier, classe, it, num_labeled_exes):\n",
    "                classifier.fit(X_train)\n",
    "                result = get_evaluation_metrics(classifier, X_test, y_test, classe, num_labeled_exes, it, model_building_time=0)\n",
    "                print(result, '\\n')\n",
    "                current_results = current_results.append(result,ignore_index=True)\n",
    "                current_results.to_csv(config['path_results'], index=False)\n",
    "    \n"
   ]
  },
  {
   "cell_type": "code",
   "execution_count": 10,
   "metadata": {},
   "outputs": [],
   "source": [
    "def execute_exp(X, y, classifier, config): \n",
    "    path_results = None\n",
    "    if 'path_results' not in config: \n",
    "        raise ValueError('Config file must be a \"path_result\" entry')\n",
    "    else: \n",
    "        path_results = config['path_results']\n",
    "    if 'path_dataset' not in config: \n",
    "        raise ValueError('Config file must be a \"path_dataset\" entry')\n",
    "    if 'algorithms' not in config: \n",
    "        raise ValueError('Config file must be a \"algorithm\" entry')\n",
    "    if len(config['algorithms']) == 0:\n",
    "        raise ValueError('At least one algorhtm should be specified')\n",
    "    \n",
    "    number_trials = None \n",
    "    if 'number_trials' not in config: \n",
    "        number_trials=10\n",
    "    else: \n",
    "        number_trials= config['number_trials']\n",
    "\n",
    "    number_examples = None \n",
    "    if 'number_examples' not in config:\n",
    "        number_examples = 10\n",
    "    else: \n",
    "        number_examples = config['number_examples']\n",
    "\n",
    "    split_type = None\n",
    "    if 'split_type' not in config: \n",
    "        split_type = 'cross-validation'\n",
    "        number_examples=None\n",
    "    else: \n",
    "        split_type = config['split_type']\n",
    "\n",
    "    one_class_learning(X, y, classifier, path_results, split_type=split_type, number_trials=number_trials, number_examples=number_examples)\n",
    "\n",
    "    print('Done')\n"
   ]
  },
  {
   "source": [
    "# Área de Testes"
   ],
   "cell_type": "markdown",
   "metadata": {}
  },
  {
   "cell_type": "code",
   "execution_count": 22,
   "metadata": {},
   "outputs": [],
   "source": [
    "config = {\n",
    "    'path_dataset': '/home/rafael/Downloads/iris.csv',\n",
    "    'path_results': '/home/rafael/Área de Trabalho/Projetos/TextCategorizationToolPython/saida/resultados_teste.csv',\n",
    "    'split_type': 'random',\n",
    "    'algorithms': [\n",
    "        {\n",
    "            'name': 'LocalOutlierFactor',\n",
    "            'parameters': {}\n",
    "        }\n",
    "    ]\n",
    "}"
   ]
  },
  {
   "cell_type": "code",
   "execution_count": 14,
   "metadata": {},
   "outputs": [],
   "source": [
    "df = pd.read_csv('/home/rafael/Downloads/iris.csv')\n",
    "data = df.to_numpy()\n",
    "X = data[:,:-1]\n",
    "y = data[:,-1]"
   ]
  },
  {
   "cell_type": "code",
   "execution_count": 19,
   "metadata": {},
   "outputs": [],
   "source": [
    "algorithm = 'LocalOutlierFactor'\n",
    "classifier = algorithms[algorithm](novelty=True)\n",
    "#classifier = OneClassSVM()"
   ]
  },
  {
   "cell_type": "code",
   "execution_count": 23,
   "metadata": {
    "tags": []
   },
   "outputs": [
    {
     "output_type": "stream",
     "name": "stdout",
     "text": [
      "{'Algorithm': 'LocalOutlierFactor', 'Parameters': \"{'algorithm': 'auto', 'contamination': 'auto', 'leaf_size': 30, 'metric': 'minkowski', 'metric_params': None, 'n_jobs': None, 'n_neighbors': 20, 'novelty': True, 'p': 2}\", 'Class': 'Setosa', 'Number_Labeled_Examples': 10, 'Iteration': 0, 'Accuracy': 1.0, 'Precision': 1.0, 'Recall': 1.0, 'F1': 1.0, 'ROC_AUC': 1.0, 'Building_Time': 0, 'Confusion_Matrix': [[100, 0], [0, 40]], 'Classification_Time': 6.456375122070313e-07, 'Memory': 0.0546875} \n",
      "\n",
      "{'Algorithm': 'LocalOutlierFactor', 'Parameters': \"{'algorithm': 'auto', 'contamination': 'auto', 'leaf_size': 30, 'metric': 'minkowski', 'metric_params': None, 'n_jobs': None, 'n_neighbors': 20, 'novelty': True, 'p': 2}\", 'Class': 'Setosa', 'Number_Labeled_Examples': 10, 'Iteration': 1, 'Accuracy': 1.0, 'Precision': 1.0, 'Recall': 1.0, 'F1': 1.0, 'ROC_AUC': 1.0, 'Building_Time': 0, 'Confusion_Matrix': [[100, 0], [0, 40]], 'Classification_Time': 5.469322204589844e-07, 'Memory': 0.0546875} \n",
      "\n",
      "{'Algorithm': 'LocalOutlierFactor', 'Parameters': \"{'algorithm': 'auto', 'contamination': 'auto', 'leaf_size': 30, 'metric': 'minkowski', 'metric_params': None, 'n_jobs': None, 'n_neighbors': 20, 'novelty': True, 'p': 2}\", 'Class': 'Setosa', 'Number_Labeled_Examples': 10, 'Iteration': 2, 'Accuracy': 0.9928571428571429, 'Precision': 0.975609756097561, 'Recall': 1.0, 'F1': 0.9876543209876543, 'ROC_AUC': 0.995, 'Building_Time': 0, 'Confusion_Matrix': [[99, 1], [0, 40]], 'Classification_Time': 5.295276641845703e-07, 'Memory': 0.0546875} \n",
      "\n",
      "{'Algorithm': 'LocalOutlierFactor', 'Parameters': \"{'algorithm': 'auto', 'contamination': 'auto', 'leaf_size': 30, 'metric': 'minkowski', 'metric_params': None, 'n_jobs': None, 'n_neighbors': 20, 'novelty': True, 'p': 2}\", 'Class': 'Setosa', 'Number_Labeled_Examples': 10, 'Iteration': 3, 'Accuracy': 0.9857142857142858, 'Precision': 0.9523809523809523, 'Recall': 1.0, 'F1': 0.975609756097561, 'ROC_AUC': 0.99, 'Building_Time': 0, 'Confusion_Matrix': [[98, 2], [0, 40]], 'Classification_Time': 9.739398956298828e-07, 'Memory': 0.0546875} \n",
      "\n",
      "{'Algorithm': 'LocalOutlierFactor', 'Parameters': \"{'algorithm': 'auto', 'contamination': 'auto', 'leaf_size': 30, 'metric': 'minkowski', 'metric_params': None, 'n_jobs': None, 'n_neighbors': 20, 'novelty': True, 'p': 2}\", 'Class': 'Setosa', 'Number_Labeled_Examples': 10, 'Iteration': 4, 'Accuracy': 0.9928571428571429, 'Precision': 0.975609756097561, 'Recall': 1.0, 'F1': 0.9876543209876543, 'ROC_AUC': 0.995, 'Building_Time': 0, 'Confusion_Matrix': [[99, 1], [0, 40]], 'Classification_Time': 6.434917449951172e-07, 'Memory': 0.0546875} \n",
      "\n",
      "{'Algorithm': 'LocalOutlierFactor', 'Parameters': \"{'algorithm': 'auto', 'contamination': 'auto', 'leaf_size': 30, 'metric': 'minkowski', 'metric_params': None, 'n_jobs': None, 'n_neighbors': 20, 'novelty': True, 'p': 2}\", 'Class': 'Setosa', 'Number_Labeled_Examples': 10, 'Iteration': 5, 'Accuracy': 1.0, 'Precision': 1.0, 'Recall': 1.0, 'F1': 1.0, 'ROC_AUC': 1.0, 'Building_Time': 0, 'Confusion_Matrix': [[100, 0], [0, 40]], 'Classification_Time': 5.545616149902344e-07, 'Memory': 0.0546875} \n",
      "\n",
      "{'Algorithm': 'LocalOutlierFactor', 'Parameters': \"{'algorithm': 'auto', 'contamination': 'auto', 'leaf_size': 30, 'metric': 'minkowski', 'metric_params': None, 'n_jobs': None, 'n_neighbors': 20, 'novelty': True, 'p': 2}\", 'Class': 'Setosa', 'Number_Labeled_Examples': 10, 'Iteration': 6, 'Accuracy': 1.0, 'Precision': 1.0, 'Recall': 1.0, 'F1': 1.0, 'ROC_AUC': 1.0, 'Building_Time': 0, 'Confusion_Matrix': [[100, 0], [0, 40]], 'Classification_Time': 4.93764877319336e-07, 'Memory': 0.0546875} \n",
      "\n",
      "{'Algorithm': 'LocalOutlierFactor', 'Parameters': \"{'algorithm': 'auto', 'contamination': 'auto', 'leaf_size': 30, 'metric': 'minkowski', 'metric_params': None, 'n_jobs': None, 'n_neighbors': 20, 'novelty': True, 'p': 2}\", 'Class': 'Setosa', 'Number_Labeled_Examples': 10, 'Iteration': 7, 'Accuracy': 1.0, 'Precision': 1.0, 'Recall': 1.0, 'F1': 1.0, 'ROC_AUC': 1.0, 'Building_Time': 0, 'Confusion_Matrix': [[100, 0], [0, 40]], 'Classification_Time': 5.657672882080079e-07, 'Memory': 0.0546875} \n",
      "\n",
      "{'Algorithm': 'LocalOutlierFactor', 'Parameters': \"{'algorithm': 'auto', 'contamination': 'auto', 'leaf_size': 30, 'metric': 'minkowski', 'metric_params': None, 'n_jobs': None, 'n_neighbors': 20, 'novelty': True, 'p': 2}\", 'Class': 'Setosa', 'Number_Labeled_Examples': 10, 'Iteration': 8, 'Accuracy': 0.9928571428571429, 'Precision': 1.0, 'Recall': 0.975, 'F1': 0.9873417721518987, 'ROC_AUC': 0.9875, 'Building_Time': 0, 'Confusion_Matrix': [[100, 0], [1, 39]], 'Classification_Time': 5.130767822265625e-07, 'Memory': 0.0546875} \n",
      "\n",
      "{'Algorithm': 'LocalOutlierFactor', 'Parameters': \"{'algorithm': 'auto', 'contamination': 'auto', 'leaf_size': 30, 'metric': 'minkowski', 'metric_params': None, 'n_jobs': None, 'n_neighbors': 20, 'novelty': True, 'p': 2}\", 'Class': 'Setosa', 'Number_Labeled_Examples': 10, 'Iteration': 9, 'Accuracy': 0.9928571428571429, 'Precision': 0.975609756097561, 'Recall': 1.0, 'F1': 0.9876543209876543, 'ROC_AUC': 0.995, 'Building_Time': 0, 'Confusion_Matrix': [[99, 1], [0, 40]], 'Classification_Time': 6.823539733886719e-07, 'Memory': 0.0546875} \n",
      "\n",
      "{'Algorithm': 'LocalOutlierFactor', 'Parameters': \"{'algorithm': 'auto', 'contamination': 'auto', 'leaf_size': 30, 'metric': 'minkowski', 'metric_params': None, 'n_jobs': None, 'n_neighbors': 20, 'novelty': True, 'p': 2}\", 'Class': 'Versicolor', 'Number_Labeled_Examples': 10, 'Iteration': 0, 'Accuracy': 0.6714285714285714, 'Precision': 0.46511627906976744, 'Recall': 1.0, 'F1': 0.6349206349206349, 'ROC_AUC': 0.77, 'Building_Time': 0, 'Confusion_Matrix': [[54, 46], [0, 40]], 'Classification_Time': 1.0437965393066407e-06, 'Memory': 0.0546875} \n",
      "\n",
      "{'Algorithm': 'LocalOutlierFactor', 'Parameters': \"{'algorithm': 'auto', 'contamination': 'auto', 'leaf_size': 30, 'metric': 'minkowski', 'metric_params': None, 'n_jobs': None, 'n_neighbors': 20, 'novelty': True, 'p': 2}\", 'Class': 'Versicolor', 'Number_Labeled_Examples': 10, 'Iteration': 1, 'Accuracy': 0.3142857142857143, 'Precision': 0.29411764705882354, 'Recall': 1.0, 'F1': 0.45454545454545453, 'ROC_AUC': 0.52, 'Building_Time': 0, 'Confusion_Matrix': [[4, 96], [0, 40]], 'Classification_Time': 4.770755767822265e-07, 'Memory': 0.0546875} \n",
      "\n",
      "{'Algorithm': 'LocalOutlierFactor', 'Parameters': \"{'algorithm': 'auto', 'contamination': 'auto', 'leaf_size': 30, 'metric': 'minkowski', 'metric_params': None, 'n_jobs': None, 'n_neighbors': 20, 'novelty': True, 'p': 2}\", 'Class': 'Versicolor', 'Number_Labeled_Examples': 10, 'Iteration': 2, 'Accuracy': 0.7142857142857143, 'Precision': 0.5, 'Recall': 1.0, 'F1': 0.6666666666666666, 'ROC_AUC': 0.8, 'Building_Time': 0, 'Confusion_Matrix': [[60, 40], [0, 40]], 'Classification_Time': 5.381107330322266e-07, 'Memory': 0.0546875} \n",
      "\n",
      "{'Algorithm': 'LocalOutlierFactor', 'Parameters': \"{'algorithm': 'auto', 'contamination': 'auto', 'leaf_size': 30, 'metric': 'minkowski', 'metric_params': None, 'n_jobs': None, 'n_neighbors': 20, 'novelty': True, 'p': 2}\", 'Class': 'Versicolor', 'Number_Labeled_Examples': 10, 'Iteration': 3, 'Accuracy': 0.7, 'Precision': 0.4878048780487805, 'Recall': 1.0, 'F1': 0.6557377049180327, 'ROC_AUC': 0.79, 'Building_Time': 0, 'Confusion_Matrix': [[58, 42], [0, 40]], 'Classification_Time': 9.167194366455079e-07, 'Memory': 0.0546875} \n",
      "\n",
      "{'Algorithm': 'LocalOutlierFactor', 'Parameters': \"{'algorithm': 'auto', 'contamination': 'auto', 'leaf_size': 30, 'metric': 'minkowski', 'metric_params': None, 'n_jobs': None, 'n_neighbors': 20, 'novelty': True, 'p': 2}\", 'Class': 'Versicolor', 'Number_Labeled_Examples': 10, 'Iteration': 4, 'Accuracy': 0.7071428571428572, 'Precision': 0.49382716049382713, 'Recall': 1.0, 'F1': 0.6611570247933884, 'ROC_AUC': 0.795, 'Building_Time': 0, 'Confusion_Matrix': [[59, 41], [0, 40]], 'Classification_Time': 5.581378936767579e-07, 'Memory': 0.0546875} \n",
      "\n",
      "{'Algorithm': 'LocalOutlierFactor', 'Parameters': \"{'algorithm': 'auto', 'contamination': 'auto', 'leaf_size': 30, 'metric': 'minkowski', 'metric_params': None, 'n_jobs': None, 'n_neighbors': 20, 'novelty': True, 'p': 2}\", 'Class': 'Versicolor', 'Number_Labeled_Examples': 10, 'Iteration': 5, 'Accuracy': 0.7928571428571428, 'Precision': 0.5797101449275363, 'Recall': 1.0, 'F1': 0.7339449541284404, 'ROC_AUC': 0.855, 'Building_Time': 0, 'Confusion_Matrix': [[71, 29], [0, 40]], 'Classification_Time': 5.555152893066406e-07, 'Memory': 0.0546875} \n",
      "\n",
      "{'Algorithm': 'LocalOutlierFactor', 'Parameters': \"{'algorithm': 'auto', 'contamination': 'auto', 'leaf_size': 30, 'metric': 'minkowski', 'metric_params': None, 'n_jobs': None, 'n_neighbors': 20, 'novelty': True, 'p': 2}\", 'Class': 'Versicolor', 'Number_Labeled_Examples': 10, 'Iteration': 6, 'Accuracy': 0.5857142857142857, 'Precision': 0.40816326530612246, 'Recall': 1.0, 'F1': 0.5797101449275363, 'ROC_AUC': 0.71, 'Building_Time': 0, 'Confusion_Matrix': [[42, 58], [0, 40]], 'Classification_Time': 4.637241363525391e-07, 'Memory': 0.0546875} \n",
      "\n",
      "{'Algorithm': 'LocalOutlierFactor', 'Parameters': \"{'algorithm': 'auto', 'contamination': 'auto', 'leaf_size': 30, 'metric': 'minkowski', 'metric_params': None, 'n_jobs': None, 'n_neighbors': 20, 'novelty': True, 'p': 2}\", 'Class': 'Versicolor', 'Number_Labeled_Examples': 10, 'Iteration': 7, 'Accuracy': 0.7071428571428572, 'Precision': 0.49382716049382713, 'Recall': 1.0, 'F1': 0.6611570247933884, 'ROC_AUC': 0.795, 'Building_Time': 0, 'Confusion_Matrix': [[59, 41], [0, 40]], 'Classification_Time': 5.021095275878906e-07, 'Memory': 0.0546875} \n",
      "\n",
      "{'Algorithm': 'LocalOutlierFactor', 'Parameters': \"{'algorithm': 'auto', 'contamination': 'auto', 'leaf_size': 30, 'metric': 'minkowski', 'metric_params': None, 'n_jobs': None, 'n_neighbors': 20, 'novelty': True, 'p': 2}\", 'Class': 'Versicolor', 'Number_Labeled_Examples': 10, 'Iteration': 8, 'Accuracy': 0.6428571428571429, 'Precision': 0.4444444444444444, 'Recall': 1.0, 'F1': 0.6153846153846153, 'ROC_AUC': 0.75, 'Building_Time': 0, 'Confusion_Matrix': [[50, 50], [0, 40]], 'Classification_Time': 5.156993865966796e-07, 'Memory': 0.0546875} \n",
      "\n",
      "{'Algorithm': 'LocalOutlierFactor', 'Parameters': \"{'algorithm': 'auto', 'contamination': 'auto', 'leaf_size': 30, 'metric': 'minkowski', 'metric_params': None, 'n_jobs': None, 'n_neighbors': 20, 'novelty': True, 'p': 2}\", 'Class': 'Versicolor', 'Number_Labeled_Examples': 10, 'Iteration': 9, 'Accuracy': 0.5928571428571429, 'Precision': 0.41237113402061853, 'Recall': 1.0, 'F1': 0.5839416058394161, 'ROC_AUC': 0.7150000000000001, 'Building_Time': 0, 'Confusion_Matrix': [[43, 57], [0, 40]], 'Classification_Time': 5.862712860107422e-07, 'Memory': 0.0546875} \n",
      "\n",
      "{'Algorithm': 'LocalOutlierFactor', 'Parameters': \"{'algorithm': 'auto', 'contamination': 'auto', 'leaf_size': 30, 'metric': 'minkowski', 'metric_params': None, 'n_jobs': None, 'n_neighbors': 20, 'novelty': True, 'p': 2}\", 'Class': 'Virginica', 'Number_Labeled_Examples': 10, 'Iteration': 0, 'Accuracy': 0.6428571428571429, 'Precision': 0.4444444444444444, 'Recall': 1.0, 'F1': 0.6153846153846153, 'ROC_AUC': 0.75, 'Building_Time': 0, 'Confusion_Matrix': [[50, 50], [0, 40]], 'Classification_Time': 5.483627319335937e-07, 'Memory': 0.0546875} \n",
      "\n",
      "{'Algorithm': 'LocalOutlierFactor', 'Parameters': \"{'algorithm': 'auto', 'contamination': 'auto', 'leaf_size': 30, 'metric': 'minkowski', 'metric_params': None, 'n_jobs': None, 'n_neighbors': 20, 'novelty': True, 'p': 2}\", 'Class': 'Virginica', 'Number_Labeled_Examples': 10, 'Iteration': 1, 'Accuracy': 0.7142857142857143, 'Precision': 0.5, 'Recall': 1.0, 'F1': 0.6666666666666666, 'ROC_AUC': 0.8, 'Building_Time': 0, 'Confusion_Matrix': [[60, 40], [0, 40]], 'Classification_Time': 7.336139678955078e-07, 'Memory': 0.0546875} \n",
      "\n",
      "{'Algorithm': 'LocalOutlierFactor', 'Parameters': \"{'algorithm': 'auto', 'contamination': 'auto', 'leaf_size': 30, 'metric': 'minkowski', 'metric_params': None, 'n_jobs': None, 'n_neighbors': 20, 'novelty': True, 'p': 2}\", 'Class': 'Virginica', 'Number_Labeled_Examples': 10, 'Iteration': 2, 'Accuracy': 0.6714285714285714, 'Precision': 0.46511627906976744, 'Recall': 1.0, 'F1': 0.6349206349206349, 'ROC_AUC': 0.77, 'Building_Time': 0, 'Confusion_Matrix': [[54, 46], [0, 40]], 'Classification_Time': 4.6133995056152345e-07, 'Memory': 0.0546875} \n",
      "\n",
      "{'Algorithm': 'LocalOutlierFactor', 'Parameters': \"{'algorithm': 'auto', 'contamination': 'auto', 'leaf_size': 30, 'metric': 'minkowski', 'metric_params': None, 'n_jobs': None, 'n_neighbors': 20, 'novelty': True, 'p': 2}\", 'Class': 'Virginica', 'Number_Labeled_Examples': 10, 'Iteration': 3, 'Accuracy': 0.6428571428571429, 'Precision': 0.4444444444444444, 'Recall': 1.0, 'F1': 0.6153846153846153, 'ROC_AUC': 0.75, 'Building_Time': 0, 'Confusion_Matrix': [[50, 50], [0, 40]], 'Classification_Time': 4.949569702148438e-07, 'Memory': 0.0546875} \n",
      "\n",
      "{'Algorithm': 'LocalOutlierFactor', 'Parameters': \"{'algorithm': 'auto', 'contamination': 'auto', 'leaf_size': 30, 'metric': 'minkowski', 'metric_params': None, 'n_jobs': None, 'n_neighbors': 20, 'novelty': True, 'p': 2}\", 'Class': 'Virginica', 'Number_Labeled_Examples': 10, 'Iteration': 4, 'Accuracy': 0.6571428571428571, 'Precision': 0.45454545454545453, 'Recall': 1.0, 'F1': 0.625, 'ROC_AUC': 0.76, 'Building_Time': 0, 'Confusion_Matrix': [[52, 48], [0, 40]], 'Classification_Time': 6.580352783203124e-07, 'Memory': 0.0546875} \n",
      "\n",
      "{'Algorithm': 'LocalOutlierFactor', 'Parameters': \"{'algorithm': 'auto', 'contamination': 'auto', 'leaf_size': 30, 'metric': 'minkowski', 'metric_params': None, 'n_jobs': None, 'n_neighbors': 20, 'novelty': True, 'p': 2}\", 'Class': 'Virginica', 'Number_Labeled_Examples': 10, 'Iteration': 5, 'Accuracy': 0.6928571428571428, 'Precision': 0.4819277108433735, 'Recall': 1.0, 'F1': 0.6504065040650406, 'ROC_AUC': 0.785, 'Building_Time': 0, 'Confusion_Matrix': [[57, 43], [0, 40]], 'Classification_Time': 5.5694580078125e-07, 'Memory': 0.0546875} \n",
      "\n",
      "{'Algorithm': 'LocalOutlierFactor', 'Parameters': \"{'algorithm': 'auto', 'contamination': 'auto', 'leaf_size': 30, 'metric': 'minkowski', 'metric_params': None, 'n_jobs': None, 'n_neighbors': 20, 'novelty': True, 'p': 2}\", 'Class': 'Virginica', 'Number_Labeled_Examples': 10, 'Iteration': 6, 'Accuracy': 0.65, 'Precision': 0.449438202247191, 'Recall': 1.0, 'F1': 0.6201550387596899, 'ROC_AUC': 0.755, 'Building_Time': 0, 'Confusion_Matrix': [[51, 49], [0, 40]], 'Classification_Time': 4.86612319946289e-07, 'Memory': 0.0546875} \n",
      "\n",
      "{'Algorithm': 'LocalOutlierFactor', 'Parameters': \"{'algorithm': 'auto', 'contamination': 'auto', 'leaf_size': 30, 'metric': 'minkowski', 'metric_params': None, 'n_jobs': None, 'n_neighbors': 20, 'novelty': True, 'p': 2}\", 'Class': 'Virginica', 'Number_Labeled_Examples': 10, 'Iteration': 7, 'Accuracy': 0.6428571428571429, 'Precision': 0.4444444444444444, 'Recall': 1.0, 'F1': 0.6153846153846153, 'ROC_AUC': 0.75, 'Building_Time': 0, 'Confusion_Matrix': [[50, 50], [0, 40]], 'Classification_Time': 6.806850433349609e-07, 'Memory': 0.0546875} \n",
      "\n",
      "{'Algorithm': 'LocalOutlierFactor', 'Parameters': \"{'algorithm': 'auto', 'contamination': 'auto', 'leaf_size': 30, 'metric': 'minkowski', 'metric_params': None, 'n_jobs': None, 'n_neighbors': 20, 'novelty': True, 'p': 2}\", 'Class': 'Virginica', 'Number_Labeled_Examples': 10, 'Iteration': 8, 'Accuracy': 0.6642857142857143, 'Precision': 0.45977011494252873, 'Recall': 1.0, 'F1': 0.6299212598425197, 'ROC_AUC': 0.765, 'Building_Time': 0, 'Confusion_Matrix': [[53, 47], [0, 40]], 'Classification_Time': 5.192756652832031e-07, 'Memory': 0.0546875} \n",
      "\n",
      "{'Algorithm': 'LocalOutlierFactor', 'Parameters': \"{'algorithm': 'auto', 'contamination': 'auto', 'leaf_size': 30, 'metric': 'minkowski', 'metric_params': None, 'n_jobs': None, 'n_neighbors': 20, 'novelty': True, 'p': 2}\", 'Class': 'Virginica', 'Number_Labeled_Examples': 10, 'Iteration': 9, 'Accuracy': 0.6785714285714286, 'Precision': 0.46835443037974683, 'Recall': 0.925, 'F1': 0.6218487394957983, 'ROC_AUC': 0.7525000000000002, 'Building_Time': 0, 'Confusion_Matrix': [[58, 42], [3, 37]], 'Classification_Time': 7.176399230957031e-07, 'Memory': 0.0546875} \n",
      "\n",
      "Done\n"
     ]
    }
   ],
   "source": [
    "execute_exp(X,y,classifier,config)"
   ]
  }
 ]
}