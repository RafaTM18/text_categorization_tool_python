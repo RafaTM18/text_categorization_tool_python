{
 "metadata": {
  "language_info": {
   "codemirror_mode": {
    "name": "ipython",
    "version": 3
   },
   "file_extension": ".py",
   "mimetype": "text/x-python",
   "name": "python",
   "nbconvert_exporter": "python",
   "pygments_lexer": "ipython3",
   "version": "3.7.3-final"
  },
  "orig_nbformat": 2,
  "kernelspec": {
   "name": "python3",
   "display_name": "Python 3",
   "language": "python"
  }
 },
 "nbformat": 4,
 "nbformat_minor": 2,
 "cells": [
  {
   "source": [
    "# Libaries"
   ],
   "cell_type": "markdown",
   "metadata": {}
  },
  {
   "cell_type": "code",
   "execution_count": 276,
   "metadata": {},
   "outputs": [],
   "source": [
    "#Data Structures and Utilities\n",
    "import numpy as np\n",
    "import pandas as pd\n",
    "import time\n",
    "import os\n",
    "\n",
    "\n",
    "# Learning evaluation\n",
    "from  sklearn.model_selection import KFold\n",
    "from sklearn.metrics import f1_score\n",
    "from sklearn.metrics import accuracy_score\n",
    "from sklearn.metrics import precision_score\n",
    "from sklearn.metrics import recall_score\n",
    "\n",
    "from sklearn.metrics import roc_auc_score\n",
    "from sklearn.metrics import confusion_matrix\n",
    "\n",
    "#Algorithms\n",
    "from sklearn.neighbors import LocalOutlierFactor\n",
    "from sklearn.svm import OneClassSVM\n",
    "from sklearn.ensemble import IsolationForest\n",
    "from sklearn.covariance import EllipticEnvelope\n"
   ]
  },
  {
   "source": [
    "# Definitions"
   ],
   "cell_type": "markdown",
   "metadata": {}
  },
  {
   "cell_type": "code",
   "execution_count": 83,
   "metadata": {},
   "outputs": [],
   "source": [
    "np.seed = 42 #seed for random selections\n",
    "\n",
    "#mapping for algorithm name and the class of the algorithm\n",
    "algorithms = {\n",
    "    'LocalOutlierFactor': LocalOutlierFactor, \n",
    "    'OneClassSVM': OneClassSVM, \n",
    "    'IsolationForest': IsolationForest,\n",
    "    'EllipticEnvelope': EllipticEnvelope\n",
    "}"
   ]
  },
  {
   "source": [
    "# Functions"
   ],
   "cell_type": "markdown",
   "metadata": {}
  },
  {
   "cell_type": "code",
   "execution_count": 259,
   "metadata": {},
   "outputs": [],
   "source": [
    "#Split the dataset into train and test data\n",
    "\n",
    "# split_type: type os splitting of the examples from the interest class: \"cross-validation\" or \"random\"\n",
    "# number: number of folds in case of type == \"cross-validation\", or number or examples in case of type == \"random\"\n",
    "def get_indexes(data, split_type, number_trials, number_examples): \n",
    "    indexes = []\n",
    "    if split_type == 'cross-validation': \n",
    "        kf = KFold(n_splits=number_trials, shuffle=True)\n",
    "        for ids_train, ids_test in kf.split(data):\n",
    "            indexes_train = data[ids_train]\n",
    "            indexes.append(indexes_train)\n",
    "    elif split_type == 'random':\n",
    "        for it in range(number_trials):\n",
    "            indexes.append(np.random.choice(data, size=number_examples, replace=False))\n",
    "    else:\n",
    "        raise ValueError('Unsuported split type. Please, use split_type = {\"cross-validation\",\"random\"}.')\n",
    "    return indexes"
   ]
  },
  {
   "cell_type": "code",
   "execution_count": 260,
   "metadata": {},
   "outputs": [],
   "source": [
    "def get_train_test_data(X, all_indexes, indexes_train):\n",
    "    indexes_test = list(set(all_indexes) - set(indexes_train))\n",
    "    return X[indexes_train], X[indexes_test]"
   ]
  },
  {
   "cell_type": "code",
   "execution_count": 261,
   "metadata": {},
   "outputs": [],
   "source": [
    "def get_classes_test(y, classe, all_indexes, indexes_train): \n",
    "    indexes_test = list(set(all_indexes) - set(indexes_train))\n",
    "    y_test = np.ones(len(indexes_test), dtype=np.int)\n",
    "    for i, element in enumerate(y[indexes_test]): \n",
    "        if element != classe: \n",
    "            y_test[i] = -1\n",
    "    return y_test"
   ]
  },
  {
   "cell_type": "code",
   "execution_count": 262,
   "metadata": {},
   "outputs": [],
   "source": [
    "def get_evaluation_metrics(classifier, X_test, y_test, classe, it_number, model_building_time=0): \n",
    "  \n",
    "  evaluation = {} \n",
    "  start_time_classification = time.time()\n",
    "  predictions = classifier.predict(X_test)\n",
    "  elapsed_time_classification = (time.time() - start_time_classification) / 1000\n",
    "  evaluation['Algorithm'] = classifier.__class__.__name__\n",
    "  evaluation['Parameters'] = classifier.get_params()\n",
    "  evaluation['Class'] = classe\n",
    "  evaluation['It_Number'] = it_number\n",
    "  evaluation['Accuracy'] = accuracy_score(y_test,predictions)\n",
    "  evaluation['Precision'] = precision_score(y_test,predictions)\n",
    "  evaluation['Recall'] = recall_score(y_test,predictions)\n",
    "  evaluation['F1'] = f1_score(y_test,predictions)\n",
    "  evaluation['ROC_AUC'] = roc_auc_score(y_test,predictions,average=None)\n",
    "  evaluation['Building_Time'] = model_building_time\n",
    "  evaluation['Confusion_Matrix'] = confusion_matrix(y_test,predictions).tolist()\n",
    "  evaluation['Classification_Time'] = elapsed_time_classification\n",
    "  evaluation['Memory'] = sys.getsizeof(classifier) / 1024\n",
    "  \n",
    "  return evaluation "
   ]
  },
  {
   "cell_type": "code",
   "execution_count": 263,
   "metadata": {},
   "outputs": [],
   "source": [
    "#X: dada\n",
    "#y: classes\n",
    "# split_type: type os splitting of the examples from the interest class: \"cross-validation\" or \"random\"\n",
    "#classifier: OCL algorithm\n",
    "# number_trials: number of folds in case of split_type == \"cross-validation\", or number or repetitions in case of split_type == \"random\"\n",
    "# number_examples: number of labeled_examples if split_type == \"random\"\n",
    "def one_class_learning(X, y, classifier, split_type=\"cross-validation\", number_trials=10, number_examples=10): \n",
    "    results = []\n",
    "    all_indexes = set(range(len(X)))\n",
    "    classes = np.unique(y)\n",
    "    for classe in classes: \n",
    "        classe_indexes = np.argwhere(y == classe).reshape(-1)\n",
    "        for it, indexes_train in enumerate(get_indexes(classe_indexes, split_type, number_trials, number_examples)):\n",
    "            X_train, X_test = get_train_test_data(X, all_indexes, indexes_train)\n",
    "            y_test = get_classes_test(y, classe, all_indexes, indexes_train)\n",
    "            classifier.fit(X_train)\n",
    "            results.append(get_evaluation_metrics(classifier, X_test, y_test, classe, it, model_building_time=0))\n",
    "    return results\n"
   ]
  },
  {
   "cell_type": "code",
   "execution_count": 282,
   "metadata": {},
   "outputs": [],
   "source": [
    "def get_data_frame(path_results): \n",
    "    results = None \n",
    "    if (os.path.exists(path_results)):\n",
    "        results = pd.read_csv(path_results)\n",
    "    else: \n",
    "        results = pd.DataFrame(columns=['Algorithm',\n",
    "            'Parameters',\n",
    "            'Class',\n",
    "            'It_Number',\n",
    "            'Accuracy',\n",
    "            'Precision',\n",
    "            'Recall',\n",
    "            'F1',\n",
    "            'ROC_AUC',  \n",
    "            'Building_Time',\n",
    "            'Confusion_Matrix',\n",
    "            'Classification_Time',\n",
    "            'Memory'\n",
    "        ])\n",
    "    return results"
   ]
  },
  {
   "cell_type": "code",
   "execution_count": 291,
   "metadata": {},
   "outputs": [],
   "source": [
    "def execute_exp(X, y, classifier, config): \n",
    "    if 'path_results' not in config: \n",
    "        raise ValueError('Config file must be a \"path_result\" entry')\n",
    "    if 'path_dataset' not in config: \n",
    "        raise ValueError('Config file must be a \"path_dataset\" entry')\n",
    "    if 'algorithms' not in config: \n",
    "        raise ValueError('Config file must be a \"algorithm\" entry')\n",
    "    if len(config['algorithms']) == 0:\n",
    "        raise ValueError('At least one algorhtm should be specified')\n",
    "    \n",
    "    results = get_data_frame(config['path_results'])\n",
    "\n",
    "    current_results = one_class_learning(X, y, classifier, split_type=\"cross-validation\", number_trials=10,      number_examples=10)\n",
    "    print(current_results)\n",
    "    results = results.append(current_results, ignore_index=True)\n",
    "    results.to_csv(config['path_results'], index=False)\n"
   ]
  },
  {
   "source": [
    "# Área de Testes"
   ],
   "cell_type": "markdown",
   "metadata": {}
  },
  {
   "cell_type": "code",
   "execution_count": 285,
   "metadata": {},
   "outputs": [],
   "source": [
    "config = {\n",
    "    'path_dataset': '/home/rafael/Downloads/iris.csv',\n",
    "    'path_results': '/home/rafael/Área de Trabalho/Projetos/TextCategorizationToolPython/saida/resultados_teste.csv',\n",
    "    'split_type': 'random',\n",
    "    'algorithms': [\n",
    "        {\n",
    "            'name': 'LocalOutlierFactor',\n",
    "            'parameters': {}\n",
    "        }\n",
    "    ]\n",
    "}"
   ]
  },
  {
   "cell_type": "code",
   "execution_count": 292,
   "metadata": {},
   "outputs": [
    {
     "output_type": "stream",
     "name": "stdout",
     "text": [
      "[{'Algorithm': 'LocalOutlierFactor', 'Parameters': {'algorithm': 'auto', 'contamination': 'auto', 'leaf_size': 30, 'metric': 'minkowski', 'metric_params': None, 'n_jobs': None, 'n_neighbors': 20, 'novelty': True, 'p': 2}, 'Class': 'Setosa', 'It_Number': 0, 'Accuracy': 1.0, 'Precision': 1.0, 'Recall': 1.0, 'F1': 1.0, 'ROC_AUC': 1.0, 'Building_Time': 0, 'Confusion_Matrix': [[100, 0], [0, 5]], 'Classification_Time': 9.675025939941406e-07, 'Memory': 0.0546875}, {'Algorithm': 'LocalOutlierFactor', 'Parameters': {'algorithm': 'auto', 'contamination': 'auto', 'leaf_size': 30, 'metric': 'minkowski', 'metric_params': None, 'n_jobs': None, 'n_neighbors': 20, 'novelty': True, 'p': 2}, 'Class': 'Setosa', 'It_Number': 1, 'Accuracy': 1.0, 'Precision': 1.0, 'Recall': 1.0, 'F1': 1.0, 'ROC_AUC': 1.0, 'Building_Time': 0, 'Confusion_Matrix': [[100, 0], [0, 5]], 'Classification_Time': 8.189678192138672e-07, 'Memory': 0.0546875}, {'Algorithm': 'LocalOutlierFactor', 'Parameters': {'algorithm': 'auto', 'contamination': 'auto', 'leaf_size': 30, 'metric': 'minkowski', 'metric_params': None, 'n_jobs': None, 'n_neighbors': 20, 'novelty': True, 'p': 2}, 'Class': 'Setosa', 'It_Number': 2, 'Accuracy': 1.0, 'Precision': 1.0, 'Recall': 1.0, 'F1': 1.0, 'ROC_AUC': 1.0, 'Building_Time': 0, 'Confusion_Matrix': [[100, 0], [0, 5]], 'Classification_Time': 7.910728454589844e-07, 'Memory': 0.0546875}, {'Algorithm': 'LocalOutlierFactor', 'Parameters': {'algorithm': 'auto', 'contamination': 'auto', 'leaf_size': 30, 'metric': 'minkowski', 'metric_params': None, 'n_jobs': None, 'n_neighbors': 20, 'novelty': True, 'p': 2}, 'Class': 'Setosa', 'It_Number': 3, 'Accuracy': 1.0, 'Precision': 1.0, 'Recall': 1.0, 'F1': 1.0, 'ROC_AUC': 1.0, 'Building_Time': 0, 'Confusion_Matrix': [[100, 0], [0, 5]], 'Classification_Time': 6.768703460693359e-07, 'Memory': 0.0546875}, {'Algorithm': 'LocalOutlierFactor', 'Parameters': {'algorithm': 'auto', 'contamination': 'auto', 'leaf_size': 30, 'metric': 'minkowski', 'metric_params': None, 'n_jobs': None, 'n_neighbors': 20, 'novelty': True, 'p': 2}, 'Class': 'Setosa', 'It_Number': 4, 'Accuracy': 0.9904761904761905, 'Precision': 1.0, 'Recall': 0.8, 'F1': 0.888888888888889, 'ROC_AUC': 0.9, 'Building_Time': 0, 'Confusion_Matrix': [[100, 0], [1, 4]], 'Classification_Time': 8.587837219238281e-07, 'Memory': 0.0546875}, {'Algorithm': 'LocalOutlierFactor', 'Parameters': {'algorithm': 'auto', 'contamination': 'auto', 'leaf_size': 30, 'metric': 'minkowski', 'metric_params': None, 'n_jobs': None, 'n_neighbors': 20, 'novelty': True, 'p': 2}, 'Class': 'Setosa', 'It_Number': 5, 'Accuracy': 1.0, 'Precision': 1.0, 'Recall': 1.0, 'F1': 1.0, 'ROC_AUC': 1.0, 'Building_Time': 0, 'Confusion_Matrix': [[100, 0], [0, 5]], 'Classification_Time': 9.715557098388672e-07, 'Memory': 0.0546875}, {'Algorithm': 'LocalOutlierFactor', 'Parameters': {'algorithm': 'auto', 'contamination': 'auto', 'leaf_size': 30, 'metric': 'minkowski', 'metric_params': None, 'n_jobs': None, 'n_neighbors': 20, 'novelty': True, 'p': 2}, 'Class': 'Setosa', 'It_Number': 6, 'Accuracy': 1.0, 'Precision': 1.0, 'Recall': 1.0, 'F1': 1.0, 'ROC_AUC': 1.0, 'Building_Time': 0, 'Confusion_Matrix': [[100, 0], [0, 5]], 'Classification_Time': 6.270408630371093e-07, 'Memory': 0.0546875}, {'Algorithm': 'LocalOutlierFactor', 'Parameters': {'algorithm': 'auto', 'contamination': 'auto', 'leaf_size': 30, 'metric': 'minkowski', 'metric_params': None, 'n_jobs': None, 'n_neighbors': 20, 'novelty': True, 'p': 2}, 'Class': 'Setosa', 'It_Number': 7, 'Accuracy': 0.9904761904761905, 'Precision': 1.0, 'Recall': 0.8, 'F1': 0.888888888888889, 'ROC_AUC': 0.9, 'Building_Time': 0, 'Confusion_Matrix': [[100, 0], [1, 4]], 'Classification_Time': 1.008749008178711e-06, 'Memory': 0.0546875}, {'Algorithm': 'LocalOutlierFactor', 'Parameters': {'algorithm': 'auto', 'contamination': 'auto', 'leaf_size': 30, 'metric': 'minkowski', 'metric_params': None, 'n_jobs': None, 'n_neighbors': 20, 'novelty': True, 'p': 2}, 'Class': 'Setosa', 'It_Number': 8, 'Accuracy': 1.0, 'Precision': 1.0, 'Recall': 1.0, 'F1': 1.0, 'ROC_AUC': 1.0, 'Building_Time': 0, 'Confusion_Matrix': [[100, 0], [0, 5]], 'Classification_Time': 6.108283996582031e-07, 'Memory': 0.0546875}, {'Algorithm': 'LocalOutlierFactor', 'Parameters': {'algorithm': 'auto', 'contamination': 'auto', 'leaf_size': 30, 'metric': 'minkowski', 'metric_params': None, 'n_jobs': None, 'n_neighbors': 20, 'novelty': True, 'p': 2}, 'Class': 'Setosa', 'It_Number': 9, 'Accuracy': 1.0, 'Precision': 1.0, 'Recall': 1.0, 'F1': 1.0, 'ROC_AUC': 1.0, 'Building_Time': 0, 'Confusion_Matrix': [[100, 0], [0, 5]], 'Classification_Time': 6.475448608398438e-07, 'Memory': 0.0546875}, {'Algorithm': 'LocalOutlierFactor', 'Parameters': {'algorithm': 'auto', 'contamination': 'auto', 'leaf_size': 30, 'metric': 'minkowski', 'metric_params': None, 'n_jobs': None, 'n_neighbors': 20, 'novelty': True, 'p': 2}, 'Class': 'Versicolor', 'It_Number': 0, 'Accuracy': 0.7714285714285715, 'Precision': 0.1724137931034483, 'Recall': 1.0, 'F1': 0.29411764705882354, 'ROC_AUC': 0.88, 'Building_Time': 0, 'Confusion_Matrix': [[76, 24], [0, 5]], 'Classification_Time': 6.75201416015625e-07, 'Memory': 0.0546875}, {'Algorithm': 'LocalOutlierFactor', 'Parameters': {'algorithm': 'auto', 'contamination': 'auto', 'leaf_size': 30, 'metric': 'minkowski', 'metric_params': None, 'n_jobs': None, 'n_neighbors': 20, 'novelty': True, 'p': 2}, 'Class': 'Versicolor', 'It_Number': 1, 'Accuracy': 0.7523809523809524, 'Precision': 0.16129032258064516, 'Recall': 1.0, 'F1': 0.27777777777777773, 'ROC_AUC': 0.87, 'Building_Time': 0, 'Confusion_Matrix': [[74, 26], [0, 5]], 'Classification_Time': 6.685256958007812e-07, 'Memory': 0.0546875}, {'Algorithm': 'LocalOutlierFactor', 'Parameters': {'algorithm': 'auto', 'contamination': 'auto', 'leaf_size': 30, 'metric': 'minkowski', 'metric_params': None, 'n_jobs': None, 'n_neighbors': 20, 'novelty': True, 'p': 2}, 'Class': 'Versicolor', 'It_Number': 2, 'Accuracy': 0.7428571428571429, 'Precision': 0.15625, 'Recall': 1.0, 'F1': 0.2702702702702703, 'ROC_AUC': 0.865, 'Building_Time': 0, 'Confusion_Matrix': [[73, 27], [0, 5]], 'Classification_Time': 8.170604705810547e-07, 'Memory': 0.0546875}, {'Algorithm': 'LocalOutlierFactor', 'Parameters': {'algorithm': 'auto', 'contamination': 'auto', 'leaf_size': 30, 'metric': 'minkowski', 'metric_params': None, 'n_jobs': None, 'n_neighbors': 20, 'novelty': True, 'p': 2}, 'Class': 'Versicolor', 'It_Number': 3, 'Accuracy': 0.7238095238095238, 'Precision': 0.14705882352941177, 'Recall': 1.0, 'F1': 0.25641025641025644, 'ROC_AUC': 0.855, 'Building_Time': 0, 'Confusion_Matrix': [[71, 29], [0, 5]], 'Classification_Time': 7.445812225341797e-07, 'Memory': 0.0546875}, {'Algorithm': 'LocalOutlierFactor', 'Parameters': {'algorithm': 'auto', 'contamination': 'auto', 'leaf_size': 30, 'metric': 'minkowski', 'metric_params': None, 'n_jobs': None, 'n_neighbors': 20, 'novelty': True, 'p': 2}, 'Class': 'Versicolor', 'It_Number': 4, 'Accuracy': 0.780952380952381, 'Precision': 0.17857142857142858, 'Recall': 1.0, 'F1': 0.30303030303030304, 'ROC_AUC': 0.885, 'Building_Time': 0, 'Confusion_Matrix': [[77, 23], [0, 5]], 'Classification_Time': 9.958744049072265e-07, 'Memory': 0.0546875}, {'Algorithm': 'LocalOutlierFactor', 'Parameters': {'algorithm': 'auto', 'contamination': 'auto', 'leaf_size': 30, 'metric': 'minkowski', 'metric_params': None, 'n_jobs': None, 'n_neighbors': 20, 'novelty': True, 'p': 2}, 'Class': 'Versicolor', 'It_Number': 5, 'Accuracy': 0.7523809523809524, 'Precision': 0.16129032258064516, 'Recall': 1.0, 'F1': 0.27777777777777773, 'ROC_AUC': 0.87, 'Building_Time': 0, 'Confusion_Matrix': [[74, 26], [0, 5]], 'Classification_Time': 5.993843078613281e-07, 'Memory': 0.0546875}, {'Algorithm': 'LocalOutlierFactor', 'Parameters': {'algorithm': 'auto', 'contamination': 'auto', 'leaf_size': 30, 'metric': 'minkowski', 'metric_params': None, 'n_jobs': None, 'n_neighbors': 20, 'novelty': True, 'p': 2}, 'Class': 'Versicolor', 'It_Number': 6, 'Accuracy': 0.780952380952381, 'Precision': 0.17857142857142858, 'Recall': 1.0, 'F1': 0.30303030303030304, 'ROC_AUC': 0.885, 'Building_Time': 0, 'Confusion_Matrix': [[77, 23], [0, 5]], 'Classification_Time': 7.748603820800781e-07, 'Memory': 0.0546875}, {'Algorithm': 'LocalOutlierFactor', 'Parameters': {'algorithm': 'auto', 'contamination': 'auto', 'leaf_size': 30, 'metric': 'minkowski', 'metric_params': None, 'n_jobs': None, 'n_neighbors': 20, 'novelty': True, 'p': 2}, 'Class': 'Versicolor', 'It_Number': 7, 'Accuracy': 0.7428571428571429, 'Precision': 0.15625, 'Recall': 1.0, 'F1': 0.2702702702702703, 'ROC_AUC': 0.865, 'Building_Time': 0, 'Confusion_Matrix': [[73, 27], [0, 5]], 'Classification_Time': 7.967948913574219e-07, 'Memory': 0.0546875}, {'Algorithm': 'LocalOutlierFactor', 'Parameters': {'algorithm': 'auto', 'contamination': 'auto', 'leaf_size': 30, 'metric': 'minkowski', 'metric_params': None, 'n_jobs': None, 'n_neighbors': 20, 'novelty': True, 'p': 2}, 'Class': 'Versicolor', 'It_Number': 8, 'Accuracy': 0.780952380952381, 'Precision': 0.17857142857142858, 'Recall': 1.0, 'F1': 0.30303030303030304, 'ROC_AUC': 0.885, 'Building_Time': 0, 'Confusion_Matrix': [[77, 23], [0, 5]], 'Classification_Time': 7.510185241699219e-07, 'Memory': 0.0546875}, {'Algorithm': 'LocalOutlierFactor', 'Parameters': {'algorithm': 'auto', 'contamination': 'auto', 'leaf_size': 30, 'metric': 'minkowski', 'metric_params': None, 'n_jobs': None, 'n_neighbors': 20, 'novelty': True, 'p': 2}, 'Class': 'Versicolor', 'It_Number': 9, 'Accuracy': 0.780952380952381, 'Precision': 0.17857142857142858, 'Recall': 1.0, 'F1': 0.30303030303030304, 'ROC_AUC': 0.885, 'Building_Time': 0, 'Confusion_Matrix': [[77, 23], [0, 5]], 'Classification_Time': 6.182193756103516e-07, 'Memory': 0.0546875}, {'Algorithm': 'LocalOutlierFactor', 'Parameters': {'algorithm': 'auto', 'contamination': 'auto', 'leaf_size': 30, 'metric': 'minkowski', 'metric_params': None, 'n_jobs': None, 'n_neighbors': 20, 'novelty': True, 'p': 2}, 'Class': 'Virginica', 'It_Number': 0, 'Accuracy': 0.7333333333333333, 'Precision': 0.12903225806451613, 'Recall': 0.8, 'F1': 0.2222222222222222, 'ROC_AUC': 0.765, 'Building_Time': 0, 'Confusion_Matrix': [[73, 27], [1, 4]], 'Classification_Time': 7.2479248046875e-07, 'Memory': 0.0546875}, {'Algorithm': 'LocalOutlierFactor', 'Parameters': {'algorithm': 'auto', 'contamination': 'auto', 'leaf_size': 30, 'metric': 'minkowski', 'metric_params': None, 'n_jobs': None, 'n_neighbors': 20, 'novelty': True, 'p': 2}, 'Class': 'Virginica', 'It_Number': 1, 'Accuracy': 0.6666666666666666, 'Precision': 0.10526315789473684, 'Recall': 0.8, 'F1': 0.18604651162790697, 'ROC_AUC': 0.73, 'Building_Time': 0, 'Confusion_Matrix': [[66, 34], [1, 4]], 'Classification_Time': 6.656646728515625e-07, 'Memory': 0.0546875}, {'Algorithm': 'LocalOutlierFactor', 'Parameters': {'algorithm': 'auto', 'contamination': 'auto', 'leaf_size': 30, 'metric': 'minkowski', 'metric_params': None, 'n_jobs': None, 'n_neighbors': 20, 'novelty': True, 'p': 2}, 'Class': 'Virginica', 'It_Number': 2, 'Accuracy': 0.7428571428571429, 'Precision': 0.15625, 'Recall': 1.0, 'F1': 0.2702702702702703, 'ROC_AUC': 0.865, 'Building_Time': 0, 'Confusion_Matrix': [[73, 27], [0, 5]], 'Classification_Time': 5.98907470703125e-07, 'Memory': 0.0546875}, {'Algorithm': 'LocalOutlierFactor', 'Parameters': {'algorithm': 'auto', 'contamination': 'auto', 'leaf_size': 30, 'metric': 'minkowski', 'metric_params': None, 'n_jobs': None, 'n_neighbors': 20, 'novelty': True, 'p': 2}, 'Class': 'Virginica', 'It_Number': 3, 'Accuracy': 0.6761904761904762, 'Precision': 0.1282051282051282, 'Recall': 1.0, 'F1': 0.22727272727272727, 'ROC_AUC': 0.83, 'Building_Time': 0, 'Confusion_Matrix': [[66, 34], [0, 5]], 'Classification_Time': 5.869865417480469e-07, 'Memory': 0.0546875}, {'Algorithm': 'LocalOutlierFactor', 'Parameters': {'algorithm': 'auto', 'contamination': 'auto', 'leaf_size': 30, 'metric': 'minkowski', 'metric_params': None, 'n_jobs': None, 'n_neighbors': 20, 'novelty': True, 'p': 2}, 'Class': 'Virginica', 'It_Number': 4, 'Accuracy': 0.7142857142857143, 'Precision': 0.14285714285714285, 'Recall': 1.0, 'F1': 0.25, 'ROC_AUC': 0.85, 'Building_Time': 0, 'Confusion_Matrix': [[70, 30], [0, 5]], 'Classification_Time': 1.1839866638183594e-06, 'Memory': 0.0546875}, {'Algorithm': 'LocalOutlierFactor', 'Parameters': {'algorithm': 'auto', 'contamination': 'auto', 'leaf_size': 30, 'metric': 'minkowski', 'metric_params': None, 'n_jobs': None, 'n_neighbors': 20, 'novelty': True, 'p': 2}, 'Class': 'Virginica', 'It_Number': 5, 'Accuracy': 0.7428571428571429, 'Precision': 0.15625, 'Recall': 1.0, 'F1': 0.2702702702702703, 'ROC_AUC': 0.865, 'Building_Time': 0, 'Confusion_Matrix': [[73, 27], [0, 5]], 'Classification_Time': 6.248950958251953e-07, 'Memory': 0.0546875}, {'Algorithm': 'LocalOutlierFactor', 'Parameters': {'algorithm': 'auto', 'contamination': 'auto', 'leaf_size': 30, 'metric': 'minkowski', 'metric_params': None, 'n_jobs': None, 'n_neighbors': 20, 'novelty': True, 'p': 2}, 'Class': 'Virginica', 'It_Number': 6, 'Accuracy': 0.6952380952380952, 'Precision': 0.11428571428571428, 'Recall': 0.8, 'F1': 0.19999999999999998, 'ROC_AUC': 0.745, 'Building_Time': 0, 'Confusion_Matrix': [[69, 31], [1, 4]], 'Classification_Time': 6.690025329589844e-07, 'Memory': 0.0546875}, {'Algorithm': 'LocalOutlierFactor', 'Parameters': {'algorithm': 'auto', 'contamination': 'auto', 'leaf_size': 30, 'metric': 'minkowski', 'metric_params': None, 'n_jobs': None, 'n_neighbors': 20, 'novelty': True, 'p': 2}, 'Class': 'Virginica', 'It_Number': 7, 'Accuracy': 0.6952380952380952, 'Precision': 0.13513513513513514, 'Recall': 1.0, 'F1': 0.2380952380952381, 'ROC_AUC': 0.84, 'Building_Time': 0, 'Confusion_Matrix': [[68, 32], [0, 5]], 'Classification_Time': 9.353160858154297e-07, 'Memory': 0.0546875}, {'Algorithm': 'LocalOutlierFactor', 'Parameters': {'algorithm': 'auto', 'contamination': 'auto', 'leaf_size': 30, 'metric': 'minkowski', 'metric_params': None, 'n_jobs': None, 'n_neighbors': 20, 'novelty': True, 'p': 2}, 'Class': 'Virginica', 'It_Number': 8, 'Accuracy': 0.7333333333333333, 'Precision': 0.15151515151515152, 'Recall': 1.0, 'F1': 0.2631578947368421, 'ROC_AUC': 0.86, 'Building_Time': 0, 'Confusion_Matrix': [[72, 28], [0, 5]], 'Classification_Time': 7.724761962890626e-07, 'Memory': 0.0546875}, {'Algorithm': 'LocalOutlierFactor', 'Parameters': {'algorithm': 'auto', 'contamination': 'auto', 'leaf_size': 30, 'metric': 'minkowski', 'metric_params': None, 'n_jobs': None, 'n_neighbors': 20, 'novelty': True, 'p': 2}, 'Class': 'Virginica', 'It_Number': 9, 'Accuracy': 0.7333333333333333, 'Precision': 0.12903225806451613, 'Recall': 0.8, 'F1': 0.2222222222222222, 'ROC_AUC': 0.765, 'Building_Time': 0, 'Confusion_Matrix': [[73, 27], [1, 4]], 'Classification_Time': 6.480216979980469e-07, 'Memory': 0.0546875}]\n"
     ]
    }
   ],
   "source": [
    "execute_exp(X,y,classifier,config)"
   ]
  },
  {
   "cell_type": "code",
   "execution_count": null,
   "metadata": {},
   "outputs": [],
   "source": [
    "df = pd.read_csv('/home/rafael/Downloads/iris.csv')\n",
    "data = df.to_numpy()\n"
   ]
  },
  {
   "cell_type": "code",
   "execution_count": 244,
   "metadata": {},
   "outputs": [
    {
     "output_type": "execute_result",
     "data": {
      "text/plain": [
       "'LocalOutlierFactor'"
      ]
     },
     "metadata": {},
     "execution_count": 244
    }
   ],
   "source": [
    "classifier.__class__.__name__"
   ]
  },
  {
   "cell_type": "code",
   "execution_count": 242,
   "metadata": {},
   "outputs": [],
   "source": [
    "teste= str(classifier.__class__)"
   ]
  },
  {
   "cell_type": "code",
   "execution_count": 243,
   "metadata": {},
   "outputs": [
    {
     "output_type": "execute_result",
     "data": {
      "text/plain": [
       "\"<class 'sklearn.neighbors._lof.LocalOutlierFactor'>\""
      ]
     },
     "metadata": {},
     "execution_count": 243
    }
   ],
   "source": [
    "teste"
   ]
  },
  {
   "cell_type": "code",
   "execution_count": 8,
   "metadata": {},
   "outputs": [],
   "source": [
    "X = data[:,:-1]\n",
    "y = data[:,-1]"
   ]
  },
  {
   "cell_type": "code",
   "execution_count": 268,
   "metadata": {},
   "outputs": [],
   "source": [
    "algorithm = 'LocalOutlierFactor'\n",
    "classifier = algorithms[algorithm]( novelty=True)\n",
    "classifier.name = algorithm\n",
    "#classifier = OneClassSVM()"
   ]
  },
  {
   "cell_type": "code",
   "execution_count": 16,
   "metadata": {},
   "outputs": [],
   "source": [
    "kf = KFold(n_splits=3)"
   ]
  },
  {
   "cell_type": "code",
   "execution_count": 76,
   "metadata": {},
   "outputs": [
    {
     "output_type": "execute_result",
     "data": {
      "text/plain": [
       "{'algorithm': 'auto',\n",
       " 'contamination': 'auto',\n",
       " 'leaf_size': 30,\n",
       " 'metric': 'euclidean',\n",
       " 'metric_params': None,\n",
       " 'n_jobs': None,\n",
       " 'n_neighbors': 20,\n",
       " 'novelty': True,\n",
       " 'p': 2}"
      ]
     },
     "metadata": {},
     "execution_count": 76
    }
   ],
   "source": [
    "params['metric'] = 'euclidean'\n",
    "params"
   ]
  },
  {
   "cell_type": "code",
   "execution_count": 79,
   "metadata": {},
   "outputs": [
    {
     "output_type": "execute_result",
     "data": {
      "text/plain": [
       "LocalOutlierFactor(algorithm='auto', contamination='auto', leaf_size=30,\n",
       "                   metric='euclidean', metric_params=None, n_jobs=None,\n",
       "                   n_neighbors=20, novelty=True, p=2)"
      ]
     },
     "metadata": {},
     "execution_count": 79
    }
   ],
   "source": [
    "classifier.set_params(**params)"
   ]
  },
  {
   "cell_type": "code",
   "execution_count": 80,
   "metadata": {},
   "outputs": [
    {
     "output_type": "execute_result",
     "data": {
      "text/plain": [
       "{'algorithm': 'auto',\n",
       " 'contamination': 'auto',\n",
       " 'leaf_size': 30,\n",
       " 'metric': 'euclidean',\n",
       " 'metric_params': None,\n",
       " 'n_jobs': None,\n",
       " 'n_neighbors': 20,\n",
       " 'novelty': True,\n",
       " 'p': 2}"
      ]
     },
     "metadata": {},
     "execution_count": 80
    }
   ],
   "source": [
    "classifier.get_params()"
   ]
  },
  {
   "cell_type": "code",
   "execution_count": 117,
   "metadata": {},
   "outputs": [
    {
     "output_type": "execute_result",
     "data": {
      "text/plain": [
       "array([ 9, 10,  6,  2,  8,  1,  5,  3,  4])"
      ]
     },
     "metadata": {},
     "execution_count": 117
    }
   ],
   "source": [
    "a = np.array([1,2,3,4,5,6,7,8,9,10])\n",
    "np.random.choice(a, size=9, replace=False)"
   ]
  },
  {
   "cell_type": "code",
   "execution_count": null,
   "metadata": {},
   "outputs": [],
   "source": [
    "roc_auc_score(y_test, predictions, average=None)"
   ]
  }
 ]
}