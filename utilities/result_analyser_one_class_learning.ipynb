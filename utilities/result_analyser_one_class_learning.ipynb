{
 "metadata": {
  "language_info": {
   "codemirror_mode": {
    "name": "ipython",
    "version": 3
   },
   "file_extension": ".py",
   "mimetype": "text/x-python",
   "name": "python",
   "nbconvert_exporter": "python",
   "pygments_lexer": "ipython3",
   "version": "3.7.3-final"
  },
  "orig_nbformat": 2,
  "kernelspec": {
   "name": "python3",
   "display_name": "Python 3",
   "language": "python"
  }
 },
 "nbformat": 4,
 "nbformat_minor": 2,
 "cells": [
  {
   "source": [
    "# Imports"
   ],
   "cell_type": "markdown",
   "metadata": {}
  },
  {
   "cell_type": "code",
   "execution_count": 1,
   "metadata": {},
   "outputs": [],
   "source": [
    "import pandas as pd"
   ]
  },
  {
   "source": [
    "# Reading and processing"
   ],
   "cell_type": "markdown",
   "metadata": {}
  },
  {
   "cell_type": "code",
   "execution_count": 2,
   "metadata": {},
   "outputs": [],
   "source": [
    "df = pd.read_csv('/home/rafael/Área de Trabalho/Projetos/TextCategorizationToolPython/saida/resultados_teste.csv')"
   ]
  },
  {
   "cell_type": "code",
   "execution_count": 3,
   "metadata": {},
   "outputs": [
    {
     "output_type": "execute_result",
     "data": {
      "text/plain": [
       "             Algorithm                                         Parameters  \\\n",
       "0     DenseAutoencoder  {'batch_size': 1, 'num_epochs': 200, 'layers':...   \n",
       "1     DenseAutoencoder  {'batch_size': 1, 'num_epochs': 200, 'layers':...   \n",
       "2     DenseAutoencoder  {'batch_size': 1, 'num_epochs': 200, 'layers':...   \n",
       "3     DenseAutoencoder  {'batch_size': 1, 'num_epochs': 200, 'layers':...   \n",
       "4     DenseAutoencoder  {'batch_size': 1, 'num_epochs': 200, 'layers':...   \n",
       "...                ...                                                ...   \n",
       "1182  DenseAutoencoder  {'batch_size': 1, 'num_epochs': 200, 'layers':...   \n",
       "1183  DenseAutoencoder  {'batch_size': 1, 'num_epochs': 200, 'layers':...   \n",
       "1184  DenseAutoencoder  {'batch_size': 1, 'num_epochs': 200, 'layers':...   \n",
       "1185  DenseAutoencoder  {'batch_size': 1, 'num_epochs': 200, 'layers':...   \n",
       "1186  DenseAutoencoder  {'batch_size': 1, 'num_epochs': 200, 'layers':...   \n",
       "\n",
       "     Threshold_Type Threshold_Value                    Class  \\\n",
       "0             Fixed            0.05  ArtificiallIntelligence   \n",
       "1             Fixed             0.1  ArtificiallIntelligence   \n",
       "2             Fixed            0.15  ArtificiallIntelligence   \n",
       "3             Fixed             0.2  ArtificiallIntelligence   \n",
       "4             Fixed            0.25  ArtificiallIntelligence   \n",
       "...             ...             ...                      ...   \n",
       "1182          Fixed             0.4  ArtificiallIntelligence   \n",
       "1183          Fixed            0.45  ArtificiallIntelligence   \n",
       "1184          Fixed             0.5  ArtificiallIntelligence   \n",
       "1185          Fixed            0.55  ArtificiallIntelligence   \n",
       "1186          Fixed             0.6  ArtificiallIntelligence   \n",
       "\n",
       "      Number_Labeled_Examples  Iteration  Accuracy  Precision    Recall  \\\n",
       "0                           1          0  0.466443   0.441606  0.952756   \n",
       "1                           1          0  0.466443   0.441606  0.952756   \n",
       "2                           1          0  0.466443   0.441606  0.952756   \n",
       "3                           1          0  0.496644   0.453061  0.874016   \n",
       "4                           1          0  0.516779   0.457286  0.716535   \n",
       "...                       ...        ...       ...        ...       ...   \n",
       "1182                        5          7  0.591837   1.000000  0.024390   \n",
       "1183                        5          7  0.585034   1.000000  0.008130   \n",
       "1184                        5          7  0.585034   1.000000  0.008130   \n",
       "1185                        5          7  0.585034   1.000000  0.008130   \n",
       "1186                        5          7  0.585034   1.000000  0.008130   \n",
       "\n",
       "            F1   ROC_AUC        Confusion_Matrix  Building_Time  \\\n",
       "0     0.603491  0.558526   [[18, 153], [6, 121]]       0.000706   \n",
       "1     0.603491  0.558526   [[18, 153], [6, 121]]       0.000706   \n",
       "2     0.603491  0.558526   [[18, 153], [6, 121]]       0.000706   \n",
       "3     0.596774  0.558526  [[37, 134], [16, 111]]       0.000706   \n",
       "4     0.558282  0.558526   [[63, 108], [36, 91]]       0.000706   \n",
       "...        ...       ...                     ...            ...   \n",
       "1182  0.047619  0.489255    [[171, 0], [120, 3]]       0.001283   \n",
       "1183  0.016129  0.489255    [[171, 0], [122, 1]]       0.001283   \n",
       "1184  0.016129  0.489255    [[171, 0], [122, 1]]       0.001283   \n",
       "1185  0.016129  0.489255    [[171, 0], [122, 1]]       0.001283   \n",
       "1186  0.016129  0.489255    [[171, 0], [122, 1]]       0.001283   \n",
       "\n",
       "      Classification_Time    Memory  \n",
       "0                0.000117  0.054688  \n",
       "1                0.000094  0.054688  \n",
       "2                0.000099  0.054688  \n",
       "3                0.000092  0.054688  \n",
       "4                0.000106  0.054688  \n",
       "...                   ...       ...  \n",
       "1182             0.000106  0.054688  \n",
       "1183             0.000104  0.054688  \n",
       "1184             0.000120  0.054688  \n",
       "1185             0.000117  0.054688  \n",
       "1186             0.000107  0.054688  \n",
       "\n",
       "[1187 rows x 16 columns]"
      ],
      "text/html": "<div>\n<style scoped>\n    .dataframe tbody tr th:only-of-type {\n        vertical-align: middle;\n    }\n\n    .dataframe tbody tr th {\n        vertical-align: top;\n    }\n\n    .dataframe thead th {\n        text-align: right;\n    }\n</style>\n<table border=\"1\" class=\"dataframe\">\n  <thead>\n    <tr style=\"text-align: right;\">\n      <th></th>\n      <th>Algorithm</th>\n      <th>Parameters</th>\n      <th>Threshold_Type</th>\n      <th>Threshold_Value</th>\n      <th>Class</th>\n      <th>Number_Labeled_Examples</th>\n      <th>Iteration</th>\n      <th>Accuracy</th>\n      <th>Precision</th>\n      <th>Recall</th>\n      <th>F1</th>\n      <th>ROC_AUC</th>\n      <th>Confusion_Matrix</th>\n      <th>Building_Time</th>\n      <th>Classification_Time</th>\n      <th>Memory</th>\n    </tr>\n  </thead>\n  <tbody>\n    <tr>\n      <th>0</th>\n      <td>DenseAutoencoder</td>\n      <td>{'batch_size': 1, 'num_epochs': 200, 'layers':...</td>\n      <td>Fixed</td>\n      <td>0.05</td>\n      <td>ArtificiallIntelligence</td>\n      <td>1</td>\n      <td>0</td>\n      <td>0.466443</td>\n      <td>0.441606</td>\n      <td>0.952756</td>\n      <td>0.603491</td>\n      <td>0.558526</td>\n      <td>[[18, 153], [6, 121]]</td>\n      <td>0.000706</td>\n      <td>0.000117</td>\n      <td>0.054688</td>\n    </tr>\n    <tr>\n      <th>1</th>\n      <td>DenseAutoencoder</td>\n      <td>{'batch_size': 1, 'num_epochs': 200, 'layers':...</td>\n      <td>Fixed</td>\n      <td>0.1</td>\n      <td>ArtificiallIntelligence</td>\n      <td>1</td>\n      <td>0</td>\n      <td>0.466443</td>\n      <td>0.441606</td>\n      <td>0.952756</td>\n      <td>0.603491</td>\n      <td>0.558526</td>\n      <td>[[18, 153], [6, 121]]</td>\n      <td>0.000706</td>\n      <td>0.000094</td>\n      <td>0.054688</td>\n    </tr>\n    <tr>\n      <th>2</th>\n      <td>DenseAutoencoder</td>\n      <td>{'batch_size': 1, 'num_epochs': 200, 'layers':...</td>\n      <td>Fixed</td>\n      <td>0.15</td>\n      <td>ArtificiallIntelligence</td>\n      <td>1</td>\n      <td>0</td>\n      <td>0.466443</td>\n      <td>0.441606</td>\n      <td>0.952756</td>\n      <td>0.603491</td>\n      <td>0.558526</td>\n      <td>[[18, 153], [6, 121]]</td>\n      <td>0.000706</td>\n      <td>0.000099</td>\n      <td>0.054688</td>\n    </tr>\n    <tr>\n      <th>3</th>\n      <td>DenseAutoencoder</td>\n      <td>{'batch_size': 1, 'num_epochs': 200, 'layers':...</td>\n      <td>Fixed</td>\n      <td>0.2</td>\n      <td>ArtificiallIntelligence</td>\n      <td>1</td>\n      <td>0</td>\n      <td>0.496644</td>\n      <td>0.453061</td>\n      <td>0.874016</td>\n      <td>0.596774</td>\n      <td>0.558526</td>\n      <td>[[37, 134], [16, 111]]</td>\n      <td>0.000706</td>\n      <td>0.000092</td>\n      <td>0.054688</td>\n    </tr>\n    <tr>\n      <th>4</th>\n      <td>DenseAutoencoder</td>\n      <td>{'batch_size': 1, 'num_epochs': 200, 'layers':...</td>\n      <td>Fixed</td>\n      <td>0.25</td>\n      <td>ArtificiallIntelligence</td>\n      <td>1</td>\n      <td>0</td>\n      <td>0.516779</td>\n      <td>0.457286</td>\n      <td>0.716535</td>\n      <td>0.558282</td>\n      <td>0.558526</td>\n      <td>[[63, 108], [36, 91]]</td>\n      <td>0.000706</td>\n      <td>0.000106</td>\n      <td>0.054688</td>\n    </tr>\n    <tr>\n      <th>...</th>\n      <td>...</td>\n      <td>...</td>\n      <td>...</td>\n      <td>...</td>\n      <td>...</td>\n      <td>...</td>\n      <td>...</td>\n      <td>...</td>\n      <td>...</td>\n      <td>...</td>\n      <td>...</td>\n      <td>...</td>\n      <td>...</td>\n      <td>...</td>\n      <td>...</td>\n      <td>...</td>\n    </tr>\n    <tr>\n      <th>1182</th>\n      <td>DenseAutoencoder</td>\n      <td>{'batch_size': 1, 'num_epochs': 200, 'layers':...</td>\n      <td>Fixed</td>\n      <td>0.4</td>\n      <td>ArtificiallIntelligence</td>\n      <td>5</td>\n      <td>7</td>\n      <td>0.591837</td>\n      <td>1.000000</td>\n      <td>0.024390</td>\n      <td>0.047619</td>\n      <td>0.489255</td>\n      <td>[[171, 0], [120, 3]]</td>\n      <td>0.001283</td>\n      <td>0.000106</td>\n      <td>0.054688</td>\n    </tr>\n    <tr>\n      <th>1183</th>\n      <td>DenseAutoencoder</td>\n      <td>{'batch_size': 1, 'num_epochs': 200, 'layers':...</td>\n      <td>Fixed</td>\n      <td>0.45</td>\n      <td>ArtificiallIntelligence</td>\n      <td>5</td>\n      <td>7</td>\n      <td>0.585034</td>\n      <td>1.000000</td>\n      <td>0.008130</td>\n      <td>0.016129</td>\n      <td>0.489255</td>\n      <td>[[171, 0], [122, 1]]</td>\n      <td>0.001283</td>\n      <td>0.000104</td>\n      <td>0.054688</td>\n    </tr>\n    <tr>\n      <th>1184</th>\n      <td>DenseAutoencoder</td>\n      <td>{'batch_size': 1, 'num_epochs': 200, 'layers':...</td>\n      <td>Fixed</td>\n      <td>0.5</td>\n      <td>ArtificiallIntelligence</td>\n      <td>5</td>\n      <td>7</td>\n      <td>0.585034</td>\n      <td>1.000000</td>\n      <td>0.008130</td>\n      <td>0.016129</td>\n      <td>0.489255</td>\n      <td>[[171, 0], [122, 1]]</td>\n      <td>0.001283</td>\n      <td>0.000120</td>\n      <td>0.054688</td>\n    </tr>\n    <tr>\n      <th>1185</th>\n      <td>DenseAutoencoder</td>\n      <td>{'batch_size': 1, 'num_epochs': 200, 'layers':...</td>\n      <td>Fixed</td>\n      <td>0.55</td>\n      <td>ArtificiallIntelligence</td>\n      <td>5</td>\n      <td>7</td>\n      <td>0.585034</td>\n      <td>1.000000</td>\n      <td>0.008130</td>\n      <td>0.016129</td>\n      <td>0.489255</td>\n      <td>[[171, 0], [122, 1]]</td>\n      <td>0.001283</td>\n      <td>0.000117</td>\n      <td>0.054688</td>\n    </tr>\n    <tr>\n      <th>1186</th>\n      <td>DenseAutoencoder</td>\n      <td>{'batch_size': 1, 'num_epochs': 200, 'layers':...</td>\n      <td>Fixed</td>\n      <td>0.6</td>\n      <td>ArtificiallIntelligence</td>\n      <td>5</td>\n      <td>7</td>\n      <td>0.585034</td>\n      <td>1.000000</td>\n      <td>0.008130</td>\n      <td>0.016129</td>\n      <td>0.489255</td>\n      <td>[[171, 0], [122, 1]]</td>\n      <td>0.001283</td>\n      <td>0.000107</td>\n      <td>0.054688</td>\n    </tr>\n  </tbody>\n</table>\n<p>1187 rows × 16 columns</p>\n</div>"
     },
     "metadata": {},
     "execution_count": 3
    }
   ],
   "source": [
    "df"
   ]
  },
  {
   "cell_type": "code",
   "execution_count": 4,
   "metadata": {},
   "outputs": [],
   "source": [
    "num_labeles_exes = df['Number_Labeled_Examples'].unique()\n",
    "\n",
    "for nle in num_labeles_exes: \n",
    "    df_selected = df[df['Number_Labeled_Examples'] == nle]\n",
    "    df_grouped = df_selected.groupby(by=['Algorithm','Parameters','Threshold_Type','Threshold_Type'])\n",
    "    df_grouped = df_grouped.mean()\n",
    "\n"
   ]
  },
  {
   "cell_type": "code",
   "execution_count": 5,
   "metadata": {},
   "outputs": [
    {
     "output_type": "execute_result",
     "data": {
      "text/plain": [
       "                                                                                                                           Iteration  \\\n",
       "Algorithm        Parameters                                         Threshold_Type Threshold_Type Number_Labeled_Examples              \n",
       "DenseAutoencoder {'batch_size': 1, 'num_epochs': 200, 'layers': ... 6-sigma        6-sigma        1                         4.500000   \n",
       "                                                                                                  5                         3.000000   \n",
       "                                                                    Fixed          Fixed          1                         4.500000   \n",
       "                                                                                                  5                         3.347826   \n",
       "\n",
       "                                                                                                                           Accuracy  \\\n",
       "Algorithm        Parameters                                         Threshold_Type Threshold_Type Number_Labeled_Examples             \n",
       "DenseAutoencoder {'batch_size': 1, 'num_epochs': 200, 'layers': ... 6-sigma        6-sigma        1                        0.752517   \n",
       "                                                                                                  5                        0.580175   \n",
       "                                                                    Fixed          Fixed          1                        0.644356   \n",
       "                                                                                                  5                        0.548235   \n",
       "\n",
       "                                                                                                                           Precision  \\\n",
       "Algorithm        Parameters                                         Threshold_Type Threshold_Type Number_Labeled_Examples              \n",
       "DenseAutoencoder {'batch_size': 1, 'num_epochs': 200, 'layers': ... 6-sigma        6-sigma        1                         0.000000   \n",
       "                                                                                                  5                         0.076760   \n",
       "                                                                    Fixed          Fixed          1                         0.279012   \n",
       "                                                                                                  5                         0.263911   \n",
       "\n",
       "                                                                                                                             Recall  \\\n",
       "Algorithm        Parameters                                         Threshold_Type Threshold_Type Number_Labeled_Examples             \n",
       "DenseAutoencoder {'batch_size': 1, 'num_epochs': 200, 'layers': ... 6-sigma        6-sigma        1                        0.000000   \n",
       "                                                                                                  5                        0.033018   \n",
       "                                                                    Fixed          Fixed          1                        0.310752   \n",
       "                                                                                                  5                        0.250147   \n",
       "\n",
       "                                                                                                                                 F1  \\\n",
       "Algorithm        Parameters                                         Threshold_Type Threshold_Type Number_Labeled_Examples             \n",
       "DenseAutoencoder {'batch_size': 1, 'num_epochs': 200, 'layers': ... 6-sigma        6-sigma        1                        0.000000   \n",
       "                                                                                                  5                        0.037776   \n",
       "                                                                    Fixed          Fixed          1                        0.177180   \n",
       "                                                                                                  5                        0.186419   \n",
       "\n",
       "                                                                                                                            ROC_AUC  \\\n",
       "Algorithm        Parameters                                         Threshold_Type Threshold_Type Number_Labeled_Examples             \n",
       "DenseAutoencoder {'batch_size': 1, 'num_epochs': 200, 'layers': ... 6-sigma        6-sigma        1                        0.676026   \n",
       "                                                                                                  5                        0.555783   \n",
       "                                                                    Fixed          Fixed          1                        0.676026   \n",
       "                                                                                                  5                        0.549998   \n",
       "\n",
       "                                                                                                                           Building_Time  \\\n",
       "Algorithm        Parameters                                         Threshold_Type Threshold_Type Number_Labeled_Examples                  \n",
       "DenseAutoencoder {'batch_size': 1, 'num_epochs': 200, 'layers': ... 6-sigma        6-sigma        1                             0.000489   \n",
       "                                                                                                  5                             0.001247   \n",
       "                                                                    Fixed          Fixed          1                             0.000489   \n",
       "                                                                                                  5                             0.001250   \n",
       "\n",
       "                                                                                                                           Classification_Time  \\\n",
       "Algorithm        Parameters                                         Threshold_Type Threshold_Type Number_Labeled_Examples                        \n",
       "DenseAutoencoder {'batch_size': 1, 'num_epochs': 200, 'layers': ... 6-sigma        6-sigma        1                                   0.000096   \n",
       "                                                                                                  5                                   0.000109   \n",
       "                                                                    Fixed          Fixed          1                                   0.000100   \n",
       "                                                                                                  5                                   0.000108   \n",
       "\n",
       "                                                                                                                             Memory  \n",
       "Algorithm        Parameters                                         Threshold_Type Threshold_Type Number_Labeled_Examples            \n",
       "DenseAutoencoder {'batch_size': 1, 'num_epochs': 200, 'layers': ... 6-sigma        6-sigma        1                        0.054688  \n",
       "                                                                                                  5                        0.054688  \n",
       "                                                                    Fixed          Fixed          1                        0.054688  \n",
       "                                                                                                  5                        0.054688  "
      ],
      "text/html": "<div>\n<style scoped>\n    .dataframe tbody tr th:only-of-type {\n        vertical-align: middle;\n    }\n\n    .dataframe tbody tr th {\n        vertical-align: top;\n    }\n\n    .dataframe thead th {\n        text-align: right;\n    }\n</style>\n<table border=\"1\" class=\"dataframe\">\n  <thead>\n    <tr style=\"text-align: right;\">\n      <th></th>\n      <th></th>\n      <th></th>\n      <th></th>\n      <th></th>\n      <th>Iteration</th>\n      <th>Accuracy</th>\n      <th>Precision</th>\n      <th>Recall</th>\n      <th>F1</th>\n      <th>ROC_AUC</th>\n      <th>Building_Time</th>\n      <th>Classification_Time</th>\n      <th>Memory</th>\n    </tr>\n    <tr>\n      <th>Algorithm</th>\n      <th>Parameters</th>\n      <th>Threshold_Type</th>\n      <th>Threshold_Type</th>\n      <th>Number_Labeled_Examples</th>\n      <th></th>\n      <th></th>\n      <th></th>\n      <th></th>\n      <th></th>\n      <th></th>\n      <th></th>\n      <th></th>\n      <th></th>\n    </tr>\n  </thead>\n  <tbody>\n    <tr>\n      <th rowspan=\"4\" valign=\"top\">DenseAutoencoder</th>\n      <th rowspan=\"4\" valign=\"top\">{'batch_size': 1, 'num_epochs': 200, 'layers': [{'num_neurons': 2, 'activation': 'relu'}]}</th>\n      <th rowspan=\"2\" valign=\"top\">6-sigma</th>\n      <th rowspan=\"2\" valign=\"top\">6-sigma</th>\n      <th>1</th>\n      <td>4.500000</td>\n      <td>0.752517</td>\n      <td>0.000000</td>\n      <td>0.000000</td>\n      <td>0.000000</td>\n      <td>0.676026</td>\n      <td>0.000489</td>\n      <td>0.000096</td>\n      <td>0.054688</td>\n    </tr>\n    <tr>\n      <th>5</th>\n      <td>3.000000</td>\n      <td>0.580175</td>\n      <td>0.076760</td>\n      <td>0.033018</td>\n      <td>0.037776</td>\n      <td>0.555783</td>\n      <td>0.001247</td>\n      <td>0.000109</td>\n      <td>0.054688</td>\n    </tr>\n    <tr>\n      <th rowspan=\"2\" valign=\"top\">Fixed</th>\n      <th rowspan=\"2\" valign=\"top\">Fixed</th>\n      <th>1</th>\n      <td>4.500000</td>\n      <td>0.644356</td>\n      <td>0.279012</td>\n      <td>0.310752</td>\n      <td>0.177180</td>\n      <td>0.676026</td>\n      <td>0.000489</td>\n      <td>0.000100</td>\n      <td>0.054688</td>\n    </tr>\n    <tr>\n      <th>5</th>\n      <td>3.347826</td>\n      <td>0.548235</td>\n      <td>0.263911</td>\n      <td>0.250147</td>\n      <td>0.186419</td>\n      <td>0.549998</td>\n      <td>0.001250</td>\n      <td>0.000108</td>\n      <td>0.054688</td>\n    </tr>\n  </tbody>\n</table>\n</div>"
     },
     "metadata": {},
     "execution_count": 5
    }
   ],
   "source": [
    "df_grouped.mean()"
   ]
  },
  {
   "cell_type": "code",
   "execution_count": 9,
   "metadata": {},
   "outputs": [
    {
     "output_type": "execute_result",
     "data": {
      "text/plain": [
       "                                                                         count  \\\n",
       "Algorithm            Parameters                                                  \n",
       "KNeighborsClassifier {'algorithm': 'auto', 'leaf_size': 30, 'metric'...   10.0   \n",
       "                     {'algorithm': 'auto', 'leaf_size': 30, 'metric'...   10.0   \n",
       "                     {'algorithm': 'auto', 'leaf_size': 30, 'metric'...   10.0   \n",
       "                     {'algorithm': 'auto', 'leaf_size': 30, 'metric'...   10.0   \n",
       "                     {'algorithm': 'auto', 'leaf_size': 30, 'metric'...   10.0   \n",
       "                     {'algorithm': 'auto', 'leaf_size': 30, 'metric'...   10.0   \n",
       "\n",
       "                                                                             mean  \\\n",
       "Algorithm            Parameters                                                     \n",
       "KNeighborsClassifier {'algorithm': 'auto', 'leaf_size': 30, 'metric'...  0.826092   \n",
       "                     {'algorithm': 'auto', 'leaf_size': 30, 'metric'...  0.826092   \n",
       "                     {'algorithm': 'auto', 'leaf_size': 30, 'metric'...  0.812529   \n",
       "                     {'algorithm': 'auto', 'leaf_size': 30, 'metric'...  0.825977   \n",
       "                     {'algorithm': 'auto', 'leaf_size': 30, 'metric'...  0.799425   \n",
       "                     {'algorithm': 'auto', 'leaf_size': 30, 'metric'...  0.812759   \n",
       "\n",
       "                                                                              std  \\\n",
       "Algorithm            Parameters                                                     \n",
       "KNeighborsClassifier {'algorithm': 'auto', 'leaf_size': 30, 'metric'...  0.076625   \n",
       "                     {'algorithm': 'auto', 'leaf_size': 30, 'metric'...  0.095295   \n",
       "                     {'algorithm': 'auto', 'leaf_size': 30, 'metric'...  0.071257   \n",
       "                     {'algorithm': 'auto', 'leaf_size': 30, 'metric'...  0.068466   \n",
       "                     {'algorithm': 'auto', 'leaf_size': 30, 'metric'...  0.069993   \n",
       "                     {'algorithm': 'auto', 'leaf_size': 30, 'metric'...  0.068691   \n",
       "\n",
       "                                                                              min  \\\n",
       "Algorithm            Parameters                                                     \n",
       "KNeighborsClassifier {'algorithm': 'auto', 'leaf_size': 30, 'metric'...  0.700000   \n",
       "                     {'algorithm': 'auto', 'leaf_size': 30, 'metric'...  0.633333   \n",
       "                     {'algorithm': 'auto', 'leaf_size': 30, 'metric'...  0.700000   \n",
       "                     {'algorithm': 'auto', 'leaf_size': 30, 'metric'...  0.733333   \n",
       "                     {'algorithm': 'auto', 'leaf_size': 30, 'metric'...  0.666667   \n",
       "                     {'algorithm': 'auto', 'leaf_size': 30, 'metric'...  0.666667   \n",
       "\n",
       "                                                                              25%  \\\n",
       "Algorithm            Parameters                                                     \n",
       "KNeighborsClassifier {'algorithm': 'auto', 'leaf_size': 30, 'metric'...  0.775000   \n",
       "                     {'algorithm': 'auto', 'leaf_size': 30, 'metric'...  0.775000   \n",
       "                     {'algorithm': 'auto', 'leaf_size': 30, 'metric'...  0.760632   \n",
       "                     {'algorithm': 'auto', 'leaf_size': 30, 'metric'...  0.773276   \n",
       "                     {'algorithm': 'auto', 'leaf_size': 30, 'metric'...  0.750000   \n",
       "                     {'algorithm': 'auto', 'leaf_size': 30, 'metric'...  0.800000   \n",
       "\n",
       "                                                                              50%  \\\n",
       "Algorithm            Parameters                                                     \n",
       "KNeighborsClassifier {'algorithm': 'auto', 'leaf_size': 30, 'metric'...  0.830460   \n",
       "                     {'algorithm': 'auto', 'leaf_size': 30, 'metric'...  0.847126   \n",
       "                     {'algorithm': 'auto', 'leaf_size': 30, 'metric'...  0.816667   \n",
       "                     {'algorithm': 'auto', 'leaf_size': 30, 'metric'...  0.833333   \n",
       "                     {'algorithm': 'auto', 'leaf_size': 30, 'metric'...  0.813793   \n",
       "                     {'algorithm': 'auto', 'leaf_size': 30, 'metric'...  0.813793   \n",
       "\n",
       "                                                                              75%  \\\n",
       "Algorithm            Parameters                                                     \n",
       "KNeighborsClassifier {'algorithm': 'auto', 'leaf_size': 30, 'metric'...  0.891667   \n",
       "                     {'algorithm': 'auto', 'leaf_size': 30, 'metric'...  0.891667   \n",
       "                     {'algorithm': 'auto', 'leaf_size': 30, 'metric'...  0.866667   \n",
       "                     {'algorithm': 'auto', 'leaf_size': 30, 'metric'...  0.891667   \n",
       "                     {'algorithm': 'auto', 'leaf_size': 30, 'metric'...  0.833333   \n",
       "                     {'algorithm': 'auto', 'leaf_size': 30, 'metric'...  0.833333   \n",
       "\n",
       "                                                                              max  \n",
       "Algorithm            Parameters                                                    \n",
       "KNeighborsClassifier {'algorithm': 'auto', 'leaf_size': 30, 'metric'...  0.933333  \n",
       "                     {'algorithm': 'auto', 'leaf_size': 30, 'metric'...  0.933333  \n",
       "                     {'algorithm': 'auto', 'leaf_size': 30, 'metric'...  0.900000  \n",
       "                     {'algorithm': 'auto', 'leaf_size': 30, 'metric'...  0.900000  \n",
       "                     {'algorithm': 'auto', 'leaf_size': 30, 'metric'...  0.900000  \n",
       "                     {'algorithm': 'auto', 'leaf_size': 30, 'metric'...  0.933333  "
      ],
      "text/html": "<div>\n<style scoped>\n    .dataframe tbody tr th:only-of-type {\n        vertical-align: middle;\n    }\n\n    .dataframe tbody tr th {\n        vertical-align: top;\n    }\n\n    .dataframe thead th {\n        text-align: right;\n    }\n</style>\n<table border=\"1\" class=\"dataframe\">\n  <thead>\n    <tr style=\"text-align: right;\">\n      <th></th>\n      <th></th>\n      <th>count</th>\n      <th>mean</th>\n      <th>std</th>\n      <th>min</th>\n      <th>25%</th>\n      <th>50%</th>\n      <th>75%</th>\n      <th>max</th>\n    </tr>\n    <tr>\n      <th>Algorithm</th>\n      <th>Parameters</th>\n      <th></th>\n      <th></th>\n      <th></th>\n      <th></th>\n      <th></th>\n      <th></th>\n      <th></th>\n      <th></th>\n    </tr>\n  </thead>\n  <tbody>\n    <tr>\n      <th rowspan=\"6\" valign=\"top\">KNeighborsClassifier</th>\n      <th>{'algorithm': 'auto', 'leaf_size': 30, 'metric': 'cosine', 'metric_params': None, 'n_jobs': None, 'n_neighbors': 10, 'p': 2, 'weights': 'distance'}</th>\n      <td>10.0</td>\n      <td>0.826092</td>\n      <td>0.076625</td>\n      <td>0.700000</td>\n      <td>0.775000</td>\n      <td>0.830460</td>\n      <td>0.891667</td>\n      <td>0.933333</td>\n    </tr>\n    <tr>\n      <th>{'algorithm': 'auto', 'leaf_size': 30, 'metric': 'cosine', 'metric_params': None, 'n_jobs': None, 'n_neighbors': 10, 'p': 2, 'weights': 'uniform'}</th>\n      <td>10.0</td>\n      <td>0.826092</td>\n      <td>0.095295</td>\n      <td>0.633333</td>\n      <td>0.775000</td>\n      <td>0.847126</td>\n      <td>0.891667</td>\n      <td>0.933333</td>\n    </tr>\n    <tr>\n      <th>{'algorithm': 'auto', 'leaf_size': 30, 'metric': 'cosine', 'metric_params': None, 'n_jobs': None, 'n_neighbors': 15, 'p': 2, 'weights': 'distance'}</th>\n      <td>10.0</td>\n      <td>0.812529</td>\n      <td>0.071257</td>\n      <td>0.700000</td>\n      <td>0.760632</td>\n      <td>0.816667</td>\n      <td>0.866667</td>\n      <td>0.900000</td>\n    </tr>\n    <tr>\n      <th>{'algorithm': 'auto', 'leaf_size': 30, 'metric': 'cosine', 'metric_params': None, 'n_jobs': None, 'n_neighbors': 15, 'p': 2, 'weights': 'uniform'}</th>\n      <td>10.0</td>\n      <td>0.825977</td>\n      <td>0.068466</td>\n      <td>0.733333</td>\n      <td>0.773276</td>\n      <td>0.833333</td>\n      <td>0.891667</td>\n      <td>0.900000</td>\n    </tr>\n    <tr>\n      <th>{'algorithm': 'auto', 'leaf_size': 30, 'metric': 'cosine', 'metric_params': None, 'n_jobs': None, 'n_neighbors': 5, 'p': 2, 'weights': 'distance'}</th>\n      <td>10.0</td>\n      <td>0.799425</td>\n      <td>0.069993</td>\n      <td>0.666667</td>\n      <td>0.750000</td>\n      <td>0.813793</td>\n      <td>0.833333</td>\n      <td>0.900000</td>\n    </tr>\n    <tr>\n      <th>{'algorithm': 'auto', 'leaf_size': 30, 'metric': 'cosine', 'metric_params': None, 'n_jobs': None, 'n_neighbors': 5, 'p': 2, 'weights': 'uniform'}</th>\n      <td>10.0</td>\n      <td>0.812759</td>\n      <td>0.068691</td>\n      <td>0.666667</td>\n      <td>0.800000</td>\n      <td>0.813793</td>\n      <td>0.833333</td>\n      <td>0.933333</td>\n    </tr>\n  </tbody>\n</table>\n</div>"
     },
     "metadata": {},
     "execution_count": 9
    }
   ],
   "source": [
    "metric = 'Accuracy'\n",
    "df_grouped.describe()[metric]"
   ]
  },
  {
   "cell_type": "code",
   "execution_count": 12,
   "metadata": {},
   "outputs": [
    {
     "output_type": "execute_result",
     "data": {
      "text/plain": [
       "0.9333333333333332"
      ]
     },
     "metadata": {},
     "execution_count": 12
    }
   ],
   "source": [
    "df_grouped.describe()[metric]['max'].max()\n"
   ]
  },
  {
   "cell_type": "code",
   "execution_count": null,
   "metadata": {},
   "outputs": [],
   "source": []
  }
 ]
}