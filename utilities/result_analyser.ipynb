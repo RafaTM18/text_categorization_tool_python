{
 "metadata": {
  "language_info": {
   "codemirror_mode": {
    "name": "ipython",
    "version": 3
   },
   "file_extension": ".py",
   "mimetype": "text/x-python",
   "name": "python",
   "nbconvert_exporter": "python",
   "pygments_lexer": "ipython3",
   "version": "3.7.3-final"
  },
  "orig_nbformat": 2,
  "kernelspec": {
   "name": "python3",
   "display_name": "Python 3",
   "language": "python"
  }
 },
 "nbformat": 4,
 "nbformat_minor": 2,
 "cells": [
  {
   "source": [
    "# Imports"
   ],
   "cell_type": "markdown",
   "metadata": {}
  },
  {
   "cell_type": "code",
   "execution_count": 1,
   "metadata": {},
   "outputs": [],
   "source": [
    "import pandas as pd"
   ]
  },
  {
   "cell_type": "code",
   "execution_count": 2,
   "metadata": {},
   "outputs": [],
   "source": [
    "df = pd.read_csv('/home/rafael/Área de Trabalho/Projetos/TextCategorizationToolPython/saida/resultados_teste_iris.csv')"
   ]
  },
  {
   "cell_type": "code",
   "execution_count": 4,
   "metadata": {},
   "outputs": [
    {
     "output_type": "execute_result",
     "data": {
      "text/plain": [
       "      Algorithm            Parameters      Class  Number_Labeled_Examples  \\\n",
       "0       Diabolo    {'threshold': 0.9}     Setosa                        1   \n",
       "1       Diabolo    {'threshold': 0.9}     Setosa                        1   \n",
       "2       Diabolo    {'threshold': 0.9}     Setosa                        1   \n",
       "3       Diabolo    {'threshold': 0.9}     Setosa                        1   \n",
       "4       Diabolo    {'threshold': 0.9}     Setosa                        1   \n",
       "...         ...                   ...        ...                      ...   \n",
       "14995   Diabolo  {'threshold': 0.999}  Virginica                       30   \n",
       "14996   Diabolo  {'threshold': 0.999}  Virginica                       30   \n",
       "14997   Diabolo  {'threshold': 0.999}  Virginica                       30   \n",
       "14998   Diabolo  {'threshold': 0.999}  Virginica                       30   \n",
       "14999   Diabolo  {'threshold': 0.999}  Virginica                       30   \n",
       "\n",
       "       Iteration  Accuracy  Precision  Recall        F1  ROC_AUC  \\\n",
       "0              0  0.751678   0.569767    1.00  0.725926   1.0000   \n",
       "1              1  0.583893   0.441441    1.00  0.612500   1.0000   \n",
       "2              2  0.570470   0.433628    1.00  0.604938   1.0000   \n",
       "3              3  0.684564   0.510417    1.00  0.675862   1.0000   \n",
       "4              4  0.812081   0.636364    1.00  0.777778   1.0000   \n",
       "...          ...       ...        ...     ...       ...      ...   \n",
       "14995          5  0.933333   0.875000    0.70  0.777778   0.9805   \n",
       "14996          6  0.916667   0.916667    0.55  0.687500   0.9715   \n",
       "14997          7  0.933333   0.928571    0.65  0.764706   0.9855   \n",
       "14998          8  0.925000   0.923077    0.60  0.727273   0.9880   \n",
       "14999          9  0.925000   0.823529    0.70  0.756757   0.9800   \n",
       "\n",
       "       Building_Time     Confusion_Matrix  Classification_Time    Memory  \n",
       "0                  0  [[63, 37], [0, 49]]             0.010448  0.000000  \n",
       "1                  0  [[38, 62], [0, 49]]             0.045502  0.000000  \n",
       "2                  0  [[36, 64], [0, 49]]             0.021304  0.000000  \n",
       "3                  0  [[53, 47], [0, 49]]             0.003586  0.000000  \n",
       "4                  0  [[72, 28], [0, 49]]             0.002721  0.000000  \n",
       "...              ...                  ...                  ...       ...  \n",
       "14995              0   [[98, 2], [6, 14]]             0.000098  0.054688  \n",
       "14996              0   [[99, 1], [9, 11]]             0.000167  0.054688  \n",
       "14997              0   [[99, 1], [7, 13]]             0.000101  0.054688  \n",
       "14998              0   [[99, 1], [8, 12]]             0.000100  0.054688  \n",
       "14999              0   [[97, 3], [6, 14]]             0.000099  0.054688  \n",
       "\n",
       "[15000 rows x 14 columns]"
      ],
      "text/html": "<div>\n<style scoped>\n    .dataframe tbody tr th:only-of-type {\n        vertical-align: middle;\n    }\n\n    .dataframe tbody tr th {\n        vertical-align: top;\n    }\n\n    .dataframe thead th {\n        text-align: right;\n    }\n</style>\n<table border=\"1\" class=\"dataframe\">\n  <thead>\n    <tr style=\"text-align: right;\">\n      <th></th>\n      <th>Algorithm</th>\n      <th>Parameters</th>\n      <th>Class</th>\n      <th>Number_Labeled_Examples</th>\n      <th>Iteration</th>\n      <th>Accuracy</th>\n      <th>Precision</th>\n      <th>Recall</th>\n      <th>F1</th>\n      <th>ROC_AUC</th>\n      <th>Building_Time</th>\n      <th>Confusion_Matrix</th>\n      <th>Classification_Time</th>\n      <th>Memory</th>\n    </tr>\n  </thead>\n  <tbody>\n    <tr>\n      <th>0</th>\n      <td>Diabolo</td>\n      <td>{'threshold': 0.9}</td>\n      <td>Setosa</td>\n      <td>1</td>\n      <td>0</td>\n      <td>0.751678</td>\n      <td>0.569767</td>\n      <td>1.00</td>\n      <td>0.725926</td>\n      <td>1.0000</td>\n      <td>0</td>\n      <td>[[63, 37], [0, 49]]</td>\n      <td>0.010448</td>\n      <td>0.000000</td>\n    </tr>\n    <tr>\n      <th>1</th>\n      <td>Diabolo</td>\n      <td>{'threshold': 0.9}</td>\n      <td>Setosa</td>\n      <td>1</td>\n      <td>1</td>\n      <td>0.583893</td>\n      <td>0.441441</td>\n      <td>1.00</td>\n      <td>0.612500</td>\n      <td>1.0000</td>\n      <td>0</td>\n      <td>[[38, 62], [0, 49]]</td>\n      <td>0.045502</td>\n      <td>0.000000</td>\n    </tr>\n    <tr>\n      <th>2</th>\n      <td>Diabolo</td>\n      <td>{'threshold': 0.9}</td>\n      <td>Setosa</td>\n      <td>1</td>\n      <td>2</td>\n      <td>0.570470</td>\n      <td>0.433628</td>\n      <td>1.00</td>\n      <td>0.604938</td>\n      <td>1.0000</td>\n      <td>0</td>\n      <td>[[36, 64], [0, 49]]</td>\n      <td>0.021304</td>\n      <td>0.000000</td>\n    </tr>\n    <tr>\n      <th>3</th>\n      <td>Diabolo</td>\n      <td>{'threshold': 0.9}</td>\n      <td>Setosa</td>\n      <td>1</td>\n      <td>3</td>\n      <td>0.684564</td>\n      <td>0.510417</td>\n      <td>1.00</td>\n      <td>0.675862</td>\n      <td>1.0000</td>\n      <td>0</td>\n      <td>[[53, 47], [0, 49]]</td>\n      <td>0.003586</td>\n      <td>0.000000</td>\n    </tr>\n    <tr>\n      <th>4</th>\n      <td>Diabolo</td>\n      <td>{'threshold': 0.9}</td>\n      <td>Setosa</td>\n      <td>1</td>\n      <td>4</td>\n      <td>0.812081</td>\n      <td>0.636364</td>\n      <td>1.00</td>\n      <td>0.777778</td>\n      <td>1.0000</td>\n      <td>0</td>\n      <td>[[72, 28], [0, 49]]</td>\n      <td>0.002721</td>\n      <td>0.000000</td>\n    </tr>\n    <tr>\n      <th>...</th>\n      <td>...</td>\n      <td>...</td>\n      <td>...</td>\n      <td>...</td>\n      <td>...</td>\n      <td>...</td>\n      <td>...</td>\n      <td>...</td>\n      <td>...</td>\n      <td>...</td>\n      <td>...</td>\n      <td>...</td>\n      <td>...</td>\n      <td>...</td>\n    </tr>\n    <tr>\n      <th>14995</th>\n      <td>Diabolo</td>\n      <td>{'threshold': 0.999}</td>\n      <td>Virginica</td>\n      <td>30</td>\n      <td>5</td>\n      <td>0.933333</td>\n      <td>0.875000</td>\n      <td>0.70</td>\n      <td>0.777778</td>\n      <td>0.9805</td>\n      <td>0</td>\n      <td>[[98, 2], [6, 14]]</td>\n      <td>0.000098</td>\n      <td>0.054688</td>\n    </tr>\n    <tr>\n      <th>14996</th>\n      <td>Diabolo</td>\n      <td>{'threshold': 0.999}</td>\n      <td>Virginica</td>\n      <td>30</td>\n      <td>6</td>\n      <td>0.916667</td>\n      <td>0.916667</td>\n      <td>0.55</td>\n      <td>0.687500</td>\n      <td>0.9715</td>\n      <td>0</td>\n      <td>[[99, 1], [9, 11]]</td>\n      <td>0.000167</td>\n      <td>0.054688</td>\n    </tr>\n    <tr>\n      <th>14997</th>\n      <td>Diabolo</td>\n      <td>{'threshold': 0.999}</td>\n      <td>Virginica</td>\n      <td>30</td>\n      <td>7</td>\n      <td>0.933333</td>\n      <td>0.928571</td>\n      <td>0.65</td>\n      <td>0.764706</td>\n      <td>0.9855</td>\n      <td>0</td>\n      <td>[[99, 1], [7, 13]]</td>\n      <td>0.000101</td>\n      <td>0.054688</td>\n    </tr>\n    <tr>\n      <th>14998</th>\n      <td>Diabolo</td>\n      <td>{'threshold': 0.999}</td>\n      <td>Virginica</td>\n      <td>30</td>\n      <td>8</td>\n      <td>0.925000</td>\n      <td>0.923077</td>\n      <td>0.60</td>\n      <td>0.727273</td>\n      <td>0.9880</td>\n      <td>0</td>\n      <td>[[99, 1], [8, 12]]</td>\n      <td>0.000100</td>\n      <td>0.054688</td>\n    </tr>\n    <tr>\n      <th>14999</th>\n      <td>Diabolo</td>\n      <td>{'threshold': 0.999}</td>\n      <td>Virginica</td>\n      <td>30</td>\n      <td>9</td>\n      <td>0.925000</td>\n      <td>0.823529</td>\n      <td>0.70</td>\n      <td>0.756757</td>\n      <td>0.9800</td>\n      <td>0</td>\n      <td>[[97, 3], [6, 14]]</td>\n      <td>0.000099</td>\n      <td>0.054688</td>\n    </tr>\n  </tbody>\n</table>\n<p>15000 rows × 14 columns</p>\n</div>"
     },
     "metadata": {},
     "execution_count": 4
    }
   ],
   "source": [
    "df"
   ]
  },
  {
   "cell_type": "code",
   "execution_count": 5,
   "metadata": {},
   "outputs": [],
   "source": [
    "df_grouped = df.groupby(by=['Algorithm','Parameters','Number_Labeled_Examples'])"
   ]
  },
  {
   "cell_type": "code",
   "execution_count": 6,
   "metadata": {},
   "outputs": [],
   "source": [
    "df_grouped.mean().to_csv('teste.csv')"
   ]
  },
  {
   "cell_type": "code",
   "execution_count": 7,
   "metadata": {},
   "outputs": [],
   "source": [
    "df_restults = pd.read_csv('teste.csv')"
   ]
  },
  {
   "cell_type": "code",
   "execution_count": 13,
   "metadata": {},
   "outputs": [],
   "source": [
    "df_sorted = df_restults.sort_values(by=['ROC_AUC'], ascending=False)"
   ]
  },
  {
   "cell_type": "code",
   "execution_count": 14,
   "metadata": {},
   "outputs": [
    {
     "output_type": "execute_result",
     "data": {
      "text/plain": [
       "             Algorithm                                         Parameters  \\\n",
       "51    EllipticEnvelope  {'assume_centered': True, 'contamination': 0.4...   \n",
       "39    EllipticEnvelope  {'assume_centered': True, 'contamination': 0.1...   \n",
       "47    EllipticEnvelope  {'assume_centered': True, 'contamination': 0.3...   \n",
       "43    EllipticEnvelope  {'assume_centered': True, 'contamination': 0.2...   \n",
       "27    EllipticEnvelope  {'assume_centered': False, 'contamination': 0....   \n",
       "23    EllipticEnvelope  {'assume_centered': False, 'contamination': 0....   \n",
       "35    EllipticEnvelope  {'assume_centered': False, 'contamination': 0....   \n",
       "31    EllipticEnvelope  {'assume_centered': False, 'contamination': 0....   \n",
       "2              Diabolo                                {'threshold': 0.95}   \n",
       "95  LocalOutlierFactor  {'algorithm': 'auto', 'contamination': 'auto',...   \n",
       "\n",
       "    Number_Labeled_Examples  Iteration  Accuracy  Precision    Recall  \\\n",
       "51                       30        4.5  0.920000   0.970683  0.536667   \n",
       "39                       30        4.5  0.953333   0.896058  0.833333   \n",
       "47                       30        4.5  0.930833   0.964475  0.610000   \n",
       "43                       30        4.5  0.946667   0.944455  0.726667   \n",
       "27                       30        4.5  0.944722   0.937414  0.723333   \n",
       "23                       30        4.5  0.952222   0.884295  0.848333   \n",
       "35                       30        4.5  0.918611   0.970037  0.528333   \n",
       "31                       30        4.5  0.931111   0.965613  0.611667   \n",
       "2                        10        4.5  0.732619   0.589137  1.000000   \n",
       "95                       30        4.5  0.940556   0.875654  0.786667   \n",
       "\n",
       "          F1   ROC_AUC  Building_Time  Classification_Time    Memory  \n",
       "51  0.685296  0.988583            0.0             0.000002  0.054688  \n",
       "39  0.855133  0.988583            0.0             0.000002  0.054688  \n",
       "47  0.741102  0.988583            0.0             0.000002  0.054688  \n",
       "43  0.815755  0.988583            0.0             0.000002  0.054688  \n",
       "27  0.809370  0.987083            0.0             0.000002  0.054688  \n",
       "23  0.856848  0.987083            0.0             0.000002  0.054688  \n",
       "35  0.678149  0.987083            0.0             0.000002  0.054688  \n",
       "31  0.741402  0.987083            0.0             0.000002  0.054688  \n",
       "2   0.716031  0.985108            0.0             0.000113  0.054688  \n",
       "95  0.810100  0.985017            0.0             0.000213  0.054688  "
      ],
      "text/html": "<div>\n<style scoped>\n    .dataframe tbody tr th:only-of-type {\n        vertical-align: middle;\n    }\n\n    .dataframe tbody tr th {\n        vertical-align: top;\n    }\n\n    .dataframe thead th {\n        text-align: right;\n    }\n</style>\n<table border=\"1\" class=\"dataframe\">\n  <thead>\n    <tr style=\"text-align: right;\">\n      <th></th>\n      <th>Algorithm</th>\n      <th>Parameters</th>\n      <th>Number_Labeled_Examples</th>\n      <th>Iteration</th>\n      <th>Accuracy</th>\n      <th>Precision</th>\n      <th>Recall</th>\n      <th>F1</th>\n      <th>ROC_AUC</th>\n      <th>Building_Time</th>\n      <th>Classification_Time</th>\n      <th>Memory</th>\n    </tr>\n  </thead>\n  <tbody>\n    <tr>\n      <th>51</th>\n      <td>EllipticEnvelope</td>\n      <td>{'assume_centered': True, 'contamination': 0.4...</td>\n      <td>30</td>\n      <td>4.5</td>\n      <td>0.920000</td>\n      <td>0.970683</td>\n      <td>0.536667</td>\n      <td>0.685296</td>\n      <td>0.988583</td>\n      <td>0.0</td>\n      <td>0.000002</td>\n      <td>0.054688</td>\n    </tr>\n    <tr>\n      <th>39</th>\n      <td>EllipticEnvelope</td>\n      <td>{'assume_centered': True, 'contamination': 0.1...</td>\n      <td>30</td>\n      <td>4.5</td>\n      <td>0.953333</td>\n      <td>0.896058</td>\n      <td>0.833333</td>\n      <td>0.855133</td>\n      <td>0.988583</td>\n      <td>0.0</td>\n      <td>0.000002</td>\n      <td>0.054688</td>\n    </tr>\n    <tr>\n      <th>47</th>\n      <td>EllipticEnvelope</td>\n      <td>{'assume_centered': True, 'contamination': 0.3...</td>\n      <td>30</td>\n      <td>4.5</td>\n      <td>0.930833</td>\n      <td>0.964475</td>\n      <td>0.610000</td>\n      <td>0.741102</td>\n      <td>0.988583</td>\n      <td>0.0</td>\n      <td>0.000002</td>\n      <td>0.054688</td>\n    </tr>\n    <tr>\n      <th>43</th>\n      <td>EllipticEnvelope</td>\n      <td>{'assume_centered': True, 'contamination': 0.2...</td>\n      <td>30</td>\n      <td>4.5</td>\n      <td>0.946667</td>\n      <td>0.944455</td>\n      <td>0.726667</td>\n      <td>0.815755</td>\n      <td>0.988583</td>\n      <td>0.0</td>\n      <td>0.000002</td>\n      <td>0.054688</td>\n    </tr>\n    <tr>\n      <th>27</th>\n      <td>EllipticEnvelope</td>\n      <td>{'assume_centered': False, 'contamination': 0....</td>\n      <td>30</td>\n      <td>4.5</td>\n      <td>0.944722</td>\n      <td>0.937414</td>\n      <td>0.723333</td>\n      <td>0.809370</td>\n      <td>0.987083</td>\n      <td>0.0</td>\n      <td>0.000002</td>\n      <td>0.054688</td>\n    </tr>\n    <tr>\n      <th>23</th>\n      <td>EllipticEnvelope</td>\n      <td>{'assume_centered': False, 'contamination': 0....</td>\n      <td>30</td>\n      <td>4.5</td>\n      <td>0.952222</td>\n      <td>0.884295</td>\n      <td>0.848333</td>\n      <td>0.856848</td>\n      <td>0.987083</td>\n      <td>0.0</td>\n      <td>0.000002</td>\n      <td>0.054688</td>\n    </tr>\n    <tr>\n      <th>35</th>\n      <td>EllipticEnvelope</td>\n      <td>{'assume_centered': False, 'contamination': 0....</td>\n      <td>30</td>\n      <td>4.5</td>\n      <td>0.918611</td>\n      <td>0.970037</td>\n      <td>0.528333</td>\n      <td>0.678149</td>\n      <td>0.987083</td>\n      <td>0.0</td>\n      <td>0.000002</td>\n      <td>0.054688</td>\n    </tr>\n    <tr>\n      <th>31</th>\n      <td>EllipticEnvelope</td>\n      <td>{'assume_centered': False, 'contamination': 0....</td>\n      <td>30</td>\n      <td>4.5</td>\n      <td>0.931111</td>\n      <td>0.965613</td>\n      <td>0.611667</td>\n      <td>0.741402</td>\n      <td>0.987083</td>\n      <td>0.0</td>\n      <td>0.000002</td>\n      <td>0.054688</td>\n    </tr>\n    <tr>\n      <th>2</th>\n      <td>Diabolo</td>\n      <td>{'threshold': 0.95}</td>\n      <td>10</td>\n      <td>4.5</td>\n      <td>0.732619</td>\n      <td>0.589137</td>\n      <td>1.000000</td>\n      <td>0.716031</td>\n      <td>0.985108</td>\n      <td>0.0</td>\n      <td>0.000113</td>\n      <td>0.054688</td>\n    </tr>\n    <tr>\n      <th>95</th>\n      <td>LocalOutlierFactor</td>\n      <td>{'algorithm': 'auto', 'contamination': 'auto',...</td>\n      <td>30</td>\n      <td>4.5</td>\n      <td>0.940556</td>\n      <td>0.875654</td>\n      <td>0.786667</td>\n      <td>0.810100</td>\n      <td>0.985017</td>\n      <td>0.0</td>\n      <td>0.000213</td>\n      <td>0.054688</td>\n    </tr>\n  </tbody>\n</table>\n</div>"
     },
     "metadata": {},
     "execution_count": 14
    }
   ],
   "source": [
    "df_sorted.head(n=10)"
   ]
  },
  {
   "cell_type": "code",
   "execution_count": null,
   "metadata": {},
   "outputs": [],
   "source": []
  }
 ]
}