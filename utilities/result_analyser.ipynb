{
 "metadata": {
  "language_info": {
   "codemirror_mode": {
    "name": "ipython",
    "version": 3
   },
   "file_extension": ".py",
   "mimetype": "text/x-python",
   "name": "python",
   "nbconvert_exporter": "python",
   "pygments_lexer": "ipython3",
   "version": "3.7.3-final"
  },
  "orig_nbformat": 2,
  "kernelspec": {
   "name": "python3",
   "display_name": "Python 3",
   "language": "python"
  }
 },
 "nbformat": 4,
 "nbformat_minor": 2,
 "cells": [
  {
   "source": [
    "# Imports"
   ],
   "cell_type": "markdown",
   "metadata": {}
  },
  {
   "cell_type": "code",
   "execution_count": 4,
   "metadata": {},
   "outputs": [],
   "source": [
    "import pandas as pd"
   ]
  },
  {
   "cell_type": "code",
   "execution_count": 14,
   "metadata": {},
   "outputs": [],
   "source": [
    "df = pd.read_csv('/home/rafael/Área de Trabalho/Projetos/TextCategorizationToolPython/saida/resultados_teste.csv')"
   ]
  },
  {
   "cell_type": "code",
   "execution_count": 15,
   "metadata": {},
   "outputs": [
    {
     "output_type": "execute_result",
     "data": {
      "text/plain": [
       "           Algorithm          Parameters                    Class  \\\n",
       "0   DenseAutoencoder  {'threshold': 0.9}  ArtificiallIntelligence   \n",
       "1   DenseAutoencoder  {'threshold': 0.9}  ArtificiallIntelligence   \n",
       "2   DenseAutoencoder  {'threshold': 0.9}  ArtificiallIntelligence   \n",
       "3   DenseAutoencoder  {'threshold': 0.9}  ArtificiallIntelligence   \n",
       "4   DenseAutoencoder  {'threshold': 0.1}  ArtificiallIntelligence   \n",
       "5   DenseAutoencoder  {'threshold': 0.1}  ArtificiallIntelligence   \n",
       "6   DenseAutoencoder  {'threshold': 0.1}  ArtificiallIntelligence   \n",
       "7   DenseAutoencoder  {'threshold': 0.1}  ArtificiallIntelligence   \n",
       "8   DenseAutoencoder  {'threshold': 0.1}  ArtificiallIntelligence   \n",
       "9   DenseAutoencoder  {'threshold': 0.1}  ArtificiallIntelligence   \n",
       "10  DenseAutoencoder  {'threshold': 0.1}  ArtificiallIntelligence   \n",
       "11  DenseAutoencoder  {'threshold': 0.1}  ArtificiallIntelligence   \n",
       "12  DenseAutoencoder  {'threshold': 0.1}  ArtificiallIntelligence   \n",
       "13  DenseAutoencoder  {'threshold': 0.1}  ArtificiallIntelligence   \n",
       "14  DenseAutoencoder  {'threshold': 0.1}                 Robotics   \n",
       "15  DenseAutoencoder  {'threshold': 0.1}                 Robotics   \n",
       "16  DenseAutoencoder  {'threshold': 0.1}                 Robotics   \n",
       "17  DenseAutoencoder  {'threshold': 0.1}                 Robotics   \n",
       "18  DenseAutoencoder  {'threshold': 0.1}                 Robotics   \n",
       "19  DenseAutoencoder  {'threshold': 0.1}                 Robotics   \n",
       "20  DenseAutoencoder  {'threshold': 0.1}                 Robotics   \n",
       "21  DenseAutoencoder  {'threshold': 0.1}                 Robotics   \n",
       "22  DenseAutoencoder  {'threshold': 0.1}                 Robotics   \n",
       "23  DenseAutoencoder  {'threshold': 0.1}                 Robotics   \n",
       "24  DenseAutoencoder  {'threshold': 0.1}                  Systems   \n",
       "25  DenseAutoencoder  {'threshold': 0.1}                  Systems   \n",
       "26  DenseAutoencoder  {'threshold': 0.1}                  Systems   \n",
       "27  DenseAutoencoder  {'threshold': 0.1}                  Systems   \n",
       "28  DenseAutoencoder  {'threshold': 0.1}                  Systems   \n",
       "29  DenseAutoencoder  {'threshold': 0.1}                  Systems   \n",
       "30  DenseAutoencoder  {'threshold': 0.1}                  Systems   \n",
       "31  DenseAutoencoder  {'threshold': 0.1}                  Systems   \n",
       "32  DenseAutoencoder  {'threshold': 0.1}                  Systems   \n",
       "33  DenseAutoencoder  {'threshold': 0.1}                  Systems   \n",
       "34  DenseAutoencoder  {'threshold': 0.1}                   Theory   \n",
       "35  DenseAutoencoder  {'threshold': 0.1}                   Theory   \n",
       "36  DenseAutoencoder  {'threshold': 0.1}                   Theory   \n",
       "37  DenseAutoencoder  {'threshold': 0.1}                   Theory   \n",
       "38  DenseAutoencoder  {'threshold': 0.1}                   Theory   \n",
       "39  DenseAutoencoder  {'threshold': 0.1}                   Theory   \n",
       "40  DenseAutoencoder  {'threshold': 0.1}                   Theory   \n",
       "41  DenseAutoencoder  {'threshold': 0.1}                   Theory   \n",
       "42  DenseAutoencoder  {'threshold': 0.1}                   Theory   \n",
       "43  DenseAutoencoder  {'threshold': 0.1}                   Theory   \n",
       "\n",
       "    Number_Labeled_Examples  Iteration  Accuracy  Precision    Recall  \\\n",
       "0                        20          0  0.612903   0.000000  0.000000   \n",
       "1                        20          1  0.612903   0.000000  0.000000   \n",
       "2                        20          2  0.612903   0.000000  0.000000   \n",
       "3                        20          3  0.612903   0.000000  0.000000   \n",
       "4                        20          0  0.383513   0.376923  0.907407   \n",
       "5                        20          1  0.430108   0.395918  0.898148   \n",
       "6                        20          2  0.354839   0.360465  0.861111   \n",
       "7                        20          3  0.401434   0.380567  0.870370   \n",
       "8                        20          4  0.408602   0.382716  0.861111   \n",
       "9                        20          5  0.422939   0.396078  0.935185   \n",
       "10                       20          6  0.426523   0.400000  0.962963   \n",
       "11                       20          7  0.401434   0.382470  0.888889   \n",
       "12                       20          8  0.430108   0.395918  0.898148   \n",
       "13                       20          9  0.383513   0.366667  0.814815   \n",
       "14                       20          0  0.358423   0.304348  0.962500   \n",
       "15                       20          1  0.336918   0.298851  0.975000   \n",
       "16                       20          2  0.379928   0.314741  0.987500   \n",
       "17                       20          3  0.344086   0.296443  0.937500   \n",
       "18                       20          4  0.362007   0.307087  0.975000   \n",
       "19                       20          5  0.336918   0.298851  0.975000   \n",
       "20                       20          6  0.336918   0.298851  0.975000   \n",
       "21                       20          7  0.329749   0.299625  1.000000   \n",
       "22                       20          8  0.297491   0.285185  0.962500   \n",
       "23                       20          9  0.372760   0.312253  0.987500   \n",
       "24                       20          0  0.283154   0.024390  1.000000   \n",
       "25                       20          1  0.197133   0.021834  1.000000   \n",
       "26                       20          2  0.250896   0.023364  1.000000   \n",
       "27                       20          3  0.225806   0.022624  1.000000   \n",
       "28                       20          4  0.172043   0.021186  1.000000   \n",
       "29                       20          5  0.172043   0.021186  1.000000   \n",
       "30                       20          6  0.189964   0.021645  1.000000   \n",
       "31                       20          7  0.232975   0.022831  1.000000   \n",
       "32                       20          8  0.211470   0.022222  1.000000   \n",
       "33                       20          9  0.254480   0.023474  1.000000   \n",
       "34                       20          0  0.326165   0.117925  0.961538   \n",
       "35                       20          1  0.369176   0.117347  0.884615   \n",
       "36                       20          2  0.340502   0.123810  1.000000   \n",
       "37                       20          3  0.394265   0.129534  0.961538   \n",
       "38                       20          4  0.265233   0.109170  0.961538   \n",
       "39                       20          5  0.430108   0.140541  1.000000   \n",
       "40                       20          6  0.301075   0.110599  0.923077   \n",
       "41                       20          7  0.394265   0.129534  0.961538   \n",
       "42                       20          8  0.372760   0.121827  0.923077   \n",
       "43                       20          9  0.340502   0.120192  0.961538   \n",
       "\n",
       "          F1   ROC_AUC  Building_Time       Confusion_Matrix  \\\n",
       "0   0.000000  0.576050              0   [[171, 0], [108, 0]]   \n",
       "1   0.000000  0.518383              0   [[171, 0], [108, 0]]   \n",
       "2   0.000000  0.520278              0   [[171, 0], [108, 0]]   \n",
       "3   0.000000  0.529294              0   [[171, 0], [108, 0]]   \n",
       "4   0.532609  0.472574              0   [[9, 162], [10, 98]]   \n",
       "5   0.549575  0.557640              0  [[23, 148], [11, 97]]   \n",
       "6   0.508197  0.449940              0   [[6, 165], [15, 93]]   \n",
       "7   0.529577  0.482131              0  [[18, 153], [14, 94]]   \n",
       "8   0.529915  0.579733              0  [[21, 150], [15, 93]]   \n",
       "9   0.556474  0.576998              0  [[17, 154], [7, 101]]   \n",
       "10  0.565217  0.581194              0  [[15, 156], [4, 104]]   \n",
       "11  0.534819  0.525531              0  [[16, 155], [12, 96]]   \n",
       "12  0.549575  0.591104              0  [[23, 148], [11, 97]]   \n",
       "13  0.505747  0.444472              0  [[19, 152], [20, 88]]   \n",
       "14  0.462462  0.655685              0   [[23, 176], [3, 77]]   \n",
       "15  0.457478  0.757004              0   [[16, 183], [2, 78]]   \n",
       "16  0.477341  0.688505              0   [[27, 172], [1, 79]]   \n",
       "17  0.450450  0.692337              0   [[21, 178], [5, 75]]   \n",
       "18  0.467066  0.712720              0   [[23, 176], [2, 78]]   \n",
       "19  0.457478  0.628204              0   [[16, 183], [2, 78]]   \n",
       "20  0.457478  0.568310              0   [[16, 183], [2, 78]]   \n",
       "21  0.461095  0.714290              0   [[12, 187], [0, 80]]   \n",
       "22  0.440000  0.635207              0    [[6, 193], [3, 77]]   \n",
       "23  0.474474  0.735082              0   [[25, 174], [1, 79]]   \n",
       "24  0.047619  0.823358              0    [[74, 200], [0, 5]]   \n",
       "25  0.042735  0.813139              0    [[50, 224], [0, 5]]   \n",
       "26  0.045662  0.870803              0    [[65, 209], [0, 5]]   \n",
       "27  0.044248  0.758394              0    [[58, 216], [0, 5]]   \n",
       "28  0.041494  0.951825              0    [[43, 231], [0, 5]]   \n",
       "29  0.041494  0.972263              0    [[43, 231], [0, 5]]   \n",
       "30  0.042373  0.916058              0    [[48, 226], [0, 5]]   \n",
       "31  0.044643  0.872263              0    [[60, 214], [0, 5]]   \n",
       "32  0.043478  0.847445              0    [[54, 220], [0, 5]]   \n",
       "33  0.045872  0.836496              0    [[66, 208], [0, 5]]   \n",
       "34  0.210084  0.875342              0   [[66, 187], [1, 25]]   \n",
       "35  0.207207  0.754029              0   [[80, 173], [3, 23]]   \n",
       "36  0.220339  0.857708              0   [[69, 184], [0, 26]]   \n",
       "37  0.228311  0.853451              0   [[85, 168], [1, 25]]   \n",
       "38  0.196078  0.824263              0   [[49, 204], [1, 25]]   \n",
       "39  0.246445  0.861812              0   [[94, 159], [0, 26]]   \n",
       "40  0.197531  0.785649              0   [[60, 193], [2, 24]]   \n",
       "41  0.228311  0.899818              0   [[85, 168], [1, 25]]   \n",
       "42  0.215247  0.831104              0   [[80, 173], [2, 24]]   \n",
       "43  0.213675  0.798115              0   [[70, 183], [1, 25]]   \n",
       "\n",
       "    Classification_Time    Memory  \n",
       "0              0.000149  0.054688  \n",
       "1              0.000170  0.054688  \n",
       "2              0.000180  0.054688  \n",
       "3              0.000176  0.054688  \n",
       "4              0.000156  0.054688  \n",
       "5              0.000174  0.054688  \n",
       "6              0.000167  0.054688  \n",
       "7              0.000323  0.054688  \n",
       "8              0.031809  0.054688  \n",
       "9              0.048801  0.054688  \n",
       "10             0.000483  0.054688  \n",
       "11             0.000341  0.054688  \n",
       "12             0.000345  0.054688  \n",
       "13             0.000327  0.054688  \n",
       "14             0.000326  0.054688  \n",
       "15             0.000425  0.054688  \n",
       "16             0.000462  0.054688  \n",
       "17             0.000397  0.054688  \n",
       "18             0.000360  0.054688  \n",
       "19             0.000380  0.054688  \n",
       "20             0.000324  0.054688  \n",
       "21             0.000351  0.054688  \n",
       "22             0.000411  0.054688  \n",
       "23             0.000342  0.054688  \n",
       "24             0.000312  0.054688  \n",
       "25             0.000308  0.054688  \n",
       "26             0.000401  0.054688  \n",
       "27             0.000347  0.054688  \n",
       "28             0.000509  0.054688  \n",
       "29             0.000338  0.054688  \n",
       "30             0.000352  0.054688  \n",
       "31             0.000338  0.054688  \n",
       "32             0.000443  0.054688  \n",
       "33             0.000336  0.054688  \n",
       "34             0.000332  0.054688  \n",
       "35             0.000378  0.054688  \n",
       "36             0.000359  0.054688  \n",
       "37             0.000377  0.054688  \n",
       "38             0.000351  0.054688  \n",
       "39             0.000363  0.054688  \n",
       "40             0.000347  0.054688  \n",
       "41             0.000471  0.054688  \n",
       "42             0.000341  0.054688  \n",
       "43             0.000365  0.054688  "
      ],
      "text/html": "<div>\n<style scoped>\n    .dataframe tbody tr th:only-of-type {\n        vertical-align: middle;\n    }\n\n    .dataframe tbody tr th {\n        vertical-align: top;\n    }\n\n    .dataframe thead th {\n        text-align: right;\n    }\n</style>\n<table border=\"1\" class=\"dataframe\">\n  <thead>\n    <tr style=\"text-align: right;\">\n      <th></th>\n      <th>Algorithm</th>\n      <th>Parameters</th>\n      <th>Class</th>\n      <th>Number_Labeled_Examples</th>\n      <th>Iteration</th>\n      <th>Accuracy</th>\n      <th>Precision</th>\n      <th>Recall</th>\n      <th>F1</th>\n      <th>ROC_AUC</th>\n      <th>Building_Time</th>\n      <th>Confusion_Matrix</th>\n      <th>Classification_Time</th>\n      <th>Memory</th>\n    </tr>\n  </thead>\n  <tbody>\n    <tr>\n      <th>0</th>\n      <td>DenseAutoencoder</td>\n      <td>{'threshold': 0.9}</td>\n      <td>ArtificiallIntelligence</td>\n      <td>20</td>\n      <td>0</td>\n      <td>0.612903</td>\n      <td>0.000000</td>\n      <td>0.000000</td>\n      <td>0.000000</td>\n      <td>0.576050</td>\n      <td>0</td>\n      <td>[[171, 0], [108, 0]]</td>\n      <td>0.000149</td>\n      <td>0.054688</td>\n    </tr>\n    <tr>\n      <th>1</th>\n      <td>DenseAutoencoder</td>\n      <td>{'threshold': 0.9}</td>\n      <td>ArtificiallIntelligence</td>\n      <td>20</td>\n      <td>1</td>\n      <td>0.612903</td>\n      <td>0.000000</td>\n      <td>0.000000</td>\n      <td>0.000000</td>\n      <td>0.518383</td>\n      <td>0</td>\n      <td>[[171, 0], [108, 0]]</td>\n      <td>0.000170</td>\n      <td>0.054688</td>\n    </tr>\n    <tr>\n      <th>2</th>\n      <td>DenseAutoencoder</td>\n      <td>{'threshold': 0.9}</td>\n      <td>ArtificiallIntelligence</td>\n      <td>20</td>\n      <td>2</td>\n      <td>0.612903</td>\n      <td>0.000000</td>\n      <td>0.000000</td>\n      <td>0.000000</td>\n      <td>0.520278</td>\n      <td>0</td>\n      <td>[[171, 0], [108, 0]]</td>\n      <td>0.000180</td>\n      <td>0.054688</td>\n    </tr>\n    <tr>\n      <th>3</th>\n      <td>DenseAutoencoder</td>\n      <td>{'threshold': 0.9}</td>\n      <td>ArtificiallIntelligence</td>\n      <td>20</td>\n      <td>3</td>\n      <td>0.612903</td>\n      <td>0.000000</td>\n      <td>0.000000</td>\n      <td>0.000000</td>\n      <td>0.529294</td>\n      <td>0</td>\n      <td>[[171, 0], [108, 0]]</td>\n      <td>0.000176</td>\n      <td>0.054688</td>\n    </tr>\n    <tr>\n      <th>4</th>\n      <td>DenseAutoencoder</td>\n      <td>{'threshold': 0.1}</td>\n      <td>ArtificiallIntelligence</td>\n      <td>20</td>\n      <td>0</td>\n      <td>0.383513</td>\n      <td>0.376923</td>\n      <td>0.907407</td>\n      <td>0.532609</td>\n      <td>0.472574</td>\n      <td>0</td>\n      <td>[[9, 162], [10, 98]]</td>\n      <td>0.000156</td>\n      <td>0.054688</td>\n    </tr>\n    <tr>\n      <th>5</th>\n      <td>DenseAutoencoder</td>\n      <td>{'threshold': 0.1}</td>\n      <td>ArtificiallIntelligence</td>\n      <td>20</td>\n      <td>1</td>\n      <td>0.430108</td>\n      <td>0.395918</td>\n      <td>0.898148</td>\n      <td>0.549575</td>\n      <td>0.557640</td>\n      <td>0</td>\n      <td>[[23, 148], [11, 97]]</td>\n      <td>0.000174</td>\n      <td>0.054688</td>\n    </tr>\n    <tr>\n      <th>6</th>\n      <td>DenseAutoencoder</td>\n      <td>{'threshold': 0.1}</td>\n      <td>ArtificiallIntelligence</td>\n      <td>20</td>\n      <td>2</td>\n      <td>0.354839</td>\n      <td>0.360465</td>\n      <td>0.861111</td>\n      <td>0.508197</td>\n      <td>0.449940</td>\n      <td>0</td>\n      <td>[[6, 165], [15, 93]]</td>\n      <td>0.000167</td>\n      <td>0.054688</td>\n    </tr>\n    <tr>\n      <th>7</th>\n      <td>DenseAutoencoder</td>\n      <td>{'threshold': 0.1}</td>\n      <td>ArtificiallIntelligence</td>\n      <td>20</td>\n      <td>3</td>\n      <td>0.401434</td>\n      <td>0.380567</td>\n      <td>0.870370</td>\n      <td>0.529577</td>\n      <td>0.482131</td>\n      <td>0</td>\n      <td>[[18, 153], [14, 94]]</td>\n      <td>0.000323</td>\n      <td>0.054688</td>\n    </tr>\n    <tr>\n      <th>8</th>\n      <td>DenseAutoencoder</td>\n      <td>{'threshold': 0.1}</td>\n      <td>ArtificiallIntelligence</td>\n      <td>20</td>\n      <td>4</td>\n      <td>0.408602</td>\n      <td>0.382716</td>\n      <td>0.861111</td>\n      <td>0.529915</td>\n      <td>0.579733</td>\n      <td>0</td>\n      <td>[[21, 150], [15, 93]]</td>\n      <td>0.031809</td>\n      <td>0.054688</td>\n    </tr>\n    <tr>\n      <th>9</th>\n      <td>DenseAutoencoder</td>\n      <td>{'threshold': 0.1}</td>\n      <td>ArtificiallIntelligence</td>\n      <td>20</td>\n      <td>5</td>\n      <td>0.422939</td>\n      <td>0.396078</td>\n      <td>0.935185</td>\n      <td>0.556474</td>\n      <td>0.576998</td>\n      <td>0</td>\n      <td>[[17, 154], [7, 101]]</td>\n      <td>0.048801</td>\n      <td>0.054688</td>\n    </tr>\n    <tr>\n      <th>10</th>\n      <td>DenseAutoencoder</td>\n      <td>{'threshold': 0.1}</td>\n      <td>ArtificiallIntelligence</td>\n      <td>20</td>\n      <td>6</td>\n      <td>0.426523</td>\n      <td>0.400000</td>\n      <td>0.962963</td>\n      <td>0.565217</td>\n      <td>0.581194</td>\n      <td>0</td>\n      <td>[[15, 156], [4, 104]]</td>\n      <td>0.000483</td>\n      <td>0.054688</td>\n    </tr>\n    <tr>\n      <th>11</th>\n      <td>DenseAutoencoder</td>\n      <td>{'threshold': 0.1}</td>\n      <td>ArtificiallIntelligence</td>\n      <td>20</td>\n      <td>7</td>\n      <td>0.401434</td>\n      <td>0.382470</td>\n      <td>0.888889</td>\n      <td>0.534819</td>\n      <td>0.525531</td>\n      <td>0</td>\n      <td>[[16, 155], [12, 96]]</td>\n      <td>0.000341</td>\n      <td>0.054688</td>\n    </tr>\n    <tr>\n      <th>12</th>\n      <td>DenseAutoencoder</td>\n      <td>{'threshold': 0.1}</td>\n      <td>ArtificiallIntelligence</td>\n      <td>20</td>\n      <td>8</td>\n      <td>0.430108</td>\n      <td>0.395918</td>\n      <td>0.898148</td>\n      <td>0.549575</td>\n      <td>0.591104</td>\n      <td>0</td>\n      <td>[[23, 148], [11, 97]]</td>\n      <td>0.000345</td>\n      <td>0.054688</td>\n    </tr>\n    <tr>\n      <th>13</th>\n      <td>DenseAutoencoder</td>\n      <td>{'threshold': 0.1}</td>\n      <td>ArtificiallIntelligence</td>\n      <td>20</td>\n      <td>9</td>\n      <td>0.383513</td>\n      <td>0.366667</td>\n      <td>0.814815</td>\n      <td>0.505747</td>\n      <td>0.444472</td>\n      <td>0</td>\n      <td>[[19, 152], [20, 88]]</td>\n      <td>0.000327</td>\n      <td>0.054688</td>\n    </tr>\n    <tr>\n      <th>14</th>\n      <td>DenseAutoencoder</td>\n      <td>{'threshold': 0.1}</td>\n      <td>Robotics</td>\n      <td>20</td>\n      <td>0</td>\n      <td>0.358423</td>\n      <td>0.304348</td>\n      <td>0.962500</td>\n      <td>0.462462</td>\n      <td>0.655685</td>\n      <td>0</td>\n      <td>[[23, 176], [3, 77]]</td>\n      <td>0.000326</td>\n      <td>0.054688</td>\n    </tr>\n    <tr>\n      <th>15</th>\n      <td>DenseAutoencoder</td>\n      <td>{'threshold': 0.1}</td>\n      <td>Robotics</td>\n      <td>20</td>\n      <td>1</td>\n      <td>0.336918</td>\n      <td>0.298851</td>\n      <td>0.975000</td>\n      <td>0.457478</td>\n      <td>0.757004</td>\n      <td>0</td>\n      <td>[[16, 183], [2, 78]]</td>\n      <td>0.000425</td>\n      <td>0.054688</td>\n    </tr>\n    <tr>\n      <th>16</th>\n      <td>DenseAutoencoder</td>\n      <td>{'threshold': 0.1}</td>\n      <td>Robotics</td>\n      <td>20</td>\n      <td>2</td>\n      <td>0.379928</td>\n      <td>0.314741</td>\n      <td>0.987500</td>\n      <td>0.477341</td>\n      <td>0.688505</td>\n      <td>0</td>\n      <td>[[27, 172], [1, 79]]</td>\n      <td>0.000462</td>\n      <td>0.054688</td>\n    </tr>\n    <tr>\n      <th>17</th>\n      <td>DenseAutoencoder</td>\n      <td>{'threshold': 0.1}</td>\n      <td>Robotics</td>\n      <td>20</td>\n      <td>3</td>\n      <td>0.344086</td>\n      <td>0.296443</td>\n      <td>0.937500</td>\n      <td>0.450450</td>\n      <td>0.692337</td>\n      <td>0</td>\n      <td>[[21, 178], [5, 75]]</td>\n      <td>0.000397</td>\n      <td>0.054688</td>\n    </tr>\n    <tr>\n      <th>18</th>\n      <td>DenseAutoencoder</td>\n      <td>{'threshold': 0.1}</td>\n      <td>Robotics</td>\n      <td>20</td>\n      <td>4</td>\n      <td>0.362007</td>\n      <td>0.307087</td>\n      <td>0.975000</td>\n      <td>0.467066</td>\n      <td>0.712720</td>\n      <td>0</td>\n      <td>[[23, 176], [2, 78]]</td>\n      <td>0.000360</td>\n      <td>0.054688</td>\n    </tr>\n    <tr>\n      <th>19</th>\n      <td>DenseAutoencoder</td>\n      <td>{'threshold': 0.1}</td>\n      <td>Robotics</td>\n      <td>20</td>\n      <td>5</td>\n      <td>0.336918</td>\n      <td>0.298851</td>\n      <td>0.975000</td>\n      <td>0.457478</td>\n      <td>0.628204</td>\n      <td>0</td>\n      <td>[[16, 183], [2, 78]]</td>\n      <td>0.000380</td>\n      <td>0.054688</td>\n    </tr>\n    <tr>\n      <th>20</th>\n      <td>DenseAutoencoder</td>\n      <td>{'threshold': 0.1}</td>\n      <td>Robotics</td>\n      <td>20</td>\n      <td>6</td>\n      <td>0.336918</td>\n      <td>0.298851</td>\n      <td>0.975000</td>\n      <td>0.457478</td>\n      <td>0.568310</td>\n      <td>0</td>\n      <td>[[16, 183], [2, 78]]</td>\n      <td>0.000324</td>\n      <td>0.054688</td>\n    </tr>\n    <tr>\n      <th>21</th>\n      <td>DenseAutoencoder</td>\n      <td>{'threshold': 0.1}</td>\n      <td>Robotics</td>\n      <td>20</td>\n      <td>7</td>\n      <td>0.329749</td>\n      <td>0.299625</td>\n      <td>1.000000</td>\n      <td>0.461095</td>\n      <td>0.714290</td>\n      <td>0</td>\n      <td>[[12, 187], [0, 80]]</td>\n      <td>0.000351</td>\n      <td>0.054688</td>\n    </tr>\n    <tr>\n      <th>22</th>\n      <td>DenseAutoencoder</td>\n      <td>{'threshold': 0.1}</td>\n      <td>Robotics</td>\n      <td>20</td>\n      <td>8</td>\n      <td>0.297491</td>\n      <td>0.285185</td>\n      <td>0.962500</td>\n      <td>0.440000</td>\n      <td>0.635207</td>\n      <td>0</td>\n      <td>[[6, 193], [3, 77]]</td>\n      <td>0.000411</td>\n      <td>0.054688</td>\n    </tr>\n    <tr>\n      <th>23</th>\n      <td>DenseAutoencoder</td>\n      <td>{'threshold': 0.1}</td>\n      <td>Robotics</td>\n      <td>20</td>\n      <td>9</td>\n      <td>0.372760</td>\n      <td>0.312253</td>\n      <td>0.987500</td>\n      <td>0.474474</td>\n      <td>0.735082</td>\n      <td>0</td>\n      <td>[[25, 174], [1, 79]]</td>\n      <td>0.000342</td>\n      <td>0.054688</td>\n    </tr>\n    <tr>\n      <th>24</th>\n      <td>DenseAutoencoder</td>\n      <td>{'threshold': 0.1}</td>\n      <td>Systems</td>\n      <td>20</td>\n      <td>0</td>\n      <td>0.283154</td>\n      <td>0.024390</td>\n      <td>1.000000</td>\n      <td>0.047619</td>\n      <td>0.823358</td>\n      <td>0</td>\n      <td>[[74, 200], [0, 5]]</td>\n      <td>0.000312</td>\n      <td>0.054688</td>\n    </tr>\n    <tr>\n      <th>25</th>\n      <td>DenseAutoencoder</td>\n      <td>{'threshold': 0.1}</td>\n      <td>Systems</td>\n      <td>20</td>\n      <td>1</td>\n      <td>0.197133</td>\n      <td>0.021834</td>\n      <td>1.000000</td>\n      <td>0.042735</td>\n      <td>0.813139</td>\n      <td>0</td>\n      <td>[[50, 224], [0, 5]]</td>\n      <td>0.000308</td>\n      <td>0.054688</td>\n    </tr>\n    <tr>\n      <th>26</th>\n      <td>DenseAutoencoder</td>\n      <td>{'threshold': 0.1}</td>\n      <td>Systems</td>\n      <td>20</td>\n      <td>2</td>\n      <td>0.250896</td>\n      <td>0.023364</td>\n      <td>1.000000</td>\n      <td>0.045662</td>\n      <td>0.870803</td>\n      <td>0</td>\n      <td>[[65, 209], [0, 5]]</td>\n      <td>0.000401</td>\n      <td>0.054688</td>\n    </tr>\n    <tr>\n      <th>27</th>\n      <td>DenseAutoencoder</td>\n      <td>{'threshold': 0.1}</td>\n      <td>Systems</td>\n      <td>20</td>\n      <td>3</td>\n      <td>0.225806</td>\n      <td>0.022624</td>\n      <td>1.000000</td>\n      <td>0.044248</td>\n      <td>0.758394</td>\n      <td>0</td>\n      <td>[[58, 216], [0, 5]]</td>\n      <td>0.000347</td>\n      <td>0.054688</td>\n    </tr>\n    <tr>\n      <th>28</th>\n      <td>DenseAutoencoder</td>\n      <td>{'threshold': 0.1}</td>\n      <td>Systems</td>\n      <td>20</td>\n      <td>4</td>\n      <td>0.172043</td>\n      <td>0.021186</td>\n      <td>1.000000</td>\n      <td>0.041494</td>\n      <td>0.951825</td>\n      <td>0</td>\n      <td>[[43, 231], [0, 5]]</td>\n      <td>0.000509</td>\n      <td>0.054688</td>\n    </tr>\n    <tr>\n      <th>29</th>\n      <td>DenseAutoencoder</td>\n      <td>{'threshold': 0.1}</td>\n      <td>Systems</td>\n      <td>20</td>\n      <td>5</td>\n      <td>0.172043</td>\n      <td>0.021186</td>\n      <td>1.000000</td>\n      <td>0.041494</td>\n      <td>0.972263</td>\n      <td>0</td>\n      <td>[[43, 231], [0, 5]]</td>\n      <td>0.000338</td>\n      <td>0.054688</td>\n    </tr>\n    <tr>\n      <th>30</th>\n      <td>DenseAutoencoder</td>\n      <td>{'threshold': 0.1}</td>\n      <td>Systems</td>\n      <td>20</td>\n      <td>6</td>\n      <td>0.189964</td>\n      <td>0.021645</td>\n      <td>1.000000</td>\n      <td>0.042373</td>\n      <td>0.916058</td>\n      <td>0</td>\n      <td>[[48, 226], [0, 5]]</td>\n      <td>0.000352</td>\n      <td>0.054688</td>\n    </tr>\n    <tr>\n      <th>31</th>\n      <td>DenseAutoencoder</td>\n      <td>{'threshold': 0.1}</td>\n      <td>Systems</td>\n      <td>20</td>\n      <td>7</td>\n      <td>0.232975</td>\n      <td>0.022831</td>\n      <td>1.000000</td>\n      <td>0.044643</td>\n      <td>0.872263</td>\n      <td>0</td>\n      <td>[[60, 214], [0, 5]]</td>\n      <td>0.000338</td>\n      <td>0.054688</td>\n    </tr>\n    <tr>\n      <th>32</th>\n      <td>DenseAutoencoder</td>\n      <td>{'threshold': 0.1}</td>\n      <td>Systems</td>\n      <td>20</td>\n      <td>8</td>\n      <td>0.211470</td>\n      <td>0.022222</td>\n      <td>1.000000</td>\n      <td>0.043478</td>\n      <td>0.847445</td>\n      <td>0</td>\n      <td>[[54, 220], [0, 5]]</td>\n      <td>0.000443</td>\n      <td>0.054688</td>\n    </tr>\n    <tr>\n      <th>33</th>\n      <td>DenseAutoencoder</td>\n      <td>{'threshold': 0.1}</td>\n      <td>Systems</td>\n      <td>20</td>\n      <td>9</td>\n      <td>0.254480</td>\n      <td>0.023474</td>\n      <td>1.000000</td>\n      <td>0.045872</td>\n      <td>0.836496</td>\n      <td>0</td>\n      <td>[[66, 208], [0, 5]]</td>\n      <td>0.000336</td>\n      <td>0.054688</td>\n    </tr>\n    <tr>\n      <th>34</th>\n      <td>DenseAutoencoder</td>\n      <td>{'threshold': 0.1}</td>\n      <td>Theory</td>\n      <td>20</td>\n      <td>0</td>\n      <td>0.326165</td>\n      <td>0.117925</td>\n      <td>0.961538</td>\n      <td>0.210084</td>\n      <td>0.875342</td>\n      <td>0</td>\n      <td>[[66, 187], [1, 25]]</td>\n      <td>0.000332</td>\n      <td>0.054688</td>\n    </tr>\n    <tr>\n      <th>35</th>\n      <td>DenseAutoencoder</td>\n      <td>{'threshold': 0.1}</td>\n      <td>Theory</td>\n      <td>20</td>\n      <td>1</td>\n      <td>0.369176</td>\n      <td>0.117347</td>\n      <td>0.884615</td>\n      <td>0.207207</td>\n      <td>0.754029</td>\n      <td>0</td>\n      <td>[[80, 173], [3, 23]]</td>\n      <td>0.000378</td>\n      <td>0.054688</td>\n    </tr>\n    <tr>\n      <th>36</th>\n      <td>DenseAutoencoder</td>\n      <td>{'threshold': 0.1}</td>\n      <td>Theory</td>\n      <td>20</td>\n      <td>2</td>\n      <td>0.340502</td>\n      <td>0.123810</td>\n      <td>1.000000</td>\n      <td>0.220339</td>\n      <td>0.857708</td>\n      <td>0</td>\n      <td>[[69, 184], [0, 26]]</td>\n      <td>0.000359</td>\n      <td>0.054688</td>\n    </tr>\n    <tr>\n      <th>37</th>\n      <td>DenseAutoencoder</td>\n      <td>{'threshold': 0.1}</td>\n      <td>Theory</td>\n      <td>20</td>\n      <td>3</td>\n      <td>0.394265</td>\n      <td>0.129534</td>\n      <td>0.961538</td>\n      <td>0.228311</td>\n      <td>0.853451</td>\n      <td>0</td>\n      <td>[[85, 168], [1, 25]]</td>\n      <td>0.000377</td>\n      <td>0.054688</td>\n    </tr>\n    <tr>\n      <th>38</th>\n      <td>DenseAutoencoder</td>\n      <td>{'threshold': 0.1}</td>\n      <td>Theory</td>\n      <td>20</td>\n      <td>4</td>\n      <td>0.265233</td>\n      <td>0.109170</td>\n      <td>0.961538</td>\n      <td>0.196078</td>\n      <td>0.824263</td>\n      <td>0</td>\n      <td>[[49, 204], [1, 25]]</td>\n      <td>0.000351</td>\n      <td>0.054688</td>\n    </tr>\n    <tr>\n      <th>39</th>\n      <td>DenseAutoencoder</td>\n      <td>{'threshold': 0.1}</td>\n      <td>Theory</td>\n      <td>20</td>\n      <td>5</td>\n      <td>0.430108</td>\n      <td>0.140541</td>\n      <td>1.000000</td>\n      <td>0.246445</td>\n      <td>0.861812</td>\n      <td>0</td>\n      <td>[[94, 159], [0, 26]]</td>\n      <td>0.000363</td>\n      <td>0.054688</td>\n    </tr>\n    <tr>\n      <th>40</th>\n      <td>DenseAutoencoder</td>\n      <td>{'threshold': 0.1}</td>\n      <td>Theory</td>\n      <td>20</td>\n      <td>6</td>\n      <td>0.301075</td>\n      <td>0.110599</td>\n      <td>0.923077</td>\n      <td>0.197531</td>\n      <td>0.785649</td>\n      <td>0</td>\n      <td>[[60, 193], [2, 24]]</td>\n      <td>0.000347</td>\n      <td>0.054688</td>\n    </tr>\n    <tr>\n      <th>41</th>\n      <td>DenseAutoencoder</td>\n      <td>{'threshold': 0.1}</td>\n      <td>Theory</td>\n      <td>20</td>\n      <td>7</td>\n      <td>0.394265</td>\n      <td>0.129534</td>\n      <td>0.961538</td>\n      <td>0.228311</td>\n      <td>0.899818</td>\n      <td>0</td>\n      <td>[[85, 168], [1, 25]]</td>\n      <td>0.000471</td>\n      <td>0.054688</td>\n    </tr>\n    <tr>\n      <th>42</th>\n      <td>DenseAutoencoder</td>\n      <td>{'threshold': 0.1}</td>\n      <td>Theory</td>\n      <td>20</td>\n      <td>8</td>\n      <td>0.372760</td>\n      <td>0.121827</td>\n      <td>0.923077</td>\n      <td>0.215247</td>\n      <td>0.831104</td>\n      <td>0</td>\n      <td>[[80, 173], [2, 24]]</td>\n      <td>0.000341</td>\n      <td>0.054688</td>\n    </tr>\n    <tr>\n      <th>43</th>\n      <td>DenseAutoencoder</td>\n      <td>{'threshold': 0.1}</td>\n      <td>Theory</td>\n      <td>20</td>\n      <td>9</td>\n      <td>0.340502</td>\n      <td>0.120192</td>\n      <td>0.961538</td>\n      <td>0.213675</td>\n      <td>0.798115</td>\n      <td>0</td>\n      <td>[[70, 183], [1, 25]]</td>\n      <td>0.000365</td>\n      <td>0.054688</td>\n    </tr>\n  </tbody>\n</table>\n</div>"
     },
     "metadata": {},
     "execution_count": 15
    }
   ],
   "source": [
    "df"
   ]
  },
  {
   "cell_type": "code",
   "execution_count": 16,
   "metadata": {},
   "outputs": [],
   "source": [
    "df_grouped = df.groupby(by=['Algorithm','Parameters','Number_Labeled_Examples'])"
   ]
  },
  {
   "cell_type": "code",
   "execution_count": 17,
   "metadata": {},
   "outputs": [],
   "source": [
    "df_grouped.mean().to_csv('teste.csv')"
   ]
  },
  {
   "cell_type": "code",
   "execution_count": 18,
   "metadata": {},
   "outputs": [],
   "source": [
    "df_restults = pd.read_csv('teste.csv')"
   ]
  },
  {
   "cell_type": "code",
   "execution_count": 19,
   "metadata": {},
   "outputs": [],
   "source": [
    "df_sorted = df_restults.sort_values(by=['F1'], ascending=False)"
   ]
  },
  {
   "cell_type": "code",
   "execution_count": 20,
   "metadata": {},
   "outputs": [
    {
     "output_type": "execute_result",
     "data": {
      "text/plain": [
       "          Algorithm          Parameters  Number_Labeled_Examples  Iteration  \\\n",
       "0  DenseAutoencoder  {'threshold': 0.1}                       20        4.5   \n",
       "1  DenseAutoencoder  {'threshold': 0.9}                       20        1.5   \n",
       "\n",
       "   Accuracy  Precision    Recall        F1   ROC_AUC  Building_Time  \\\n",
       "0  0.330556    0.20748  0.954353  0.314247  0.726300            0.0   \n",
       "1  0.612903    0.00000  0.000000  0.000000  0.536001            0.0   \n",
       "\n",
       "   Classification_Time    Memory  \n",
       "0             0.002352  0.054688  \n",
       "1             0.000169  0.054688  "
      ],
      "text/html": "<div>\n<style scoped>\n    .dataframe tbody tr th:only-of-type {\n        vertical-align: middle;\n    }\n\n    .dataframe tbody tr th {\n        vertical-align: top;\n    }\n\n    .dataframe thead th {\n        text-align: right;\n    }\n</style>\n<table border=\"1\" class=\"dataframe\">\n  <thead>\n    <tr style=\"text-align: right;\">\n      <th></th>\n      <th>Algorithm</th>\n      <th>Parameters</th>\n      <th>Number_Labeled_Examples</th>\n      <th>Iteration</th>\n      <th>Accuracy</th>\n      <th>Precision</th>\n      <th>Recall</th>\n      <th>F1</th>\n      <th>ROC_AUC</th>\n      <th>Building_Time</th>\n      <th>Classification_Time</th>\n      <th>Memory</th>\n    </tr>\n  </thead>\n  <tbody>\n    <tr>\n      <th>0</th>\n      <td>DenseAutoencoder</td>\n      <td>{'threshold': 0.1}</td>\n      <td>20</td>\n      <td>4.5</td>\n      <td>0.330556</td>\n      <td>0.20748</td>\n      <td>0.954353</td>\n      <td>0.314247</td>\n      <td>0.726300</td>\n      <td>0.0</td>\n      <td>0.002352</td>\n      <td>0.054688</td>\n    </tr>\n    <tr>\n      <th>1</th>\n      <td>DenseAutoencoder</td>\n      <td>{'threshold': 0.9}</td>\n      <td>20</td>\n      <td>1.5</td>\n      <td>0.612903</td>\n      <td>0.00000</td>\n      <td>0.000000</td>\n      <td>0.000000</td>\n      <td>0.536001</td>\n      <td>0.0</td>\n      <td>0.000169</td>\n      <td>0.054688</td>\n    </tr>\n  </tbody>\n</table>\n</div>"
     },
     "metadata": {},
     "execution_count": 20
    }
   ],
   "source": [
    "df_sorted.head(n=10)"
   ]
  },
  {
   "cell_type": "code",
   "execution_count": null,
   "metadata": {},
   "outputs": [],
   "source": []
  },
  {
   "cell_type": "code",
   "execution_count": null,
   "metadata": {},
   "outputs": [],
   "source": []
  }
 ]
}