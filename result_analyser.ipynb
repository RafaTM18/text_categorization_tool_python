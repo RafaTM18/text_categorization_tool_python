{
 "metadata": {
  "language_info": {
   "codemirror_mode": {
    "name": "ipython",
    "version": 3
   },
   "file_extension": ".py",
   "mimetype": "text/x-python",
   "name": "python",
   "nbconvert_exporter": "python",
   "pygments_lexer": "ipython3",
   "version": "3.7.3-final"
  },
  "orig_nbformat": 2,
  "kernelspec": {
   "name": "python3",
   "display_name": "Python 3",
   "language": "python"
  }
 },
 "nbformat": 4,
 "nbformat_minor": 2,
 "cells": [
  {
   "source": [
    "# Imports"
   ],
   "cell_type": "markdown",
   "metadata": {}
  },
  {
   "cell_type": "code",
   "execution_count": 1,
   "metadata": {},
   "outputs": [],
   "source": [
    "import pandas as pd"
   ]
  },
  {
   "cell_type": "code",
   "execution_count": 2,
   "metadata": {},
   "outputs": [],
   "source": [
    "df = pd.read_csv('/home/rafael/Área de Trabalho/Projetos/TextCategorizationToolPython/saida/resultados_teste.csv')"
   ]
  },
  {
   "cell_type": "code",
   "execution_count": 3,
   "metadata": {},
   "outputs": [
    {
     "output_type": "execute_result",
     "data": {
      "text/plain": [
       "               Algorithm                                         Parameters  \\\n",
       "0     LocalOutlierFactor  {'algorithm': 'auto', 'contamination': 'auto',...   \n",
       "1     LocalOutlierFactor  {'algorithm': 'auto', 'contamination': 'auto',...   \n",
       "2     LocalOutlierFactor  {'algorithm': 'auto', 'contamination': 'auto',...   \n",
       "3     LocalOutlierFactor  {'algorithm': 'auto', 'contamination': 'auto',...   \n",
       "4     LocalOutlierFactor  {'algorithm': 'auto', 'contamination': 'auto',...   \n",
       "...                  ...                                                ...   \n",
       "1435  LocalOutlierFactor  {'algorithm': 'auto', 'contamination': 'auto',...   \n",
       "1436  LocalOutlierFactor  {'algorithm': 'auto', 'contamination': 'auto',...   \n",
       "1437  LocalOutlierFactor  {'algorithm': 'auto', 'contamination': 'auto',...   \n",
       "1438  LocalOutlierFactor  {'algorithm': 'auto', 'contamination': 'auto',...   \n",
       "1439  LocalOutlierFactor  {'algorithm': 'auto', 'contamination': 'auto',...   \n",
       "\n",
       "          Class  Number_Labeled_Examples  Iteration  Accuracy  Precision  \\\n",
       "0        Setosa                        5          0  0.848276   1.000000   \n",
       "1        Setosa                        5          1  0.903448   1.000000   \n",
       "2        Setosa                        5          2  0.758621   1.000000   \n",
       "3        Setosa                        5          3  0.944828   1.000000   \n",
       "4        Setosa                        5          4  0.931034   1.000000   \n",
       "...         ...                      ...        ...       ...        ...   \n",
       "1435  Virginica                       30          5  0.700000   0.357143   \n",
       "1436  Virginica                       30          6  0.766667   0.413043   \n",
       "1437  Virginica                       30          7  0.691667   0.350877   \n",
       "1438  Virginica                       30          8  0.658333   0.327869   \n",
       "1439  Virginica                       30          9  0.666667   0.321429   \n",
       "\n",
       "        Recall        F1   ROC_AUC  Building_Time      Confusion_Matrix  \\\n",
       "0     0.511111  0.676471  1.000000              0  [[100, 0], [22, 23]]   \n",
       "1     0.688889  0.815789  0.998444              0  [[100, 0], [14, 31]]   \n",
       "2     0.222222  0.363636  1.000000              0  [[100, 0], [35, 10]]   \n",
       "3     0.822222  0.902439  1.000000              0   [[100, 0], [8, 37]]   \n",
       "4     0.777778  0.875000  1.000000              0  [[100, 0], [10, 35]]   \n",
       "...        ...       ...       ...            ...                   ...   \n",
       "1435  1.000000  0.526316  0.928500              0   [[64, 36], [0, 20]]   \n",
       "1436  0.950000  0.575758  0.925500              0   [[73, 27], [1, 19]]   \n",
       "1437  1.000000  0.519481  0.910000              0   [[63, 37], [0, 20]]   \n",
       "1438  1.000000  0.493827  0.903000              0   [[59, 41], [0, 20]]   \n",
       "1439  0.900000  0.473684  0.873000              0   [[62, 38], [2, 18]]   \n",
       "\n",
       "      Classification_Time  Memory  \n",
       "0                0.000204       0  \n",
       "1                0.000207       0  \n",
       "2                0.000207       0  \n",
       "3                0.000207       0  \n",
       "4                0.000205       0  \n",
       "...                   ...     ...  \n",
       "1435             0.000209       0  \n",
       "1436             0.000213       0  \n",
       "1437             0.000209       0  \n",
       "1438             0.000208       0  \n",
       "1439             0.000209       0  \n",
       "\n",
       "[1440 rows x 14 columns]"
      ],
      "text/html": "<div>\n<style scoped>\n    .dataframe tbody tr th:only-of-type {\n        vertical-align: middle;\n    }\n\n    .dataframe tbody tr th {\n        vertical-align: top;\n    }\n\n    .dataframe thead th {\n        text-align: right;\n    }\n</style>\n<table border=\"1\" class=\"dataframe\">\n  <thead>\n    <tr style=\"text-align: right;\">\n      <th></th>\n      <th>Algorithm</th>\n      <th>Parameters</th>\n      <th>Class</th>\n      <th>Number_Labeled_Examples</th>\n      <th>Iteration</th>\n      <th>Accuracy</th>\n      <th>Precision</th>\n      <th>Recall</th>\n      <th>F1</th>\n      <th>ROC_AUC</th>\n      <th>Building_Time</th>\n      <th>Confusion_Matrix</th>\n      <th>Classification_Time</th>\n      <th>Memory</th>\n    </tr>\n  </thead>\n  <tbody>\n    <tr>\n      <th>0</th>\n      <td>LocalOutlierFactor</td>\n      <td>{'algorithm': 'auto', 'contamination': 'auto',...</td>\n      <td>Setosa</td>\n      <td>5</td>\n      <td>0</td>\n      <td>0.848276</td>\n      <td>1.000000</td>\n      <td>0.511111</td>\n      <td>0.676471</td>\n      <td>1.000000</td>\n      <td>0</td>\n      <td>[[100, 0], [22, 23]]</td>\n      <td>0.000204</td>\n      <td>0</td>\n    </tr>\n    <tr>\n      <th>1</th>\n      <td>LocalOutlierFactor</td>\n      <td>{'algorithm': 'auto', 'contamination': 'auto',...</td>\n      <td>Setosa</td>\n      <td>5</td>\n      <td>1</td>\n      <td>0.903448</td>\n      <td>1.000000</td>\n      <td>0.688889</td>\n      <td>0.815789</td>\n      <td>0.998444</td>\n      <td>0</td>\n      <td>[[100, 0], [14, 31]]</td>\n      <td>0.000207</td>\n      <td>0</td>\n    </tr>\n    <tr>\n      <th>2</th>\n      <td>LocalOutlierFactor</td>\n      <td>{'algorithm': 'auto', 'contamination': 'auto',...</td>\n      <td>Setosa</td>\n      <td>5</td>\n      <td>2</td>\n      <td>0.758621</td>\n      <td>1.000000</td>\n      <td>0.222222</td>\n      <td>0.363636</td>\n      <td>1.000000</td>\n      <td>0</td>\n      <td>[[100, 0], [35, 10]]</td>\n      <td>0.000207</td>\n      <td>0</td>\n    </tr>\n    <tr>\n      <th>3</th>\n      <td>LocalOutlierFactor</td>\n      <td>{'algorithm': 'auto', 'contamination': 'auto',...</td>\n      <td>Setosa</td>\n      <td>5</td>\n      <td>3</td>\n      <td>0.944828</td>\n      <td>1.000000</td>\n      <td>0.822222</td>\n      <td>0.902439</td>\n      <td>1.000000</td>\n      <td>0</td>\n      <td>[[100, 0], [8, 37]]</td>\n      <td>0.000207</td>\n      <td>0</td>\n    </tr>\n    <tr>\n      <th>4</th>\n      <td>LocalOutlierFactor</td>\n      <td>{'algorithm': 'auto', 'contamination': 'auto',...</td>\n      <td>Setosa</td>\n      <td>5</td>\n      <td>4</td>\n      <td>0.931034</td>\n      <td>1.000000</td>\n      <td>0.777778</td>\n      <td>0.875000</td>\n      <td>1.000000</td>\n      <td>0</td>\n      <td>[[100, 0], [10, 35]]</td>\n      <td>0.000205</td>\n      <td>0</td>\n    </tr>\n    <tr>\n      <th>...</th>\n      <td>...</td>\n      <td>...</td>\n      <td>...</td>\n      <td>...</td>\n      <td>...</td>\n      <td>...</td>\n      <td>...</td>\n      <td>...</td>\n      <td>...</td>\n      <td>...</td>\n      <td>...</td>\n      <td>...</td>\n      <td>...</td>\n      <td>...</td>\n    </tr>\n    <tr>\n      <th>1435</th>\n      <td>LocalOutlierFactor</td>\n      <td>{'algorithm': 'auto', 'contamination': 'auto',...</td>\n      <td>Virginica</td>\n      <td>30</td>\n      <td>5</td>\n      <td>0.700000</td>\n      <td>0.357143</td>\n      <td>1.000000</td>\n      <td>0.526316</td>\n      <td>0.928500</td>\n      <td>0</td>\n      <td>[[64, 36], [0, 20]]</td>\n      <td>0.000209</td>\n      <td>0</td>\n    </tr>\n    <tr>\n      <th>1436</th>\n      <td>LocalOutlierFactor</td>\n      <td>{'algorithm': 'auto', 'contamination': 'auto',...</td>\n      <td>Virginica</td>\n      <td>30</td>\n      <td>6</td>\n      <td>0.766667</td>\n      <td>0.413043</td>\n      <td>0.950000</td>\n      <td>0.575758</td>\n      <td>0.925500</td>\n      <td>0</td>\n      <td>[[73, 27], [1, 19]]</td>\n      <td>0.000213</td>\n      <td>0</td>\n    </tr>\n    <tr>\n      <th>1437</th>\n      <td>LocalOutlierFactor</td>\n      <td>{'algorithm': 'auto', 'contamination': 'auto',...</td>\n      <td>Virginica</td>\n      <td>30</td>\n      <td>7</td>\n      <td>0.691667</td>\n      <td>0.350877</td>\n      <td>1.000000</td>\n      <td>0.519481</td>\n      <td>0.910000</td>\n      <td>0</td>\n      <td>[[63, 37], [0, 20]]</td>\n      <td>0.000209</td>\n      <td>0</td>\n    </tr>\n    <tr>\n      <th>1438</th>\n      <td>LocalOutlierFactor</td>\n      <td>{'algorithm': 'auto', 'contamination': 'auto',...</td>\n      <td>Virginica</td>\n      <td>30</td>\n      <td>8</td>\n      <td>0.658333</td>\n      <td>0.327869</td>\n      <td>1.000000</td>\n      <td>0.493827</td>\n      <td>0.903000</td>\n      <td>0</td>\n      <td>[[59, 41], [0, 20]]</td>\n      <td>0.000208</td>\n      <td>0</td>\n    </tr>\n    <tr>\n      <th>1439</th>\n      <td>LocalOutlierFactor</td>\n      <td>{'algorithm': 'auto', 'contamination': 'auto',...</td>\n      <td>Virginica</td>\n      <td>30</td>\n      <td>9</td>\n      <td>0.666667</td>\n      <td>0.321429</td>\n      <td>0.900000</td>\n      <td>0.473684</td>\n      <td>0.873000</td>\n      <td>0</td>\n      <td>[[62, 38], [2, 18]]</td>\n      <td>0.000209</td>\n      <td>0</td>\n    </tr>\n  </tbody>\n</table>\n<p>1440 rows × 14 columns</p>\n</div>"
     },
     "metadata": {},
     "execution_count": 3
    }
   ],
   "source": [
    "df"
   ]
  },
  {
   "cell_type": "code",
   "execution_count": 4,
   "metadata": {},
   "outputs": [],
   "source": [
    "df_grouped = df.groupby(by=['Algorithm','Parameters','Number_Labeled_Examples'])"
   ]
  },
  {
   "cell_type": "code",
   "execution_count": 5,
   "metadata": {},
   "outputs": [],
   "source": [
    "df_grouped.mean().to_csv('teste.csv')"
   ]
  },
  {
   "cell_type": "code",
   "execution_count": 6,
   "metadata": {},
   "outputs": [],
   "source": [
    "df_restults = pd.read_csv('teste.csv')"
   ]
  },
  {
   "cell_type": "code",
   "execution_count": 13,
   "metadata": {},
   "outputs": [],
   "source": [
    "df_sorted = df_restults.sort_values(by=['F1'], ascending=False)"
   ]
  },
  {
   "cell_type": "code",
   "execution_count": 14,
   "metadata": {},
   "outputs": [
    {
     "output_type": "execute_result",
     "data": {
      "text/plain": [
       "             Algorithm                                         Parameters  \\\n",
       "6   LocalOutlierFactor  {'algorithm': 'auto', 'contamination': 'auto',...   \n",
       "20  LocalOutlierFactor  {'algorithm': 'auto', 'contamination': 'auto',...   \n",
       "12  LocalOutlierFactor  {'algorithm': 'auto', 'contamination': 'auto',...   \n",
       "7   LocalOutlierFactor  {'algorithm': 'auto', 'contamination': 'auto',...   \n",
       "4   LocalOutlierFactor  {'algorithm': 'auto', 'contamination': 'auto',...   \n",
       "16  LocalOutlierFactor  {'algorithm': 'auto', 'contamination': 'auto',...   \n",
       "22  LocalOutlierFactor  {'algorithm': 'auto', 'contamination': 'auto',...   \n",
       "15  LocalOutlierFactor  {'algorithm': 'auto', 'contamination': 'auto',...   \n",
       "8   LocalOutlierFactor  {'algorithm': 'auto', 'contamination': 'auto',...   \n",
       "41  LocalOutlierFactor  {'algorithm': 'auto', 'contamination': 'auto',...   \n",
       "\n",
       "    Number_Labeled_Examples  Iteration  Accuracy  Precision    Recall  \\\n",
       "6                        20        4.5  0.924359   0.840684  0.872222   \n",
       "20                        5        4.5  0.880000   0.790882  0.945185   \n",
       "12                        5        4.5  0.869885   0.778698  0.954815   \n",
       "7                        30        4.5  0.939167   0.821543  0.871667   \n",
       "4                         5        4.5  0.866437   0.783780  0.931111   \n",
       "16                        5        4.5  0.852184   0.741205  0.968148   \n",
       "22                       20        4.5  0.915385   0.845005  0.830000   \n",
       "15                       30        4.5  0.921667   0.757228  0.925000   \n",
       "8                         5        4.5  0.847586   0.749369  0.935556   \n",
       "41                       10        4.5  0.855476   0.740887  0.931667   \n",
       "\n",
       "          F1   ROC_AUC  Building_Time  Classification_Time  Memory  \n",
       "6   0.846814  0.980817            0.0             0.000209     0.0  \n",
       "20  0.844996  0.970993            0.0             0.000208     0.0  \n",
       "12  0.839271  0.971030            0.0             0.000208     0.0  \n",
       "7   0.831751  0.984817            0.0             0.000209     0.0  \n",
       "4   0.830911  0.968785            0.0             0.000208     0.0  \n",
       "16  0.822478  0.971100            0.0             0.000207     0.0  \n",
       "22  0.821685  0.980944            0.0             0.000206     0.0  \n",
       "15  0.813746  0.985317            0.0             0.000208     0.0  \n",
       "8   0.810547  0.959607            0.0             0.000207     0.0  \n",
       "41  0.805747  0.960058            0.0             0.000208     0.0  "
      ],
      "text/html": "<div>\n<style scoped>\n    .dataframe tbody tr th:only-of-type {\n        vertical-align: middle;\n    }\n\n    .dataframe tbody tr th {\n        vertical-align: top;\n    }\n\n    .dataframe thead th {\n        text-align: right;\n    }\n</style>\n<table border=\"1\" class=\"dataframe\">\n  <thead>\n    <tr style=\"text-align: right;\">\n      <th></th>\n      <th>Algorithm</th>\n      <th>Parameters</th>\n      <th>Number_Labeled_Examples</th>\n      <th>Iteration</th>\n      <th>Accuracy</th>\n      <th>Precision</th>\n      <th>Recall</th>\n      <th>F1</th>\n      <th>ROC_AUC</th>\n      <th>Building_Time</th>\n      <th>Classification_Time</th>\n      <th>Memory</th>\n    </tr>\n  </thead>\n  <tbody>\n    <tr>\n      <th>6</th>\n      <td>LocalOutlierFactor</td>\n      <td>{'algorithm': 'auto', 'contamination': 'auto',...</td>\n      <td>20</td>\n      <td>4.5</td>\n      <td>0.924359</td>\n      <td>0.840684</td>\n      <td>0.872222</td>\n      <td>0.846814</td>\n      <td>0.980817</td>\n      <td>0.0</td>\n      <td>0.000209</td>\n      <td>0.0</td>\n    </tr>\n    <tr>\n      <th>20</th>\n      <td>LocalOutlierFactor</td>\n      <td>{'algorithm': 'auto', 'contamination': 'auto',...</td>\n      <td>5</td>\n      <td>4.5</td>\n      <td>0.880000</td>\n      <td>0.790882</td>\n      <td>0.945185</td>\n      <td>0.844996</td>\n      <td>0.970993</td>\n      <td>0.0</td>\n      <td>0.000208</td>\n      <td>0.0</td>\n    </tr>\n    <tr>\n      <th>12</th>\n      <td>LocalOutlierFactor</td>\n      <td>{'algorithm': 'auto', 'contamination': 'auto',...</td>\n      <td>5</td>\n      <td>4.5</td>\n      <td>0.869885</td>\n      <td>0.778698</td>\n      <td>0.954815</td>\n      <td>0.839271</td>\n      <td>0.971030</td>\n      <td>0.0</td>\n      <td>0.000208</td>\n      <td>0.0</td>\n    </tr>\n    <tr>\n      <th>7</th>\n      <td>LocalOutlierFactor</td>\n      <td>{'algorithm': 'auto', 'contamination': 'auto',...</td>\n      <td>30</td>\n      <td>4.5</td>\n      <td>0.939167</td>\n      <td>0.821543</td>\n      <td>0.871667</td>\n      <td>0.831751</td>\n      <td>0.984817</td>\n      <td>0.0</td>\n      <td>0.000209</td>\n      <td>0.0</td>\n    </tr>\n    <tr>\n      <th>4</th>\n      <td>LocalOutlierFactor</td>\n      <td>{'algorithm': 'auto', 'contamination': 'auto',...</td>\n      <td>5</td>\n      <td>4.5</td>\n      <td>0.866437</td>\n      <td>0.783780</td>\n      <td>0.931111</td>\n      <td>0.830911</td>\n      <td>0.968785</td>\n      <td>0.0</td>\n      <td>0.000208</td>\n      <td>0.0</td>\n    </tr>\n    <tr>\n      <th>16</th>\n      <td>LocalOutlierFactor</td>\n      <td>{'algorithm': 'auto', 'contamination': 'auto',...</td>\n      <td>5</td>\n      <td>4.5</td>\n      <td>0.852184</td>\n      <td>0.741205</td>\n      <td>0.968148</td>\n      <td>0.822478</td>\n      <td>0.971100</td>\n      <td>0.0</td>\n      <td>0.000207</td>\n      <td>0.0</td>\n    </tr>\n    <tr>\n      <th>22</th>\n      <td>LocalOutlierFactor</td>\n      <td>{'algorithm': 'auto', 'contamination': 'auto',...</td>\n      <td>20</td>\n      <td>4.5</td>\n      <td>0.915385</td>\n      <td>0.845005</td>\n      <td>0.830000</td>\n      <td>0.821685</td>\n      <td>0.980944</td>\n      <td>0.0</td>\n      <td>0.000206</td>\n      <td>0.0</td>\n    </tr>\n    <tr>\n      <th>15</th>\n      <td>LocalOutlierFactor</td>\n      <td>{'algorithm': 'auto', 'contamination': 'auto',...</td>\n      <td>30</td>\n      <td>4.5</td>\n      <td>0.921667</td>\n      <td>0.757228</td>\n      <td>0.925000</td>\n      <td>0.813746</td>\n      <td>0.985317</td>\n      <td>0.0</td>\n      <td>0.000208</td>\n      <td>0.0</td>\n    </tr>\n    <tr>\n      <th>8</th>\n      <td>LocalOutlierFactor</td>\n      <td>{'algorithm': 'auto', 'contamination': 'auto',...</td>\n      <td>5</td>\n      <td>4.5</td>\n      <td>0.847586</td>\n      <td>0.749369</td>\n      <td>0.935556</td>\n      <td>0.810547</td>\n      <td>0.959607</td>\n      <td>0.0</td>\n      <td>0.000207</td>\n      <td>0.0</td>\n    </tr>\n    <tr>\n      <th>41</th>\n      <td>LocalOutlierFactor</td>\n      <td>{'algorithm': 'auto', 'contamination': 'auto',...</td>\n      <td>10</td>\n      <td>4.5</td>\n      <td>0.855476</td>\n      <td>0.740887</td>\n      <td>0.931667</td>\n      <td>0.805747</td>\n      <td>0.960058</td>\n      <td>0.0</td>\n      <td>0.000208</td>\n      <td>0.0</td>\n    </tr>\n  </tbody>\n</table>\n</div>"
     },
     "metadata": {},
     "execution_count": 14
    }
   ],
   "source": [
    "df_sorted.head(n=10)"
   ]
  },
  {
   "cell_type": "code",
   "execution_count": null,
   "metadata": {},
   "outputs": [],
   "source": []
  }
 ]
}